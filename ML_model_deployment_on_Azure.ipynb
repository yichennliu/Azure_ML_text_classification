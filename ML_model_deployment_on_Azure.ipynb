{
 "cells": [
  {
   "cell_type": "markdown",
   "metadata": {
    "id": "stNLHKrXemTm"
   },
   "source": [
    "# Deploy the trained dummy classifier to Azure\n",
    "# Steps\n",
    "1. Create a config json file to specify the subscription id, resource group, and workspace name\n",
    "2. Register model to Azure machine learning\n",
    "3. Create a Conda environment for scikit-learn model\n",
    "4. Create inference config file\n",
    "5. Create Azure container instance deployment confguration\n",
    "6. Deploy the model"
   ]
  },
  {
   "cell_type": "code",
   "execution_count": 1,
   "metadata": {
    "id": "6kkpa7pvDDU4",
    "colab": {
     "base_uri": "https://localhost:8080/"
    },
    "outputId": "6ff61f81-1529-4f73-e431-c66f9cbc54ed"
   },
   "outputs": [
    {
     "name": "stdout",
     "output_type": "stream",
     "text": [
      "Requirement already satisfied: azureml-sdk in /usr/local/lib/python3.10/dist-packages (1.55.0)\n",
      "Requirement already satisfied: azureml-core~=1.55.0 in /usr/local/lib/python3.10/dist-packages (from azureml-sdk) (1.55.0.post1)\n",
      "Requirement already satisfied: azureml-dataset-runtime[fuse]~=1.55.0 in /usr/local/lib/python3.10/dist-packages (from azureml-sdk) (1.55.0)\n",
      "Requirement already satisfied: azureml-train-core~=1.55.0 in /usr/local/lib/python3.10/dist-packages (from azureml-sdk) (1.55.0)\n",
      "Requirement already satisfied: azureml-train-automl-client~=1.55.0 in /usr/local/lib/python3.10/dist-packages (from azureml-sdk) (1.55.0)\n",
      "Requirement already satisfied: azureml-pipeline~=1.55.0 in /usr/local/lib/python3.10/dist-packages (from azureml-sdk) (1.55.0)\n",
      "Requirement already satisfied: pytz in /usr/local/lib/python3.10/dist-packages (from azureml-core~=1.55.0->azureml-sdk) (2023.4)\n",
      "Requirement already satisfied: backports.tempfile in /usr/local/lib/python3.10/dist-packages (from azureml-core~=1.55.0->azureml-sdk) (1.0)\n",
      "Requirement already satisfied: pathspec<1.0.0 in /usr/local/lib/python3.10/dist-packages (from azureml-core~=1.55.0->azureml-sdk) (0.12.1)\n",
      "Requirement already satisfied: requests[socks]<3.0.0,>=2.19.1 in /usr/local/lib/python3.10/dist-packages (from azureml-core~=1.55.0->azureml-sdk) (2.31.0)\n",
      "Requirement already satisfied: msal<2.0.0,>=1.15.0 in /usr/local/lib/python3.10/dist-packages (from azureml-core~=1.55.0->azureml-sdk) (1.27.0)\n",
      "Requirement already satisfied: msal-extensions<=2.0.0,>=0.3.0 in /usr/local/lib/python3.10/dist-packages (from azureml-core~=1.55.0->azureml-sdk) (1.1.0)\n",
      "Requirement already satisfied: knack<0.12.0 in /usr/local/lib/python3.10/dist-packages (from azureml-core~=1.55.0->azureml-sdk) (0.11.0)\n",
      "Requirement already satisfied: azure-core<2.0.0 in /usr/local/lib/python3.10/dist-packages (from azureml-core~=1.55.0->azureml-sdk) (1.30.1)\n",
      "Requirement already satisfied: pkginfo in /usr/local/lib/python3.10/dist-packages (from azureml-core~=1.55.0->azureml-sdk) (1.10.0)\n",
      "Requirement already satisfied: argcomplete<4 in /usr/local/lib/python3.10/dist-packages (from azureml-core~=1.55.0->azureml-sdk) (3.2.2)\n",
      "Requirement already satisfied: humanfriendly<11.0,>=4.7 in /usr/local/lib/python3.10/dist-packages (from azureml-core~=1.55.0->azureml-sdk) (10.0)\n",
      "Requirement already satisfied: paramiko<4.0.0,>=2.0.8 in /usr/local/lib/python3.10/dist-packages (from azureml-core~=1.55.0->azureml-sdk) (3.4.0)\n",
      "Requirement already satisfied: azure-mgmt-resource<=24.0.0,>=15.0.0 in /usr/local/lib/python3.10/dist-packages (from azureml-core~=1.55.0->azureml-sdk) (23.0.1)\n",
      "Requirement already satisfied: azure-mgmt-containerregistry<11,>=8.2.0 in /usr/local/lib/python3.10/dist-packages (from azureml-core~=1.55.0->azureml-sdk) (10.3.0)\n",
      "Requirement already satisfied: azure-mgmt-storage<=22.0.0,>=16.0.0 in /usr/local/lib/python3.10/dist-packages (from azureml-core~=1.55.0->azureml-sdk) (21.1.0)\n",
      "Requirement already satisfied: azure-mgmt-keyvault<11.0.0,>=0.40.0 in /usr/local/lib/python3.10/dist-packages (from azureml-core~=1.55.0->azureml-sdk) (10.3.0)\n",
      "Requirement already satisfied: azure-mgmt-authorization<5,>=0.40.0 in /usr/local/lib/python3.10/dist-packages (from azureml-core~=1.55.0->azureml-sdk) (4.0.0)\n",
      "Requirement already satisfied: azure-mgmt-network<=25.2.0 in /usr/local/lib/python3.10/dist-packages (from azureml-core~=1.55.0->azureml-sdk) (25.2.0)\n",
      "Requirement already satisfied: azure-graphrbac<1.0.0,>=0.40.0 in /usr/local/lib/python3.10/dist-packages (from azureml-core~=1.55.0->azureml-sdk) (0.61.1)\n",
      "Requirement already satisfied: azure-common<2.0.0,>=1.1.12 in /usr/local/lib/python3.10/dist-packages (from azureml-core~=1.55.0->azureml-sdk) (1.1.28)\n",
      "Requirement already satisfied: msrest<=0.7.1,>=0.5.1 in /usr/local/lib/python3.10/dist-packages (from azureml-core~=1.55.0->azureml-sdk) (0.7.1)\n",
      "Requirement already satisfied: msrestazure<=0.6.4,>=0.4.33 in /usr/local/lib/python3.10/dist-packages (from azureml-core~=1.55.0->azureml-sdk) (0.6.4)\n",
      "Requirement already satisfied: urllib3<3.0.0,>1.26.17 in /usr/local/lib/python3.10/dist-packages (from azureml-core~=1.55.0->azureml-sdk) (2.0.7)\n",
      "Requirement already satisfied: packaging<=24.0,>=20.0 in /usr/local/lib/python3.10/dist-packages (from azureml-core~=1.55.0->azureml-sdk) (23.2)\n",
      "Requirement already satisfied: python-dateutil<3.0.0,>=2.7.3 in /usr/local/lib/python3.10/dist-packages (from azureml-core~=1.55.0->azureml-sdk) (2.8.2)\n",
      "Requirement already satisfied: ndg-httpsclient<=0.5.1 in /usr/local/lib/python3.10/dist-packages (from azureml-core~=1.55.0->azureml-sdk) (0.5.1)\n",
      "Requirement already satisfied: SecretStorage<4.0.0 in /usr/lib/python3/dist-packages (from azureml-core~=1.55.0->azureml-sdk) (3.3.1)\n",
      "Requirement already satisfied: jsonpickle<4.0.0 in /usr/local/lib/python3.10/dist-packages (from azureml-core~=1.55.0->azureml-sdk) (3.0.3)\n",
      "Requirement already satisfied: contextlib2<22.0.0 in /usr/local/lib/python3.10/dist-packages (from azureml-core~=1.55.0->azureml-sdk) (21.6.0)\n",
      "Requirement already satisfied: docker<8.0.0 in /usr/local/lib/python3.10/dist-packages (from azureml-core~=1.55.0->azureml-sdk) (7.0.0)\n",
      "Requirement already satisfied: PyJWT<3.0.0 in /usr/lib/python3/dist-packages (from azureml-core~=1.55.0->azureml-sdk) (2.3.0)\n",
      "Requirement already satisfied: adal<=1.2.7,>=1.2.0 in /usr/local/lib/python3.10/dist-packages (from azureml-core~=1.55.0->azureml-sdk) (1.2.7)\n",
      "Requirement already satisfied: pyopenssl<25.0.0 in /usr/local/lib/python3.10/dist-packages (from azureml-core~=1.55.0->azureml-sdk) (24.0.0)\n",
      "Requirement already satisfied: jmespath<2.0.0 in /usr/local/lib/python3.10/dist-packages (from azureml-core~=1.55.0->azureml-sdk) (1.0.1)\n",
      "Requirement already satisfied: azureml-dataprep<5.2.0a,>=5.1.0a in /usr/local/lib/python3.10/dist-packages (from azureml-dataset-runtime[fuse]~=1.55.0->azureml-sdk) (5.1.6)\n",
      "Requirement already satisfied: pyarrow>=0.17.0 in /usr/local/lib/python3.10/dist-packages (from azureml-dataset-runtime[fuse]~=1.55.0->azureml-sdk) (14.0.2)\n",
      "Requirement already satisfied: numpy!=1.19.3,<1.24 in /usr/local/lib/python3.10/dist-packages (from azureml-dataset-runtime[fuse]~=1.55.0->azureml-sdk) (1.23.5)\n",
      "Requirement already satisfied: fusepy<4.0.0,>=3.0.1 in /usr/local/lib/python3.10/dist-packages (from azureml-dataset-runtime[fuse]~=1.55.0->azureml-sdk) (3.0.1)\n",
      "Requirement already satisfied: azureml-pipeline-core~=1.55.0 in /usr/local/lib/python3.10/dist-packages (from azureml-pipeline~=1.55.0->azureml-sdk) (1.55.0)\n",
      "Requirement already satisfied: azureml-pipeline-steps~=1.55.0 in /usr/local/lib/python3.10/dist-packages (from azureml-pipeline~=1.55.0->azureml-sdk) (1.55.0)\n",
      "Requirement already satisfied: azureml-automl-core~=1.55.0 in /usr/local/lib/python3.10/dist-packages (from azureml-train-automl-client~=1.55.0->azureml-sdk) (1.55.0.post1)\n",
      "Requirement already satisfied: azureml-telemetry~=1.55.0 in /usr/local/lib/python3.10/dist-packages (from azureml-train-automl-client~=1.55.0->azureml-sdk) (1.55.0)\n",
      "Requirement already satisfied: azureml-train-restclients-hyperdrive~=1.55.0 in /usr/local/lib/python3.10/dist-packages (from azureml-train-core~=1.55.0->azureml-sdk) (1.55.0)\n",
      "Requirement already satisfied: cryptography>=1.1.0 in /usr/local/lib/python3.10/dist-packages (from adal<=1.2.7,>=1.2.0->azureml-core~=1.55.0->azureml-sdk) (42.0.5)\n",
      "Requirement already satisfied: six>=1.11.0 in /usr/local/lib/python3.10/dist-packages (from azure-core<2.0.0->azureml-core~=1.55.0->azureml-sdk) (1.16.0)\n",
      "Requirement already satisfied: typing-extensions>=4.6.0 in /usr/local/lib/python3.10/dist-packages (from azure-core<2.0.0->azureml-core~=1.55.0->azureml-sdk) (4.10.0)\n",
      "Requirement already satisfied: isodate<1.0.0,>=0.6.1 in /usr/local/lib/python3.10/dist-packages (from azure-mgmt-authorization<5,>=0.40.0->azureml-core~=1.55.0->azureml-sdk) (0.6.1)\n",
      "Requirement already satisfied: azure-mgmt-core<2.0.0,>=1.3.2 in /usr/local/lib/python3.10/dist-packages (from azure-mgmt-authorization<5,>=0.40.0->azureml-core~=1.55.0->azureml-sdk) (1.4.0)\n",
      "Requirement already satisfied: azureml-dataprep-native<42.0.0,>=41.0.0 in /usr/local/lib/python3.10/dist-packages (from azureml-dataprep<5.2.0a,>=5.1.0a->azureml-dataset-runtime[fuse]~=1.55.0->azureml-sdk) (41.0.0)\n",
      "Requirement already satisfied: azureml-dataprep-rslex~=2.22.2dev0 in /usr/local/lib/python3.10/dist-packages (from azureml-dataprep<5.2.0a,>=5.1.0a->azureml-dataset-runtime[fuse]~=1.55.0->azureml-sdk) (2.22.2)\n",
      "Requirement already satisfied: cloudpickle<3.0.0,>=1.1.0 in /usr/local/lib/python3.10/dist-packages (from azureml-dataprep<5.2.0a,>=5.1.0a->azureml-dataset-runtime[fuse]~=1.55.0->azureml-sdk) (2.2.1)\n",
      "Requirement already satisfied: azure-identity>=1.7.0 in /usr/local/lib/python3.10/dist-packages (from azureml-dataprep<5.2.0a,>=5.1.0a->azureml-dataset-runtime[fuse]~=1.55.0->azureml-sdk) (1.15.0)\n",
      "Requirement already satisfied: jsonschema in /usr/local/lib/python3.10/dist-packages (from azureml-dataprep<5.2.0a,>=5.1.0a->azureml-dataset-runtime[fuse]~=1.55.0->azureml-sdk) (4.19.2)\n",
      "Requirement already satisfied: pyyaml<7.0.0,>=5.1.0 in /usr/local/lib/python3.10/dist-packages (from azureml-dataprep<5.2.0a,>=5.1.0a->azureml-dataset-runtime[fuse]~=1.55.0->azureml-sdk) (6.0.1)\n",
      "Requirement already satisfied: applicationinsights in /usr/local/lib/python3.10/dist-packages (from azureml-telemetry~=1.55.0->azureml-train-automl-client~=1.55.0->azureml-sdk) (0.11.10)\n",
      "Requirement already satisfied: pygments in /usr/local/lib/python3.10/dist-packages (from knack<0.12.0->azureml-core~=1.55.0->azureml-sdk) (2.16.1)\n",
      "Requirement already satisfied: tabulate in /usr/local/lib/python3.10/dist-packages (from knack<0.12.0->azureml-core~=1.55.0->azureml-sdk) (0.9.0)\n",
      "Requirement already satisfied: portalocker<3,>=1.0 in /usr/local/lib/python3.10/dist-packages (from msal-extensions<=2.0.0,>=0.3.0->azureml-core~=1.55.0->azureml-sdk) (2.8.2)\n",
      "Requirement already satisfied: certifi>=2017.4.17 in /usr/local/lib/python3.10/dist-packages (from msrest<=0.7.1,>=0.5.1->azureml-core~=1.55.0->azureml-sdk) (2024.2.2)\n",
      "Requirement already satisfied: requests-oauthlib>=0.5.0 in /usr/local/lib/python3.10/dist-packages (from msrest<=0.7.1,>=0.5.1->azureml-core~=1.55.0->azureml-sdk) (1.3.1)\n",
      "Requirement already satisfied: pyasn1>=0.1.1 in /usr/local/lib/python3.10/dist-packages (from ndg-httpsclient<=0.5.1->azureml-core~=1.55.0->azureml-sdk) (0.5.1)\n",
      "Requirement already satisfied: bcrypt>=3.2 in /usr/local/lib/python3.10/dist-packages (from paramiko<4.0.0,>=2.0.8->azureml-core~=1.55.0->azureml-sdk) (4.1.2)\n",
      "Requirement already satisfied: pynacl>=1.5 in /usr/local/lib/python3.10/dist-packages (from paramiko<4.0.0,>=2.0.8->azureml-core~=1.55.0->azureml-sdk) (1.5.0)\n",
      "Requirement already satisfied: charset-normalizer<4,>=2 in /usr/local/lib/python3.10/dist-packages (from requests[socks]<3.0.0,>=2.19.1->azureml-core~=1.55.0->azureml-sdk) (3.3.2)\n",
      "Requirement already satisfied: idna<4,>=2.5 in /usr/local/lib/python3.10/dist-packages (from requests[socks]<3.0.0,>=2.19.1->azureml-core~=1.55.0->azureml-sdk) (3.6)\n",
      "Requirement already satisfied: PySocks!=1.5.7,>=1.5.6 in /usr/local/lib/python3.10/dist-packages (from requests[socks]<3.0.0,>=2.19.1->azureml-core~=1.55.0->azureml-sdk) (1.7.1)\n",
      "Requirement already satisfied: backports.weakref in /usr/local/lib/python3.10/dist-packages (from backports.tempfile->azureml-core~=1.55.0->azureml-sdk) (1.0.post1)\n",
      "Requirement already satisfied: cffi>=1.12 in /usr/local/lib/python3.10/dist-packages (from cryptography>=1.1.0->adal<=1.2.7,>=1.2.0->azureml-core~=1.55.0->azureml-sdk) (1.16.0)\n",
      "Requirement already satisfied: oauthlib>=3.0.0 in /usr/local/lib/python3.10/dist-packages (from requests-oauthlib>=0.5.0->msrest<=0.7.1,>=0.5.1->azureml-core~=1.55.0->azureml-sdk) (3.2.2)\n",
      "Requirement already satisfied: attrs>=22.2.0 in /usr/local/lib/python3.10/dist-packages (from jsonschema->azureml-dataprep<5.2.0a,>=5.1.0a->azureml-dataset-runtime[fuse]~=1.55.0->azureml-sdk) (23.2.0)\n",
      "Requirement already satisfied: jsonschema-specifications>=2023.03.6 in /usr/local/lib/python3.10/dist-packages (from jsonschema->azureml-dataprep<5.2.0a,>=5.1.0a->azureml-dataset-runtime[fuse]~=1.55.0->azureml-sdk) (2023.12.1)\n",
      "Requirement already satisfied: referencing>=0.28.4 in /usr/local/lib/python3.10/dist-packages (from jsonschema->azureml-dataprep<5.2.0a,>=5.1.0a->azureml-dataset-runtime[fuse]~=1.55.0->azureml-sdk) (0.33.0)\n",
      "Requirement already satisfied: rpds-py>=0.7.1 in /usr/local/lib/python3.10/dist-packages (from jsonschema->azureml-dataprep<5.2.0a,>=5.1.0a->azureml-dataset-runtime[fuse]~=1.55.0->azureml-sdk) (0.18.0)\n",
      "Requirement already satisfied: pycparser in /usr/local/lib/python3.10/dist-packages (from cffi>=1.12->cryptography>=1.1.0->adal<=1.2.7,>=1.2.0->azureml-core~=1.55.0->azureml-sdk) (2.21)\n"
     ]
    }
   ],
   "source": [
    "!pip install azureml-sdk"
   ]
  },
  {
   "cell_type": "code",
   "execution_count": 2,
   "metadata": {
    "id": "pARvsjbZDJmi"
   },
   "outputs": [],
   "source": [
    "import os\n",
    "import json\n",
    "import requests\n",
    "\n",
    "from azureml.core import Workspace\n",
    "from azureml.core.model import Model\n",
    "from azureml.core.environment import Environment\n",
    "from azureml.core.conda_dependencies import CondaDependencies\n",
    "from azureml.core.model import InferenceConfig\n",
    "from azureml.core.webservice import AciWebservice, Webservice"
   ]
  },
  {
   "cell_type": "code",
   "execution_count": 3,
   "metadata": {
    "id": "OlaeYd2xDP2n"
   },
   "outputs": [],
   "source": [
    "# laoding subscription id, resource group, and work space names from config file\n",
    "config_file_path = \"config.json\"\n",
    "\n",
    "with open(config_file_path, 'r') as file:\n",
    "    data = json.load(file)\n",
    "\n",
    "subscription_id = data[\"subscription_id\"]\n",
    "resource_group = data[\"resource_group\"]\n",
    "workspace_name = data[\"workspace_name\"]\n",
    "region = data[\"region\"]"
   ]
  },
  {
   "cell_type": "code",
   "execution_count": 4,
   "metadata": {
    "id": "XaZm-6MSDSH_",
    "colab": {
     "base_uri": "https://localhost:8080/"
    },
    "outputId": "c4769f77-737c-485d-e6ad-9ac49472fd86"
   },
   "outputs": [
    {
     "name": "stdout",
     "output_type": "stream",
     "text": [
      "dummy-classification-rg\n",
      "dummy-model-classification-testws\n",
      "westeurope\n"
     ]
    }
   ],
   "source": [
    "print(resource_group)\n",
    "print(workspace_name)\n",
    "print(region)"
   ]
  },
  {
   "cell_type": "code",
   "execution_count": 5,
   "metadata": {
    "colab": {
     "base_uri": "https://localhost:8080/"
    },
    "id": "Wt3LXBsBtKLm",
    "outputId": "1f9df351-3bf9-4074-c93d-912bbe1eb597"
   },
   "outputs": [
    {
     "name": "stdout",
     "output_type": "stream",
     "text": [
      "Performing interactive authentication. Please follow the instructions on the terminal.\n"
     ]
    },
    {
     "name": "stderr",
     "output_type": "stream",
     "text": [
      "WARNING:azureml._vendor.azure_cli_core.auth.identity:To sign in, use a web browser to open the page https://microsoft.com/devicelogin and enter the code BANBXUCXH to authenticate.\n"
     ]
    },
    {
     "name": "stdout",
     "output_type": "stream",
     "text": [
      "Interactive authentication successfully completed.\n"
     ]
    },
    {
     "name": "stderr",
     "output_type": "stream",
     "text": [
      "UserWarning: The resource group doesn't exist or was not provided. AzureML SDK is creating a resource group=dummy-classification-rg in location=westeurope using subscription=13eb68c6-fed2-4d5d-b478-dd7c321eae0c.\n"
     ]
    },
    {
     "name": "stdout",
     "output_type": "stream",
     "text": [
      "Deploying StorageAccount with name dummymodstorage6ed858f66.\n",
      "Deploying AppInsights with name dummymodinsights5df00d2d.\n",
      "Deployed AppInsights with name dummymodinsights5df00d2d. Took 4.55 seconds.\n",
      "Deploying KeyVault with name dummymodkeyvault5a48f952.\n",
      "Deployed KeyVault with name dummymodkeyvault5a48f952. Took 19.59 seconds.\n",
      "Deploying Workspace with name dummy-model-classification-testws.\n",
      "Deployed StorageAccount with name dummymodstorage6ed858f66. Took 24.15 seconds.\n",
      "Deployed Workspace with name dummy-model-classification-testws. Took 22.09 seconds.\n"
     ]
    }
   ],
   "source": [
    "# Create workspace\n",
    "ws = Workspace.create(name=workspace_name,\n",
    "                      subscription_id=subscription_id,\n",
    "                      resource_group=resource_group,\n",
    "                      location=region)"
   ]
  },
  {
   "cell_type": "code",
   "execution_count": 6,
   "metadata": {
    "id": "T95Xv82MDYNG"
   },
   "outputs": [],
   "source": [
    "model_path = 'dummy_classifier.pkl'"
   ]
  },
  {
   "cell_type": "code",
   "execution_count": 7,
   "metadata": {
    "id": "TxA98gXPDcVw"
   },
   "outputs": [],
   "source": [
    "model_name='dummy_classification_model'"
   ]
  },
  {
   "cell_type": "code",
   "execution_count": 8,
   "metadata": {
    "id": "-wEwY0TVDnvH",
    "colab": {
     "base_uri": "https://localhost:8080/"
    },
    "outputId": "6e21d2c5-be05-4fb9-85da-67aa9a8e9ca2"
   },
   "outputs": [
    {
     "name": "stdout",
     "output_type": "stream",
     "text": [
      "Registering model dummy_classification_model\n"
     ]
    }
   ],
   "source": [
    "# Register the model in Azure Machine Learning\n",
    "registered_model = Model.register(model_path=model_path, model_name=model_name, workspace=ws)"
   ]
  },
  {
   "cell_type": "code",
   "execution_count": 9,
   "metadata": {
    "id": "Bl2gsRLuDrmk"
   },
   "outputs": [],
   "source": [
    "# Create a Conda environment for scikit-learn model\n",
    "conda_env = Environment('my-conda-env')\n",
    "conda_env.python.conda_dependencies = CondaDependencies.create(conda_packages=['scikit-learn'])"
   ]
  },
  {
   "cell_type": "code",
   "execution_count": 10,
   "metadata": {
    "id": "F0wN8r7QDuxv"
   },
   "outputs": [],
   "source": [
    "# Create an InferenceConfig\n",
    "inference_config = InferenceConfig(entry_script='score.py', environment=conda_env)"
   ]
  },
  {
   "cell_type": "code",
   "execution_count": 11,
   "metadata": {
    "id": "llaDa7R7DxTP"
   },
   "outputs": [],
   "source": [
    "# Specify deployment configuration for ACI\n",
    "aci_config = AciWebservice.deploy_configuration(cpu_cores=1, memory_gb=1)"
   ]
  },
  {
   "cell_type": "code",
   "execution_count": 12,
   "metadata": {
    "colab": {
     "base_uri": "https://localhost:8080/"
    },
    "outputId": "79892df5-08d7-4daf-fcd7-22ada8ed2482",
    "id": "pFhDTSYvEwBy"
   },
   "outputs": [
    {
     "name": "stderr",
     "output_type": "stream",
     "text": [
      "<ipython-input-12-fae74a9b8007>:2: FutureWarning: azureml.core.model:\n",
      "To leverage new model deployment capabilities, AzureML recommends using CLI/SDK v2 to deploy models as online endpoint, \n",
      "please refer to respective documentations \n",
      "https://docs.microsoft.com/azure/machine-learning/how-to-deploy-managed-online-endpoints /\n",
      "https://docs.microsoft.com/azure/machine-learning/how-to-attach-kubernetes-anywhere \n",
      "For more information on migration, see https://aka.ms/acimoemigration \n",
      "To disable CLI/SDK v1 deprecation warning set AZUREML_LOG_DEPRECATION_WARNING_ENABLED to 'False'\n",
      "  service = Model.deploy(workspace=ws,\n"
     ]
    },
    {
     "name": "stdout",
     "output_type": "stream",
     "text": [
      "Tips: You can try get_logs(): https://aka.ms/debugimage#dockerlog or local deployment: https://aka.ms/debugimage#debug-locally to debug if deployment takes longer than 10 minutes.\n",
      "Running\n",
      "2024-03-03 17:43:09+00:00 Creating Container Registry if not exists..\n",
      "2024-03-03 17:53:10+00:00 Registering the environment..\n",
      "2024-03-03 17:53:11+00:00 Building image..\n",
      "2024-03-03 18:03:05+00:00 Generating deployment configuration.\n",
      "2024-03-03 18:03:06+00:00 Submitting deployment to compute..\n",
      "2024-03-03 18:03:11+00:00 Checking the status of deployment text-classification-service..\n",
      "2024-03-03 18:04:42+00:00 Checking the status of inference endpoint text-classification-service.\n",
      "Succeeded\n",
      "ACI service creation operation finished, operation \"Succeeded\"\n"
     ]
    }
   ],
   "source": [
    "# Deployment\n",
    "service = Model.deploy(workspace=ws,\n",
    "                       name='text-classification-service',\n",
    "                       models=[registered_model],\n",
    "                       inference_config=inference_config,\n",
    "                       deployment_config=aci_config)\n",
    "service.wait_for_deployment(show_output=True)"
   ]
  },
  {
   "cell_type": "code",
   "execution_count": 13,
   "metadata": {
    "colab": {
     "base_uri": "https://localhost:8080/"
    },
    "outputId": "62730a22-d638-4b04-c7a6-5ea3d2d6f9a5",
    "id": "-8Mkh7fqE5MK"
   },
   "outputs": [
    {
     "name": "stdout",
     "output_type": "stream",
     "text": [
      "/bin/bash: /azureml-envs/azureml_c0ce3e6b048e85d1440ae5b5f8420e29/lib/libtinfo.so.6: no version information available (required by /bin/bash)\n",
      "/bin/bash: /azureml-envs/azureml_c0ce3e6b048e85d1440ae5b5f8420e29/lib/libtinfo.so.6: no version information available (required by /bin/bash)\n",
      "/bin/bash: /azureml-envs/azureml_c0ce3e6b048e85d1440ae5b5f8420e29/lib/libtinfo.so.6: no version information available (required by /bin/bash)\n",
      "2024-03-03T18:04:31,477634100+00:00 - gunicorn/run \n",
      "2024-03-03T18:04:31,473975500+00:00 - rsyslog/run \n",
      "2024-03-03T18:04:31,487254500+00:00 | gunicorn/run | \n",
      "2024-03-03T18:04:31,500529100+00:00 | gunicorn/run | ###############################################\n",
      "bash: /azureml-envs/azureml_c0ce3e6b048e85d1440ae5b5f8420e29/lib/libtinfo.so.6: no version information available (required by bash)\n",
      "2024-03-03T18:04:31,503321200+00:00 - nginx/run \n",
      "2024-03-03T18:04:31,508750900+00:00 | gunicorn/run | AzureML Container Runtime Information\n",
      "2024-03-03T18:04:31,511399800+00:00 | gunicorn/run | ###############################################\n",
      "2024-03-03T18:04:31,517871200+00:00 | gunicorn/run | \n",
      "2024-03-03T18:04:31,521045900+00:00 | gunicorn/run | \n",
      "2024-03-03T18:04:31,534214000+00:00 | gunicorn/run | AzureML image information: openmpi4.1.0-ubuntu20.04, Materializaton Build:20240109.v2\n",
      "2024-03-03T18:04:31,539140900+00:00 | gunicorn/run | \n",
      "2024-03-03T18:04:31,543159300+00:00 | gunicorn/run | \n",
      "2024-03-03T18:04:31,545010900+00:00 | gunicorn/run | PATH environment variable: /azureml-envs/azureml_c0ce3e6b048e85d1440ae5b5f8420e29/bin:/opt/miniconda/bin:/usr/local/sbin:/usr/local/bin:/usr/sbin:/usr/bin:/sbin:/bin\n",
      "2024-03-03T18:04:31,551377100+00:00 | gunicorn/run | PYTHONPATH environment variable: \n",
      "2024-03-03T18:04:31,554764200+00:00 | gunicorn/run | \n",
      "2024-03-03T18:04:34,659392353+00:00 | gunicorn/run | CONDAPATH environment variable: /opt/miniconda\n",
      "\n",
      "# conda environments:\n",
      "#\n",
      "                      *  /azureml-envs/azureml_c0ce3e6b048e85d1440ae5b5f8420e29\n",
      "base                     /opt/miniconda\n",
      "\n",
      "2024-03-03T18:04:36,214979728+00:00 | gunicorn/run | \n",
      "2024-03-03T18:04:36,220933327+00:00 | gunicorn/run | Pip Dependencies (before dynamic installation)\n",
      "\n",
      "adal==1.2.7\n",
      "argcomplete==3.2.2\n",
      "attrs==23.2.0\n",
      "azure-common==1.1.28\n",
      "azure-core==1.30.1\n",
      "azure-graphrbac==0.61.1\n",
      "azure-identity==1.15.0\n",
      "azure-mgmt-authorization==4.0.0\n",
      "azure-mgmt-containerregistry==10.3.0\n",
      "azure-mgmt-core==1.4.0\n",
      "azure-mgmt-keyvault==10.3.0\n",
      "azure-mgmt-network==25.2.0\n",
      "azure-mgmt-resource==23.0.1\n",
      "azure-mgmt-storage==21.1.0\n",
      "azureml-core==1.55.0.post1\n",
      "azureml-dataprep==5.1.6\n",
      "azureml-dataprep-native==41.0.0\n",
      "azureml-dataprep-rslex==2.22.2\n",
      "azureml-dataset-runtime==1.55.0\n",
      "azureml-defaults==1.55.0\n",
      "azureml-inference-server-http==1.0.0\n",
      "backports.tempfile==1.0\n",
      "backports.weakref==1.0.post1\n",
      "bcrypt==4.1.2\n",
      "Brotli @ file:///tmp/abs_ecyw11_7ze/croots/recipe/brotli-split_1659616059936/work\n",
      "cachetools==5.3.3\n",
      "certifi @ file:///croot/certifi_1700501669400/work/certifi\n",
      "cffi @ file:///tmp/abs_98z5h56wf8/croots/recipe/cffi_1659598650955/work\n",
      "charset-normalizer @ file:///tmp/build/80754af9/charset-normalizer_1630003229654/work\n",
      "click==8.1.7\n",
      "cloudpickle==2.2.1\n",
      "contextlib2==21.6.0\n",
      "cryptography @ file:///croot/cryptography_1694444244250/work\n",
      "docker==7.0.0\n",
      "Flask==2.2.5\n",
      "Flask-Cors==3.0.10\n",
      "fusepy==3.0.1\n",
      "google-api-core==2.17.1\n",
      "google-auth==2.28.1\n",
      "googleapis-common-protos==1.62.0\n",
      "gunicorn==20.1.0\n",
      "humanfriendly==10.0\n",
      "idna @ file:///croot/idna_1666125576474/work\n",
      "importlib-metadata==7.0.1\n",
      "importlib_resources==6.1.2\n",
      "inference-schema==1.7.1\n",
      "isodate==0.6.1\n",
      "itsdangerous==2.1.2\n",
      "jeepney==0.8.0\n",
      "Jinja2==3.1.3\n",
      "jmespath==1.0.1\n",
      "joblib @ file:///croot/joblib_1685113087166/work\n",
      "jsonpickle==3.0.3\n",
      "jsonschema==4.21.1\n",
      "jsonschema-specifications==2023.12.1\n",
      "knack==0.11.0\n",
      "MarkupSafe==2.1.5\n",
      "msal==1.27.0\n",
      "msal-extensions==1.1.0\n",
      "msrest==0.7.1\n",
      "msrestazure==0.6.4\n",
      "ndg-httpsclient==0.5.1\n",
      "numpy==1.23.5\n",
      "oauthlib==3.2.2\n",
      "opencensus==0.11.4\n",
      "opencensus-context==0.1.3\n",
      "opencensus-ext-azure==1.1.13\n",
      "packaging @ file:///croot/packaging_1693575174725/work\n",
      "paramiko==3.4.0\n",
      "pathspec==0.12.1\n",
      "pkginfo==1.10.0\n",
      "pkgutil_resolve_name==1.3.10\n",
      "platformdirs @ file:///croot/platformdirs_1692205439124/work\n",
      "pooch @ file:///croot/pooch_1695850093751/work\n",
      "portalocker==2.8.2\n",
      "protobuf==4.25.3\n",
      "psutil==5.9.8\n",
      "pyarrow==15.0.0\n",
      "pyasn1==0.5.1\n",
      "pyasn1-modules==0.3.0\n",
      "pycparser @ file:///tmp/build/80754af9/pycparser_1636541352034/work\n",
      "pydantic==1.10.14\n",
      "Pygments==2.17.2\n",
      "PyJWT==2.8.0\n",
      "PyNaCl==1.5.0\n",
      "pyOpenSSL @ file:///croot/pyopenssl_1690223430423/work\n",
      "PySocks @ file:///tmp/build/80754af9/pysocks_1605305779399/work\n",
      "python-dateutil==2.9.0.post0\n",
      "pytz==2024.1\n",
      "PyYAML==6.0.1\n",
      "referencing==0.33.0\n",
      "requests @ file:///croot/requests_1690400202158/work\n",
      "requests-oauthlib==1.3.1\n",
      "rpds-py==0.18.0\n",
      "rsa==4.9\n",
      "scikit-learn @ file:///croot/scikit-learn_1690978916802/work\n",
      "scipy==1.10.1\n",
      "SecretStorage==3.3.3\n",
      "six==1.16.0\n",
      "tabulate==0.9.0\n",
      "threadpoolctl @ file:///Users/ktietz/demo/mc3/conda-bld/threadpoolctl_1629802263681/work\n",
      "typing_extensions==4.10.0\n",
      "urllib3 @ file:///croot/urllib3_1698257533958/work\n",
      "Werkzeug==3.0.1\n",
      "wrapt==1.16.0\n",
      "zipp==3.17.0\n",
      "\n",
      "2024-03-03T18:04:37,504509856+00:00 | gunicorn/run | \n",
      "2024-03-03T18:04:37,506642456+00:00 | gunicorn/run | Entry script directory: /var/azureml-app/.\n",
      "2024-03-03T18:04:37,509479656+00:00 | gunicorn/run | \n",
      "2024-03-03T18:04:37,514477356+00:00 | gunicorn/run | ###############################################\n",
      "2024-03-03T18:04:37,516007156+00:00 | gunicorn/run | Dynamic Python Package Installation\n",
      "2024-03-03T18:04:37,521904756+00:00 | gunicorn/run | ###############################################\n",
      "2024-03-03T18:04:37,523543556+00:00 | gunicorn/run | \n",
      "2024-03-03T18:04:37,525261156+00:00 | gunicorn/run | Dynamic Python package installation is disabled.\n",
      "2024-03-03T18:04:37,532064656+00:00 | gunicorn/run | \n",
      "2024-03-03T18:04:37,533699156+00:00 | gunicorn/run | ###############################################\n",
      "2024-03-03T18:04:37,535366456+00:00 | gunicorn/run | Checking if the Python package azureml-inference-server-http is installed\n",
      "2024-03-03T18:04:37,541847956+00:00 | gunicorn/run | ###############################################\n",
      "2024-03-03T18:04:37,543311856+00:00 | gunicorn/run | \n",
      "2024-03-03T18:04:39,300249856+00:00 | gunicorn/run | \n",
      "2024-03-03T18:04:39,302616456+00:00 | gunicorn/run | ###############################################\n",
      "2024-03-03T18:04:39,308695556+00:00 | gunicorn/run | AzureML Inference Server\n",
      "2024-03-03T18:04:39,310774856+00:00 | gunicorn/run | ###############################################\n",
      "2024-03-03T18:04:39,313144856+00:00 | gunicorn/run | \n",
      "2024-03-03T18:04:39,319187956+00:00 | gunicorn/run | Starting AzureML Inference Server HTTP.\n",
      "2024-03-03 18:04:39,722 I [78] azmlinfsrv - Loaded logging config from /azureml-envs/azureml_c0ce3e6b048e85d1440ae5b5f8420e29/lib/python3.8/site-packages/azureml_inference_server_http/logging.json\n",
      "2024-03-03 18:04:39,888 I [78] gunicorn.error - Starting gunicorn 20.1.0\n",
      "2024-03-03 18:04:39,889 I [78] gunicorn.error - Listening at: http://0.0.0.0:31311 (78)\n",
      "2024-03-03 18:04:39,889 I [78] gunicorn.error - Using worker: sync\n",
      "2024-03-03 18:04:39,896 I [139] gunicorn.error - Booting worker with pid: 139\n",
      "\n",
      "Azure ML Inferencing HTTP server v1.0.0\n",
      "\n",
      "\n",
      "Server Settings\n",
      "---------------\n",
      "Entry Script Name: /var/azureml-app/score.py\n",
      "Model Directory: /var/azureml-app/azureml-models/dummy_classification_model/1\n",
      "Config File: None\n",
      "Worker Count: 1\n",
      "Worker Timeout (seconds): 300\n",
      "Server Port: 31311\n",
      "Health Port: 31311\n",
      "Application Insights Enabled: false\n",
      "Application Insights Key: None\n",
      "Inferencing HTTP server version: azmlinfsrv/1.0.0\n",
      "CORS for the specified origins: None\n",
      "Create dedicated endpoint for health: None\n",
      "\n",
      "\n",
      "Server Routes\n",
      "---------------\n",
      "Liveness Probe: GET   127.0.0.1:31311/\n",
      "Score:          POST  127.0.0.1:31311/score\n",
      "\n",
      "2024-03-03 18:04:40,735 I [139] azmlinfsrv - AML_FLASK_ONE_COMPATIBILITY is set. Patched Flask to ensure compatibility with Flask 1.\n",
      "Initializing logger\n",
      "2024-03-03 18:04:40,737 I [139] azmlinfsrv - Starting up app insights client\n",
      "2024-03-03 18:04:42,599 I [139] azmlinfsrv.user_script - Found user script at /var/azureml-app/score.py\n",
      "2024-03-03 18:04:42,600 I [139] azmlinfsrv.user_script - run() is not decorated. Server will invoke it with the input in JSON string.\n",
      "2024-03-03 18:04:42,600 I [139] azmlinfsrv.user_script - Invoking user's init function\n",
      "2024-03-03 18:04:43,636 I [139] azmlinfsrv.user_script - Users's init has completed successfully\n",
      "2024-03-03 18:04:43,640 I [139] azmlinfsrv.swagger - Swaggers are prepared for the following versions: [2, 3, 3.1].\n",
      "2024-03-03 18:04:43,641 I [139] azmlinfsrv - Scoring timeout is set to 60000\n",
      "2024-03-03 18:04:43,642 I [139] azmlinfsrv - Worker with pid 139 ready for serving traffic\n",
      "2024-03-03 18:04:43,646 W [139] azmlinfsrv - x-ms-request-id header has been deprecated and will be removed from future versions of the server. Please use x-ms-client-request-id.\n",
      "2024-03-03 18:04:43,647 I [139] gunicorn.access - 127.0.0.1 - - [03/Mar/2024:18:04:43 +0000] \"GET / HTTP/1.0\" 200 7 \"-\" \"Go-http-client/1.1\"\n",
      "2024-03-03 18:04:43,653 W [139] azmlinfsrv - x-ms-request-id header has been deprecated and will be removed from future versions of the server. Please use x-ms-client-request-id.\n",
      "2024-03-03 18:04:43,653 I [139] azmlinfsrv - GET /swagger.json 200 0.426ms 2232\n",
      "2024-03-03 18:04:43,654 I [139] gunicorn.access - 127.0.0.1 - - [03/Mar/2024:18:04:43 +0000] \"GET /swagger.json HTTP/1.0\" 200 2232 \"-\" \"Go-http-client/1.1\"\n",
      "2024-03-03 18:04:50,059 W [139] azmlinfsrv - x-ms-request-id header has been deprecated and will be removed from future versions of the server. Please use x-ms-client-request-id.\n",
      "2024-03-03 18:04:50,062 I [139] gunicorn.access - 127.0.0.1 - - [03/Mar/2024:18:04:50 +0000] \"GET / HTTP/1.0\" 200 7 \"-\" \"Go-http-client/1.1\"\n",
      "2024-03-03 18:04:50,069 W [139] azmlinfsrv - x-ms-request-id header has been deprecated and will be removed from future versions of the server. Please use x-ms-client-request-id.\n",
      "2024-03-03 18:04:50,070 I [139] azmlinfsrv - GET /swagger.json 200 0.743ms 2232\n",
      "2024-03-03 18:04:50,071 I [139] gunicorn.access - 127.0.0.1 - - [03/Mar/2024:18:04:50 +0000] \"GET /swagger.json HTTP/1.0\" 200 2232 \"-\" \"Go-http-client/1.1\"\n",
      "2024-03-03 18:09:35,929 W [139] azmlinfsrv - x-ms-request-id header has been deprecated and will be removed from future versions of the server. Please use x-ms-client-request-id.\n",
      "2024-03-03 18:09:35,931 I [139] gunicorn.access - 127.0.0.1 - - [03/Mar/2024:18:09:35 +0000] \"GET / HTTP/1.0\" 200 7 \"-\" \"Go-http-client/1.1\"\n",
      "2024-03-03 18:09:35,936 W [139] azmlinfsrv - x-ms-request-id header has been deprecated and will be removed from future versions of the server. Please use x-ms-client-request-id.\n",
      "2024-03-03 18:09:35,936 I [139] azmlinfsrv - GET /swagger.json 200 0.508ms 2232\n",
      "2024-03-03 18:09:35,937 I [139] gunicorn.access - 127.0.0.1 - - [03/Mar/2024:18:09:35 +0000] \"GET /swagger.json HTTP/1.0\" 200 2232 \"-\" \"Go-http-client/1.1\"\n",
      "\n"
     ]
    }
   ],
   "source": [
    "# Logging the deployment process\n",
    "service = Webservice(ws, 'text-classification-service')\n",
    "print(service.get_logs())"
   ]
  },
  {
   "cell_type": "code",
   "execution_count": 14,
   "metadata": {
    "id": "xbwCttUkD5Ew"
   },
   "outputs": [],
   "source": [
    "scoring_uri = service.scoring_uri"
   ]
  },
  {
   "cell_type": "code",
   "execution_count": 15,
   "metadata": {
    "id": "dgXYsusDnyrq",
    "colab": {
     "base_uri": "https://localhost:8080/",
     "height": 42.0
    },
    "outputId": "43d6de1e-c4b6-4282-8db7-1d8664da065b"
   },
   "outputs": [
    {
     "data": {
      "text/plain": [
       "'http://f254a67b-a017-49ac-a1b0-ff56b8f6487a.westeurope.azurecontainer.io/score'"
      ]
     },
     "execution_count": 15,
     "metadata": {},
     "output_type": "execute_result"
    }
   ],
   "source": [
    "scoring_uri"
   ]
  },
  {
   "cell_type": "code",
   "execution_count": 16,
   "metadata": {
    "id": "zm_FUB3aMrzm"
   },
   "outputs": [],
   "source": [
    "input_data = [ \"Hold on for dear life.\"]\n",
    "\n",
    "# Convert the input data to a JSON string\n",
    "input_data_json = json.dumps({\"data\": [input_data]})"
   ]
  },
  {
   "cell_type": "code",
   "execution_count": 17,
   "metadata": {
    "id": "GF29ZoPXMxpL"
   },
   "outputs": [],
   "source": [
    "# Define the content type\n",
    "headers = {\"Content-Type\": \"application/json\"}"
   ]
  },
  {
   "cell_type": "code",
   "execution_count": 18,
   "metadata": {
    "id": "n1Q_oiKeVoBV"
   },
   "outputs": [],
   "source": [
    "# Send an HTTP POST request to the endpoint\n",
    "response = requests.post(scoring_uri, data=input_data_json, headers=headers)"
   ]
  },
  {
   "cell_type": "code",
   "execution_count": 19,
   "metadata": {
    "colab": {
     "base_uri": "https://localhost:8080/"
    },
    "id": "DDdNS06MM2zP",
    "outputId": "d532c07b-b0cc-4d94-a665-da86fd4df9d6"
   },
   "outputs": [
    {
     "name": "stdout",
     "output_type": "stream",
     "text": [
      "{'result': ['POLITICS', '0.25']}\n",
      "Prediction: POLITICS\n"
     ]
    }
   ],
   "source": [
    "# Check the response status code\n",
    "if response.status_code == 200:\n",
    "    # Parse the JSON response\n",
    "    result = json.loads(response.json())\n",
    "    print(result)\n",
    "    # Extract the prediction (result) from the response\n",
    "    prediction = result[\"result\"][0]\n",
    "    print(f\"Prediction: {prediction}\")\n",
    "else:\n",
    "    print(f\"Error: {response.text}\")"
   ]
  },
  {
   "cell_type": "markdown",
   "metadata": {
    "id": "H5-anwecV5ac"
   },
   "source": [
    "# **Delete the webservice and workspace**"
   ]
  },
  {
   "cell_type": "code",
   "execution_count": 20,
   "metadata": {
    "colab": {
     "base_uri": "https://localhost:8080/"
    },
    "id": "VljH-ZIyV9Sj",
    "outputId": "419d734b-102c-4060-f6ef-0f1bb02f2175"
   },
   "outputs": [
    {
     "name": "stdout",
     "output_type": "stream",
     "text": [
      "Running\n",
      "2024-03-03 18:10:08+00:00 Check and wait for operation (a0816d13-ebd8-4707-87f2-0ea39f86773b) to finish.\n",
      "2024-03-03 18:10:10+00:00 Deleting service entity.\n",
      "Succeeded\n"
     ]
    }
   ],
   "source": [
    "service_name = \"text-classification-service\"\n",
    "\n",
    "service = ws.webservices[service_name]\n",
    "service.delete()"
   ]
  },
  {
   "cell_type": "code",
   "execution_count": 21,
   "metadata": {
    "id": "ZYCf_R_mWEtY"
   },
   "outputs": [],
   "source": [
    "# Specify the name of the registered model to delete\n",
    "model_name = 'dummy_classification_model'\n",
    "\n",
    "# Delete the model\n",
    "registered_model = ws.models[model_name]\n",
    "registered_model.delete()"
   ]
  },
  {
   "cell_type": "code",
   "execution_count": 22,
   "metadata": {
    "id": "B8-nlVrhWJE-"
   },
   "outputs": [],
   "source": [
    "# Delete the workspace\n",
    "ws.delete(delete_dependent_resources=True)"
   ]
  }
 ],
 "metadata": {
  "colab": {
   "provenance": []
  },
  "kernelspec": {
   "name": "python3",
   "display_name": "Python 3"
  },
  "language_info": {
   "name": "python"
  }
 },
 "nbformat": 4,
 "nbformat_minor": 0
}
