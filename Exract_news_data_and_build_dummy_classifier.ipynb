{
  "nbformat": 4,
  "nbformat_minor": 0,
  "metadata": {
    "colab": {
      "provenance": []
    },
    "kernelspec": {
      "name": "python3",
      "display_name": "Python 3"
    },
    "language_info": {
      "name": "python"
    }
  },
  "cells": [
    {
      "cell_type": "markdown",
      "source": [
        "\n",
        "# **Extract news category dataset and build a dummy classifier**\n",
        "# Dataset:\n",
        "  1000 subset of news from [News category dataset](https://rishabhmisra.github.io/publications) that contains news headlines with around 42 categories.\n",
        "# Steps:\n",
        "1.   Import needed libraries\n",
        "2.   Text preprocessing (tokenization, stop word removal, punctuation removal, and lemmatization)\n",
        "3.   Using pandas to transform the datasets\n",
        "4.   Build a dummy classifier using scikit-learn\n",
        "\n"
      ],
      "metadata": {
        "id": "z0HEup7NPNUE"
      }
    },
    {
      "cell_type": "code",
      "source": [
        "# Importing libraries\n",
        "import pandas as pd\n",
        "import json\n",
        "from pandas import DataFrame as df\n",
        "from pandas import json_normalize\n",
        "import numpy as np\n",
        "import matplotlib.pyplot as plt\n",
        "import seaborn as sns\n",
        "from sklearn.feature_extraction.text import CountVectorizer\n",
        "from sklearn.feature_extraction.text import TfidfVectorizer\n",
        "from sklearn import metrics\n",
        "from sklearn.metrics import confusion_matrix\n",
        "from sklearn.utils import resample\n",
        "from sklearn.naive_bayes import MultinomialNB\n",
        "from sklearn.model_selection import train_test_split\n",
        "import spacy\n",
        "from sklearn.dummy import DummyClassifier\n",
        "from sklearn.metrics import confusion_matrix, ConfusionMatrixDisplay, classification_report\n",
        "from sklearn.pipeline import Pipeline\n",
        "import pickle\n",
        "import nltk\n",
        "nltk.download('punkt')\n",
        "nltk.download('stopwords')\n",
        "from nltk.corpus import stopwords\n",
        "from nltk.stem import WordNetLemmatizer\n",
        "nltk.download('wordnet')"
      ],
      "metadata": {
        "id": "WSSCS6rePQnh",
        "colab": {
          "base_uri": "https://localhost:8080/"
        },
        "outputId": "5225e482-b56f-46a7-838b-ca89727dd002"
      },
      "execution_count": null,
      "outputs": [
        {
          "output_type": "stream",
          "name": "stderr",
          "text": [
            "[nltk_data] Downloading package punkt to /root/nltk_data...\n",
            "[nltk_data]   Package punkt is already up-to-date!\n",
            "[nltk_data] Downloading package stopwords to /root/nltk_data...\n",
            "[nltk_data]   Package stopwords is already up-to-date!\n",
            "[nltk_data] Downloading package wordnet to /root/nltk_data...\n",
            "[nltk_data]   Package wordnet is already up-to-date!\n"
          ]
        },
        {
          "output_type": "execute_result",
          "data": {
            "text/plain": [
              "True"
            ]
          },
          "metadata": {},
          "execution_count": 2
        }
      ]
    },
    {
      "cell_type": "code",
      "source": [
        "cd /root/nltk_data/corpora"
      ],
      "metadata": {
        "colab": {
          "base_uri": "https://localhost:8080/"
        },
        "id": "AdjWO-hQdU1Z",
        "outputId": "ccfac3c0-9627-4fd6-9779-366fba270258"
      },
      "execution_count": null,
      "outputs": [
        {
          "output_type": "stream",
          "name": "stdout",
          "text": [
            "/root/nltk_data/corpora\n"
          ]
        }
      ]
    },
    {
      "cell_type": "code",
      "source": [
        "!ls"
      ],
      "metadata": {
        "colab": {
          "base_uri": "https://localhost:8080/"
        },
        "id": "XcxZDZxCdtQ2",
        "outputId": "9a8ece14-c714-4c8e-f748-9961e965d4c3"
      },
      "execution_count": null,
      "outputs": [
        {
          "output_type": "stream",
          "name": "stdout",
          "text": [
            "stopwords  stopwords.zip  wordnet  wordnet.zip\n"
          ]
        }
      ]
    },
    {
      "cell_type": "code",
      "source": [
        "!unzip wordnet.zip"
      ],
      "metadata": {
        "colab": {
          "base_uri": "https://localhost:8080/"
        },
        "id": "9TsPi_8qd1QM",
        "outputId": "218b2f25-b46d-49f2-d399-7872c9f0d2a6"
      },
      "execution_count": null,
      "outputs": [
        {
          "output_type": "stream",
          "name": "stdout",
          "text": [
            "Archive:  wordnet.zip\n",
            "replace wordnet/lexnames? [y]es, [n]o, [A]ll, [N]one, [r]ename: A\n",
            "  inflating: wordnet/lexnames        \n",
            "  inflating: wordnet/data.verb       \n",
            "  inflating: wordnet/index.adv       \n",
            "  inflating: wordnet/adv.exc         \n",
            "  inflating: wordnet/index.verb      \n",
            "  inflating: wordnet/cntlist.rev     \n",
            "  inflating: wordnet/data.adj        \n",
            "  inflating: wordnet/index.adj       \n",
            "  inflating: wordnet/LICENSE         \n",
            "  inflating: wordnet/citation.bib    \n",
            "  inflating: wordnet/noun.exc        \n",
            "  inflating: wordnet/verb.exc        \n",
            "  inflating: wordnet/README          \n",
            "  inflating: wordnet/index.sense     \n",
            "  inflating: wordnet/data.noun       \n",
            "  inflating: wordnet/data.adv        \n",
            "  inflating: wordnet/index.noun      \n",
            "  inflating: wordnet/adj.exc         \n"
          ]
        }
      ]
    },
    {
      "cell_type": "code",
      "source": [
        "data ={}\n",
        "def read_json_file(file):\n",
        "    with open(file, \"r\") as r:\n",
        "        response = r.read()\n",
        "        response = response.replace('\\n', '')\n",
        "        response = response.replace('}{', '},{')\n",
        "        response = \"[\" + response + \"]\"\n",
        "        return json.loads(response)\n",
        "\n",
        "response = read_json_file(\"/content/newstext_1000.json\")\n",
        "data[\"News\"] = response\n",
        "df2 = json_normalize(data['News'])"
      ],
      "metadata": {
        "id": "7jeSNPR011zZ"
      },
      "execution_count": null,
      "outputs": []
    },
    {
      "cell_type": "code",
      "source": [
        "df2.info()"
      ],
      "metadata": {
        "id": "H-Oiukw_h0fj",
        "colab": {
          "base_uri": "https://localhost:8080/"
        },
        "outputId": "ca249195-4063-4440-d60f-4056f4d40f1e"
      },
      "execution_count": null,
      "outputs": [
        {
          "output_type": "stream",
          "name": "stdout",
          "text": [
            "<class 'pandas.core.frame.DataFrame'>\n",
            "RangeIndex: 999 entries, 0 to 998\n",
            "Data columns (total 6 columns):\n",
            " #   Column             Non-Null Count  Dtype \n",
            "---  ------             --------------  ----- \n",
            " 0   link               999 non-null    object\n",
            " 1   headline           999 non-null    object\n",
            " 2   category           999 non-null    object\n",
            " 3   short_description  999 non-null    object\n",
            " 4   authors            999 non-null    object\n",
            " 5   date               999 non-null    object\n",
            "dtypes: object(6)\n",
            "memory usage: 47.0+ KB\n"
          ]
        }
      ]
    },
    {
      "cell_type": "code",
      "source": [
        "print(\"Number of categories = \",df2['category'].nunique())"
      ],
      "metadata": {
        "id": "Eq6ldje1iUhN",
        "colab": {
          "base_uri": "https://localhost:8080/"
        },
        "outputId": "07b5e277-5039-483a-8f78-5365ba754103"
      },
      "execution_count": null,
      "outputs": [
        {
          "output_type": "stream",
          "name": "stdout",
          "text": [
            "Number of categories =  24\n"
          ]
        }
      ]
    },
    {
      "cell_type": "code",
      "source": [
        "df2['category'].value_counts()"
      ],
      "metadata": {
        "id": "GI0dOr3tidXN",
        "colab": {
          "base_uri": "https://localhost:8080/"
        },
        "outputId": "5c928e38-b7e3-4652-a48f-b5116bb891d9"
      },
      "execution_count": null,
      "outputs": [
        {
          "output_type": "execute_result",
          "data": {
            "text/plain": [
              "POLITICS          272\n",
              "ENTERTAINMENT     185\n",
              "U.S. NEWS         173\n",
              "WORLD NEWS        138\n",
              "SPORTS             36\n",
              "CRIME              26\n",
              "ENVIRONMENT        25\n",
              "CULTURE & ARTS     23\n",
              "WELLNESS           16\n",
              "PARENTING          15\n",
              "WEIRD NEWS         14\n",
              "FOOD & DRINK       14\n",
              "COMEDY             11\n",
              "BUSINESS            9\n",
              "STYLE & BEAUTY      9\n",
              "TECH                8\n",
              "SCIENCE             5\n",
              "WOMEN               5\n",
              "EDUCATION           3\n",
              "MEDIA               3\n",
              "HOME & LIVING       3\n",
              "BLACK VOICES        3\n",
              "QUEER VOICES        2\n",
              "TRAVEL              1\n",
              "Name: category, dtype: int64"
            ]
          },
          "metadata": {},
          "execution_count": 14
        }
      ]
    },
    {
      "cell_type": "code",
      "source": [
        "plt.figure(figsize=(25,13))\n",
        "sns.barplot(y=df2['category'].value_counts().index,x=df2['category'].value_counts().values)\n",
        "plt.title(\"The distribution of categories\")\n",
        "plt.xlabel(\"Number of samples\")\n",
        "plt.ylabel(\"Category\")\n",
        "\n",
        "plt.yticks(rotation=0,fontsize = 16)\n",
        "plt.show()"
      ],
      "metadata": {
        "id": "CTrEP419il2a",
        "colab": {
          "base_uri": "https://localhost:8080/",
          "height": 763
        },
        "outputId": "4dd839b4-99dc-4227-eff1-425daded142e"
      },
      "execution_count": null,
      "outputs": [
        {
          "output_type": "display_data",
          "data": {
            "text/plain": [
              "<Figure size 2500x1300 with 1 Axes>"
            ],
            "image/png": "[encoded data removed]"
          },
          "metadata": {}
        }
      ]
    },
    {
      "cell_type": "code",
      "source": [
        "#Concatenate headline and short_description into a full_article column\n",
        "df2['full_article'] = df2['headline'] + \" \" + df2['short_description']"
      ],
      "metadata": {
        "id": "PuIzr63si6YZ"
      },
      "execution_count": null,
      "outputs": []
    },
    {
      "cell_type": "code",
      "source": [
        "lemmatizer = WordNetLemmatizer()\n",
        "stop_words = set(stopwords.words('english'))\n",
        "\n",
        "def preprocess(text):\n",
        "    text = text.lower() #convert to lowercase letters\n",
        "    tokens = nltk.word_tokenize(text) #word tokenization\n",
        "    tokens = [token for token in tokens if token.isalpha()] #Remove puncutations and numbers\n",
        "    tokens = [token for token in tokens if token not in stop_words] #Remove Stopwords\n",
        "    tokens = [lemmatizer.lemmatize(token) for token in tokens] #Lemmitization\n",
        "\n",
        "    return tokens"
      ],
      "metadata": {
        "id": "Yyu-eQT6jPFx"
      },
      "execution_count": null,
      "outputs": []
    },
    {
      "cell_type": "code",
      "source": [
        "df2.loc[:, ('full_article_tokens')] = df2.loc[:,('full_article')].apply(lambda x: preprocess(x))\n",
        "print(df2)"
      ],
      "metadata": {
        "id": "Hq3QdjlcjpOR",
        "colab": {
          "base_uri": "https://localhost:8080/"
        },
        "outputId": "406b9023-d1a0-4d0e-95d2-5dbbe8f26c3c"
      },
      "execution_count": null,
      "outputs": [
        {
          "output_type": "stream",
          "name": "stdout",
          "text": [
            "                                                  link  \\\n",
            "0    https://www.huffpost.com/entry/covid-boosters-...   \n",
            "1    https://www.huffpost.com/entry/american-airlin...   \n",
            "2    https://www.huffpost.com/entry/funniest-tweets...   \n",
            "3    https://www.huffpost.com/entry/funniest-parent...   \n",
            "4    https://www.huffpost.com/entry/amy-cooper-lose...   \n",
            "..                                                 ...   \n",
            "994  https://www.huffpost.com/entry/ap-lt-peru-fuji...   \n",
            "995  https://www.huffpost.com/entry/china-weighs-ex...   \n",
            "996  https://www.huffpost.com/entry/russian-missile...   \n",
            "997  https://www.huffpost.com/entry/assad-uae_n_623...   \n",
            "998  https://www.huffpost.com/entry/japan-earthquak...   \n",
            "\n",
            "                                              headline    category  \\\n",
            "0    Over 4 Million Americans Roll Up Sleeves For O...   U.S. NEWS   \n",
            "1    American Airlines Flyer Charged, Banned For Li...   U.S. NEWS   \n",
            "2    23 Of The Funniest Tweets About Cats And Dogs ...      COMEDY   \n",
            "3    The Funniest Tweets From Parents This Week (Se...   PARENTING   \n",
            "4    Woman Who Called Cops On Black Bird-Watcher Lo...   U.S. NEWS   \n",
            "..                                                 ...         ...   \n",
            "994  Peru Court Orders Ex-President Fujimori Freed ...  WORLD NEWS   \n",
            "995  China Weighs Exit From 'Zero COVID' And The Ri...  WORLD NEWS   \n",
            "996  Russian Missiles Hit Near Lviv Airport As Stri...  WORLD NEWS   \n",
            "997  Syria's Assad Visits UAE, 1st Trip To Arab Cou...  WORLD NEWS   \n",
            "998       Strong Japan Earthquake Kills 4, Injures 107  WORLD NEWS   \n",
            "\n",
            "                                     short_description  \\\n",
            "0    Health experts said it is too early to predict...   \n",
            "1    He was subdued by passengers and crew when he ...   \n",
            "2    \"Until you have a dog you don't understand wha...   \n",
            "3    \"Accidentally put grown-up toothpaste on my to...   \n",
            "4    Amy Cooper accused investment firm Franklin Te...   \n",
            "..                                                 ...   \n",
            "994  Peru's former President Alberto Fujimori is se...   \n",
            "995  The change does not appear imminent as the gov...   \n",
            "996  World leaders have been calling for an investi...   \n",
            "997  Assad's office said he met with Sheikh Mohamed...   \n",
            "998  The 7.4-magnitude temblor knocked out power an...   \n",
            "\n",
            "                           authors        date  \\\n",
            "0             Carla K. Johnson, AP  2022-09-23   \n",
            "1                   Mary Papenfuss  2022-09-23   \n",
            "2                    Elyse Wanshel  2022-09-23   \n",
            "3                 Caroline Bologna  2022-09-23   \n",
            "4                   Nina Golgowski  2022-09-22   \n",
            "..                             ...         ...   \n",
            "994           FRANKLIN BRICEÑO, AP  2022-03-18   \n",
            "995  Dake Kang and Huizhong Wu, AP  2022-03-18   \n",
            "996                  Cara Anna, AP  2022-03-18   \n",
            "997                                 2022-03-18   \n",
            "998             Mari Yamaguchi, AP  2022-03-17   \n",
            "\n",
            "                                          full_article  \\\n",
            "0    Over 4 Million Americans Roll Up Sleeves For O...   \n",
            "1    American Airlines Flyer Charged, Banned For Li...   \n",
            "2    23 Of The Funniest Tweets About Cats And Dogs ...   \n",
            "3    The Funniest Tweets From Parents This Week (Se...   \n",
            "4    Woman Who Called Cops On Black Bird-Watcher Lo...   \n",
            "..                                                 ...   \n",
            "994  Peru Court Orders Ex-President Fujimori Freed ...   \n",
            "995  China Weighs Exit From 'Zero COVID' And The Ri...   \n",
            "996  Russian Missiles Hit Near Lviv Airport As Stri...   \n",
            "997  Syria's Assad Visits UAE, 1st Trip To Arab Cou...   \n",
            "998  Strong Japan Earthquake Kills 4, Injures 107 T...   \n",
            "\n",
            "                                   full_article_tokens  \n",
            "0    [million, american, roll, sleeve, covid, boost...  \n",
            "1    [american, airline, flyer, charged, banned, li...  \n",
            "2    [funniest, tweet, cat, dog, week, dog, underst...  \n",
            "3    [funniest, tweet, parent, week, accidentally, ...  \n",
            "4    [woman, called, cop, black, loses, lawsuit, am...  \n",
            "..                                                 ...  \n",
            "994  [peru, court, order, fujimori, freed, prison, ...  \n",
            "995  [china, weighs, exit, covid, risk, involved, c...  \n",
            "996  [russian, missile, hit, near, lviv, airport, s...  \n",
            "997  [syria, assad, visit, uae, trip, arab, country...  \n",
            "998  [strong, japan, earthquake, kill, injures, tem...  \n",
            "\n",
            "[999 rows x 8 columns]\n"
          ]
        }
      ]
    },
    {
      "cell_type": "code",
      "source": [
        "df2['news_len'] = df2['full_article'].apply(lambda x: len(x))"
      ],
      "metadata": {
        "id": "4USxhN2Gk3tU"
      },
      "execution_count": null,
      "outputs": []
    },
    {
      "cell_type": "code",
      "source": [
        "df2.groupby('category')['news_len'].mean().reset_index().sort_values(by='news_len',ascending=False)"
      ],
      "metadata": {
        "id": "WpkbCsl4k_aM",
        "colab": {
          "base_uri": "https://localhost:8080/",
          "height": 802
        },
        "outputId": "42d2bb99-8e7f-4ba7-f00c-6261eef9a2da"
      },
      "execution_count": null,
      "outputs": [
        {
          "output_type": "execute_result",
          "data": {
            "text/plain": [
              "          category    news_len\n",
              "5        EDUCATION  232.666667\n",
              "4   CULTURE & ARTS  217.608696\n",
              "13    QUEER VOICES  199.000000\n",
              "12        POLITICS  198.301471\n",
              "23      WORLD NEWS  196.311594\n",
              "3            CRIME  196.230769\n",
              "17            TECH  194.625000\n",
              "19       U.S. NEWS  191.907514\n",
              "0     BLACK VOICES  191.666667\n",
              "15          SPORTS  189.083333\n",
              "21        WELLNESS  185.187500\n",
              "2           COMEDY  183.181818\n",
              "6    ENTERTAINMENT  181.070270\n",
              "7      ENVIRONMENT  180.120000\n",
              "11       PARENTING  172.933333\n",
              "1         BUSINESS  168.333333\n",
              "10           MEDIA  167.333333\n",
              "20      WEIRD NEWS  165.214286\n",
              "8     FOOD & DRINK  164.142857\n",
              "14         SCIENCE  150.400000\n",
              "16  STYLE & BEAUTY  150.000000\n",
              "9    HOME & LIVING  147.333333\n",
              "22           WOMEN  139.600000\n",
              "18          TRAVEL  113.000000"
            ],
            "text/html": [
              "\n",
              "  <div id=\"df-cb82ef5e-7a39-4673-87b5-14dc07792fea\" class=\"colab-df-container\">\n",
              "    <div>\n",
              "<style scoped>\n",
              "    .dataframe tbody tr th:only-of-type {\n",
              "        vertical-align: middle;\n",
              "    }\n",
              "\n",
              "    .dataframe tbody tr th {\n",
              "        vertical-align: top;\n",
              "    }\n",
              "\n",
              "    .dataframe thead th {\n",
              "        text-align: right;\n",
              "    }\n",
              "</style>\n",
              "<table border=\"1\" class=\"dataframe\">\n",
              "  <thead>\n",
              "    <tr style=\"text-align: right;\">\n",
              "      <th></th>\n",
              "      <th>category</th>\n",
              "      <th>news_len</th>\n",
              "    </tr>\n",
              "  </thead>\n",
              "  <tbody>\n",
              "    <tr>\n",
              "      <th>5</th>\n",
              "      <td>EDUCATION</td>\n",
              "      <td>232.666667</td>\n",
              "    </tr>\n",
              "    <tr>\n",
              "      <th>4</th>\n",
              "      <td>CULTURE &amp; ARTS</td>\n",
              "      <td>217.608696</td>\n",
              "    </tr>\n",
              "    <tr>\n",
              "      <th>13</th>\n",
              "      <td>QUEER VOICES</td>\n",
              "      <td>199.000000</td>\n",
              "    </tr>\n",
              "    <tr>\n",
              "      <th>12</th>\n",
              "      <td>POLITICS</td>\n",
              "      <td>198.301471</td>\n",
              "    </tr>\n",
              "    <tr>\n",
              "      <th>23</th>\n",
              "      <td>WORLD NEWS</td>\n",
              "      <td>196.311594</td>\n",
              "    </tr>\n",
              "    <tr>\n",
              "      <th>3</th>\n",
              "      <td>CRIME</td>\n",
              "      <td>196.230769</td>\n",
              "    </tr>\n",
              "    <tr>\n",
              "      <th>17</th>\n",
              "      <td>TECH</td>\n",
              "      <td>194.625000</td>\n",
              "    </tr>\n",
              "    <tr>\n",
              "      <th>19</th>\n",
              "      <td>U.S. NEWS</td>\n",
              "      <td>191.907514</td>\n",
              "    </tr>\n",
              "    <tr>\n",
              "      <th>0</th>\n",
              "      <td>BLACK VOICES</td>\n",
              "      <td>191.666667</td>\n",
              "    </tr>\n",
              "    <tr>\n",
              "      <th>15</th>\n",
              "      <td>SPORTS</td>\n",
              "      <td>189.083333</td>\n",
              "    </tr>\n",
              "    <tr>\n",
              "      <th>21</th>\n",
              "      <td>WELLNESS</td>\n",
              "      <td>185.187500</td>\n",
              "    </tr>\n",
              "    <tr>\n",
              "      <th>2</th>\n",
              "      <td>COMEDY</td>\n",
              "      <td>183.181818</td>\n",
              "    </tr>\n",
              "    <tr>\n",
              "      <th>6</th>\n",
              "      <td>ENTERTAINMENT</td>\n",
              "      <td>181.070270</td>\n",
              "    </tr>\n",
              "    <tr>\n",
              "      <th>7</th>\n",
              "      <td>ENVIRONMENT</td>\n",
              "      <td>180.120000</td>\n",
              "    </tr>\n",
              "    <tr>\n",
              "      <th>11</th>\n",
              "      <td>PARENTING</td>\n",
              "      <td>172.933333</td>\n",
              "    </tr>\n",
              "    <tr>\n",
              "      <th>1</th>\n",
              "      <td>BUSINESS</td>\n",
              "      <td>168.333333</td>\n",
              "    </tr>\n",
              "    <tr>\n",
              "      <th>10</th>\n",
              "      <td>MEDIA</td>\n",
              "      <td>167.333333</td>\n",
              "    </tr>\n",
              "    <tr>\n",
              "      <th>20</th>\n",
              "      <td>WEIRD NEWS</td>\n",
              "      <td>165.214286</td>\n",
              "    </tr>\n",
              "    <tr>\n",
              "      <th>8</th>\n",
              "      <td>FOOD &amp; DRINK</td>\n",
              "      <td>164.142857</td>\n",
              "    </tr>\n",
              "    <tr>\n",
              "      <th>14</th>\n",
              "      <td>SCIENCE</td>\n",
              "      <td>150.400000</td>\n",
              "    </tr>\n",
              "    <tr>\n",
              "      <th>16</th>\n",
              "      <td>STYLE &amp; BEAUTY</td>\n",
              "      <td>150.000000</td>\n",
              "    </tr>\n",
              "    <tr>\n",
              "      <th>9</th>\n",
              "      <td>HOME &amp; LIVING</td>\n",
              "      <td>147.333333</td>\n",
              "    </tr>\n",
              "    <tr>\n",
              "      <th>22</th>\n",
              "      <td>WOMEN</td>\n",
              "      <td>139.600000</td>\n",
              "    </tr>\n",
              "    <tr>\n",
              "      <th>18</th>\n",
              "      <td>TRAVEL</td>\n",
              "      <td>113.000000</td>\n",
              "    </tr>\n",
              "  </tbody>\n",
              "</table>\n",
              "</div>\n",
              "    <div class=\"colab-df-buttons\">\n",
              "\n",
              "  <div class=\"colab-df-container\">\n",
              "    <button class=\"colab-df-convert\" onclick=\"convertToInteractive('df-cb82ef5e-7a39-4673-87b5-14dc07792fea')\"\n",
              "            title=\"Convert this dataframe to an interactive table.\"\n",
              "            style=\"display:none;\">\n",
              "\n",
              "  <svg xmlns=\"http://www.w3.org/2000/svg\" height=\"24px\" viewBox=\"0 -960 960 960\">\n",
              "    <path d=\"M120-120v-720h720v720H120Zm60-500h600v-160H180v160Zm220 220h160v-160H400v160Zm0 220h160v-160H400v160ZM180-400h160v-160H180v160Zm440 0h160v-160H620v160ZM180-180h160v-160H180v160Zm440 0h160v-160H620v160Z\"/>\n",
              "  </svg>\n",
              "    </button>\n",
              "\n",
              "  <style>\n",
              "    .colab-df-container {\n",
              "      display:flex;\n",
              "      gap: 12px;\n",
              "    }\n",
              "\n",
              "    .colab-df-convert {\n",
              "      background-color: #E8F0FE;\n",
              "      border: none;\n",
              "      border-radius: 50%;\n",
              "      cursor: pointer;\n",
              "      display: none;\n",
              "      fill: #1967D2;\n",
              "      height: 32px;\n",
              "      padding: 0 0 0 0;\n",
              "      width: 32px;\n",
              "    }\n",
              "\n",
              "    .colab-df-convert:hover {\n",
              "      background-color: #E2EBFA;\n",
              "      box-shadow: 0px 1px 2px rgba(60, 64, 67, 0.3), 0px 1px 3px 1px rgba(60, 64, 67, 0.15);\n",
              "      fill: #174EA6;\n",
              "    }\n",
              "\n",
              "    .colab-df-buttons div {\n",
              "      margin-bottom: 4px;\n",
              "    }\n",
              "\n",
              "    [theme=dark] .colab-df-convert {\n",
              "      background-color: #3B4455;\n",
              "      fill: #D2E3FC;\n",
              "    }\n",
              "\n",
              "    [theme=dark] .colab-df-convert:hover {\n",
              "      background-color: #434B5C;\n",
              "      box-shadow: 0px 1px 3px 1px rgba(0, 0, 0, 0.15);\n",
              "      filter: drop-shadow(0px 1px 2px rgba(0, 0, 0, 0.3));\n",
              "      fill: #FFFFFF;\n",
              "    }\n",
              "  </style>\n",
              "\n",
              "    <script>\n",
              "      const buttonEl =\n",
              "        document.querySelector('#df-cb82ef5e-7a39-4673-87b5-14dc07792fea button.colab-df-convert');\n",
              "      buttonEl.style.display =\n",
              "        google.colab.kernel.accessAllowed ? 'block' : 'none';\n",
              "\n",
              "      async function convertToInteractive(key) {\n",
              "        const element = document.querySelector('#df-cb82ef5e-7a39-4673-87b5-14dc07792fea');\n",
              "        const dataTable =\n",
              "          await google.colab.kernel.invokeFunction('convertToInteractive',\n",
              "                                                    [key], {});\n",
              "        if (!dataTable) return;\n",
              "\n",
              "        const docLinkHtml = 'Like what you see? Visit the ' +\n",
              "          '<a target=\"_blank\" href=https://colab.research.google.com/notebooks/data_table.ipynb>data table notebook</a>'\n",
              "          + ' to learn more about interactive tables.';\n",
              "        element.innerHTML = '';\n",
              "        dataTable['output_type'] = 'display_data';\n",
              "        await google.colab.output.renderOutput(dataTable, element);\n",
              "        const docLink = document.createElement('div');\n",
              "        docLink.innerHTML = docLinkHtml;\n",
              "        element.appendChild(docLink);\n",
              "      }\n",
              "    </script>\n",
              "  </div>\n",
              "\n",
              "\n",
              "<div id=\"df-dcd26d1a-7769-4823-aa9f-f669069bfd14\">\n",
              "  <button class=\"colab-df-quickchart\" onclick=\"quickchart('df-dcd26d1a-7769-4823-aa9f-f669069bfd14')\"\n",
              "            title=\"Suggest charts\"\n",
              "            style=\"display:none;\">\n",
              "\n",
              "<svg xmlns=\"http://www.w3.org/2000/svg\" height=\"24px\"viewBox=\"0 0 24 24\"\n",
              "     width=\"24px\">\n",
              "    <g>\n",
              "        <path d=\"M19 3H5c-1.1 0-2 .9-2 2v14c0 1.1.9 2 2 2h14c1.1 0 2-.9 2-2V5c0-1.1-.9-2-2-2zM9 17H7v-7h2v7zm4 0h-2V7h2v10zm4 0h-2v-4h2v4z\"/>\n",
              "    </g>\n",
              "</svg>\n",
              "  </button>\n",
              "\n",
              "<style>\n",
              "  .colab-df-quickchart {\n",
              "      --bg-color: #E8F0FE;\n",
              "      --fill-color: #1967D2;\n",
              "      --hover-bg-color: #E2EBFA;\n",
              "      --hover-fill-color: #174EA6;\n",
              "      --disabled-fill-color: #AAA;\n",
              "      --disabled-bg-color: #DDD;\n",
              "  }\n",
              "\n",
              "  [theme=dark] .colab-df-quickchart {\n",
              "      --bg-color: #3B4455;\n",
              "      --fill-color: #D2E3FC;\n",
              "      --hover-bg-color: #434B5C;\n",
              "      --hover-fill-color: #FFFFFF;\n",
              "      --disabled-bg-color: #3B4455;\n",
              "      --disabled-fill-color: #666;\n",
              "  }\n",
              "\n",
              "  .colab-df-quickchart {\n",
              "    background-color: var(--bg-color);\n",
              "    border: none;\n",
              "    border-radius: 50%;\n",
              "    cursor: pointer;\n",
              "    display: none;\n",
              "    fill: var(--fill-color);\n",
              "    height: 32px;\n",
              "    padding: 0;\n",
              "    width: 32px;\n",
              "  }\n",
              "\n",
              "  .colab-df-quickchart:hover {\n",
              "    background-color: var(--hover-bg-color);\n",
              "    box-shadow: 0 1px 2px rgba(60, 64, 67, 0.3), 0 1px 3px 1px rgba(60, 64, 67, 0.15);\n",
              "    fill: var(--button-hover-fill-color);\n",
              "  }\n",
              "\n",
              "  .colab-df-quickchart-complete:disabled,\n",
              "  .colab-df-quickchart-complete:disabled:hover {\n",
              "    background-color: var(--disabled-bg-color);\n",
              "    fill: var(--disabled-fill-color);\n",
              "    box-shadow: none;\n",
              "  }\n",
              "\n",
              "  .colab-df-spinner {\n",
              "    border: 2px solid var(--fill-color);\n",
              "    border-color: transparent;\n",
              "    border-bottom-color: var(--fill-color);\n",
              "    animation:\n",
              "      spin 1s steps(1) infinite;\n",
              "  }\n",
              "\n",
              "  @keyframes spin {\n",
              "    0% {\n",
              "      border-color: transparent;\n",
              "      border-bottom-color: var(--fill-color);\n",
              "      border-left-color: var(--fill-color);\n",
              "    }\n",
              "    20% {\n",
              "      border-color: transparent;\n",
              "      border-left-color: var(--fill-color);\n",
              "      border-top-color: var(--fill-color);\n",
              "    }\n",
              "    30% {\n",
              "      border-color: transparent;\n",
              "      border-left-color: var(--fill-color);\n",
              "      border-top-color: var(--fill-color);\n",
              "      border-right-color: var(--fill-color);\n",
              "    }\n",
              "    40% {\n",
              "      border-color: transparent;\n",
              "      border-right-color: var(--fill-color);\n",
              "      border-top-color: var(--fill-color);\n",
              "    }\n",
              "    60% {\n",
              "      border-color: transparent;\n",
              "      border-right-color: var(--fill-color);\n",
              "    }\n",
              "    80% {\n",
              "      border-color: transparent;\n",
              "      border-right-color: var(--fill-color);\n",
              "      border-bottom-color: var(--fill-color);\n",
              "    }\n",
              "    90% {\n",
              "      border-color: transparent;\n",
              "      border-bottom-color: var(--fill-color);\n",
              "    }\n",
              "  }\n",
              "</style>\n",
              "\n",
              "  <script>\n",
              "    async function quickchart(key) {\n",
              "      const quickchartButtonEl =\n",
              "        document.querySelector('#' + key + ' button');\n",
              "      quickchartButtonEl.disabled = true;  // To prevent multiple clicks.\n",
              "      quickchartButtonEl.classList.add('colab-df-spinner');\n",
              "      try {\n",
              "        const charts = await google.colab.kernel.invokeFunction(\n",
              "            'suggestCharts', [key], {});\n",
              "      } catch (error) {\n",
              "        console.error('Error during call to suggestCharts:', error);\n",
              "      }\n",
              "      quickchartButtonEl.classList.remove('colab-df-spinner');\n",
              "      quickchartButtonEl.classList.add('colab-df-quickchart-complete');\n",
              "    }\n",
              "    (() => {\n",
              "      let quickchartButtonEl =\n",
              "        document.querySelector('#df-dcd26d1a-7769-4823-aa9f-f669069bfd14 button');\n",
              "      quickchartButtonEl.style.display =\n",
              "        google.colab.kernel.accessAllowed ? 'block' : 'none';\n",
              "    })();\n",
              "  </script>\n",
              "</div>\n",
              "    </div>\n",
              "  </div>\n"
            ],
            "application/vnd.google.colaboratory.intrinsic+json": {
              "type": "dataframe",
              "summary": "{\n  \"name\": \"df2\",\n  \"rows\": 24,\n  \"fields\": [\n    {\n      \"column\": \"category\",\n      \"properties\": {\n        \"dtype\": \"string\",\n        \"num_unique_values\": 24,\n        \"samples\": [\n          \"BLACK VOICES\",\n          \"MEDIA\",\n          \"EDUCATION\"\n        ],\n        \"semantic_type\": \"\",\n        \"description\": \"\"\n      }\n    },\n    {\n      \"column\": \"news_len\",\n      \"properties\": {\n        \"dtype\": \"number\",\n        \"std\": 26.146485704129667,\n        \"min\": 113.0,\n        \"max\": 232.66666666666666,\n        \"num_unique_values\": 24,\n        \"samples\": [\n          191.66666666666666,\n          167.33333333333334,\n          232.66666666666666\n        ],\n        \"semantic_type\": \"\",\n        \"description\": \"\"\n      }\n    }\n  ]\n}"
            }
          },
          "metadata": {},
          "execution_count": 20
        }
      ]
    },
    {
      "cell_type": "code",
      "source": [
        "df2.reset_index(inplace = True, drop = True)\n",
        "print(df2)"
      ],
      "metadata": {
        "id": "s5rDmVPhlF66",
        "colab": {
          "base_uri": "https://localhost:8080/"
        },
        "outputId": "450366a4-89aa-468d-b0ba-b854eff1467e"
      },
      "execution_count": null,
      "outputs": [
        {
          "output_type": "stream",
          "name": "stdout",
          "text": [
            "                                                  link  \\\n",
            "0    https://www.huffpost.com/entry/covid-boosters-...   \n",
            "1    https://www.huffpost.com/entry/american-airlin...   \n",
            "2    https://www.huffpost.com/entry/funniest-tweets...   \n",
            "3    https://www.huffpost.com/entry/funniest-parent...   \n",
            "4    https://www.huffpost.com/entry/amy-cooper-lose...   \n",
            "..                                                 ...   \n",
            "994  https://www.huffpost.com/entry/ap-lt-peru-fuji...   \n",
            "995  https://www.huffpost.com/entry/china-weighs-ex...   \n",
            "996  https://www.huffpost.com/entry/russian-missile...   \n",
            "997  https://www.huffpost.com/entry/assad-uae_n_623...   \n",
            "998  https://www.huffpost.com/entry/japan-earthquak...   \n",
            "\n",
            "                                              headline    category  \\\n",
            "0    Over 4 Million Americans Roll Up Sleeves For O...   U.S. NEWS   \n",
            "1    American Airlines Flyer Charged, Banned For Li...   U.S. NEWS   \n",
            "2    23 Of The Funniest Tweets About Cats And Dogs ...      COMEDY   \n",
            "3    The Funniest Tweets From Parents This Week (Se...   PARENTING   \n",
            "4    Woman Who Called Cops On Black Bird-Watcher Lo...   U.S. NEWS   \n",
            "..                                                 ...         ...   \n",
            "994  Peru Court Orders Ex-President Fujimori Freed ...  WORLD NEWS   \n",
            "995  China Weighs Exit From 'Zero COVID' And The Ri...  WORLD NEWS   \n",
            "996  Russian Missiles Hit Near Lviv Airport As Stri...  WORLD NEWS   \n",
            "997  Syria's Assad Visits UAE, 1st Trip To Arab Cou...  WORLD NEWS   \n",
            "998       Strong Japan Earthquake Kills 4, Injures 107  WORLD NEWS   \n",
            "\n",
            "                                     short_description  \\\n",
            "0    Health experts said it is too early to predict...   \n",
            "1    He was subdued by passengers and crew when he ...   \n",
            "2    \"Until you have a dog you don't understand wha...   \n",
            "3    \"Accidentally put grown-up toothpaste on my to...   \n",
            "4    Amy Cooper accused investment firm Franklin Te...   \n",
            "..                                                 ...   \n",
            "994  Peru's former President Alberto Fujimori is se...   \n",
            "995  The change does not appear imminent as the gov...   \n",
            "996  World leaders have been calling for an investi...   \n",
            "997  Assad's office said he met with Sheikh Mohamed...   \n",
            "998  The 7.4-magnitude temblor knocked out power an...   \n",
            "\n",
            "                           authors        date  \\\n",
            "0             Carla K. Johnson, AP  2022-09-23   \n",
            "1                   Mary Papenfuss  2022-09-23   \n",
            "2                    Elyse Wanshel  2022-09-23   \n",
            "3                 Caroline Bologna  2022-09-23   \n",
            "4                   Nina Golgowski  2022-09-22   \n",
            "..                             ...         ...   \n",
            "994           FRANKLIN BRICEÑO, AP  2022-03-18   \n",
            "995  Dake Kang and Huizhong Wu, AP  2022-03-18   \n",
            "996                  Cara Anna, AP  2022-03-18   \n",
            "997                                 2022-03-18   \n",
            "998             Mari Yamaguchi, AP  2022-03-17   \n",
            "\n",
            "                                          full_article  \\\n",
            "0    Over 4 Million Americans Roll Up Sleeves For O...   \n",
            "1    American Airlines Flyer Charged, Banned For Li...   \n",
            "2    23 Of The Funniest Tweets About Cats And Dogs ...   \n",
            "3    The Funniest Tweets From Parents This Week (Se...   \n",
            "4    Woman Who Called Cops On Black Bird-Watcher Lo...   \n",
            "..                                                 ...   \n",
            "994  Peru Court Orders Ex-President Fujimori Freed ...   \n",
            "995  China Weighs Exit From 'Zero COVID' And The Ri...   \n",
            "996  Russian Missiles Hit Near Lviv Airport As Stri...   \n",
            "997  Syria's Assad Visits UAE, 1st Trip To Arab Cou...   \n",
            "998  Strong Japan Earthquake Kills 4, Injures 107 T...   \n",
            "\n",
            "                                   full_article_tokens  news_len  \n",
            "0    [million, american, roll, sleeve, covid, boost...       231  \n",
            "1    [american, airline, flyer, charged, banned, li...       249  \n",
            "2    [funniest, tweet, cat, dog, week, dog, underst...       134  \n",
            "3    [funniest, tweet, parent, week, accidentally, ...       216  \n",
            "4    [woman, called, cop, black, loses, lawsuit, am...       234  \n",
            "..                                                 ...       ...  \n",
            "994  [peru, court, order, fujimori, freed, prison, ...       163  \n",
            "995  [china, weighs, exit, covid, risk, involved, c...       212  \n",
            "996  [russian, missile, hit, near, lviv, airport, s...       165  \n",
            "997  [syria, assad, visit, uae, trip, arab, country...       199  \n",
            "998  [strong, japan, earthquake, kill, injures, tem...       179  \n",
            "\n",
            "[999 rows x 9 columns]\n"
          ]
        }
      ]
    },
    {
      "cell_type": "code",
      "source": [
        "# Calculate outliers\n",
        "count = 0\n",
        "max_threshold = df2['news_len'].std() *3 + df2['news_len'].mean()\n",
        "min_threshold = abs(df2['news_len'].mean() - df2['news_len'].std()*3)\n",
        "for num in df2['news_len']:\n",
        "    if num > max_threshold or num < min_threshold:\n",
        "      count += 1\n",
        "print(\"The total outliers are = \",count)"
      ],
      "metadata": {
        "id": "TL9XZnQGlPTL",
        "colab": {
          "base_uri": "https://localhost:8080/"
        },
        "outputId": "ed9f3a7f-daf2-47c8-9841-c554b60c42f0"
      },
      "execution_count": null,
      "outputs": [
        {
          "output_type": "stream",
          "name": "stdout",
          "text": [
            "The total outliers are =  5\n"
          ]
        }
      ]
    },
    {
      "cell_type": "code",
      "source": [
        "# Remove the outliers to improve the distribution\n",
        "filtered_data = df2[(df2['news_len'] < max_threshold) & (df2['news_len'] > min_threshold )]\n",
        "filtered_data.shape"
      ],
      "metadata": {
        "id": "FJj-YPCflZe_",
        "colab": {
          "base_uri": "https://localhost:8080/"
        },
        "outputId": "52099923-7426-4d38-cd1f-c663e1e7d532"
      },
      "execution_count": null,
      "outputs": [
        {
          "output_type": "execute_result",
          "data": {
            "text/plain": [
              "(994, 9)"
            ]
          },
          "metadata": {},
          "execution_count": 23
        }
      ]
    },
    {
      "cell_type": "code",
      "source": [
        "# Remmove irrelevant data\n",
        "filtered_data.drop(['authors','date', 'link'], axis=1, inplace = True)\n",
        "filtered_data.head()"
      ],
      "metadata": {
        "id": "tVx3l9i9nxD2",
        "colab": {
          "base_uri": "https://localhost:8080/",
          "height": 367
        },
        "outputId": "6c76b338-24a0-4163-b839-0a0ae9ddcd9d"
      },
      "execution_count": null,
      "outputs": [
        {
          "output_type": "stream",
          "name": "stderr",
          "text": [
            "<ipython-input-27-50ae39b2c4da>:2: SettingWithCopyWarning: \n",
            "A value is trying to be set on a copy of a slice from a DataFrame\n",
            "\n",
            "See the caveats in the documentation: https://pandas.pydata.org/pandas-docs/stable/user_guide/indexing.html#returning-a-view-versus-a-copy\n",
            "  filtered_data.drop(['link'], axis=1, inplace = True)\n"
          ]
        },
        {
          "output_type": "execute_result",
          "data": {
            "text/plain": [
              "                                            headline   category  \\\n",
              "0  Over 4 Million Americans Roll Up Sleeves For O...  U.S. NEWS   \n",
              "1  American Airlines Flyer Charged, Banned For Li...  U.S. NEWS   \n",
              "2  23 Of The Funniest Tweets About Cats And Dogs ...     COMEDY   \n",
              "3  The Funniest Tweets From Parents This Week (Se...  PARENTING   \n",
              "4  Woman Who Called Cops On Black Bird-Watcher Lo...  U.S. NEWS   \n",
              "\n",
              "                                   short_description  \\\n",
              "0  Health experts said it is too early to predict...   \n",
              "1  He was subdued by passengers and crew when he ...   \n",
              "2  \"Until you have a dog you don't understand wha...   \n",
              "3  \"Accidentally put grown-up toothpaste on my to...   \n",
              "4  Amy Cooper accused investment firm Franklin Te...   \n",
              "\n",
              "                                        full_article  \\\n",
              "0  Over 4 Million Americans Roll Up Sleeves For O...   \n",
              "1  American Airlines Flyer Charged, Banned For Li...   \n",
              "2  23 Of The Funniest Tweets About Cats And Dogs ...   \n",
              "3  The Funniest Tweets From Parents This Week (Se...   \n",
              "4  Woman Who Called Cops On Black Bird-Watcher Lo...   \n",
              "\n",
              "                                 full_article_tokens  news_len  \n",
              "0  [million, american, roll, sleeve, covid, boost...       231  \n",
              "1  [american, airline, flyer, charged, banned, li...       249  \n",
              "2  [funniest, tweet, cat, dog, week, dog, underst...       134  \n",
              "3  [funniest, tweet, parent, week, accidentally, ...       216  \n",
              "4  [woman, called, cop, black, loses, lawsuit, am...       234  "
            ],
            "text/html": [
              "\n",
              "  <div id=\"df-c84cd4c5-cc29-465f-a9c2-0a50eb606ca3\" class=\"colab-df-container\">\n",
              "    <div>\n",
              "<style scoped>\n",
              "    .dataframe tbody tr th:only-of-type {\n",
              "        vertical-align: middle;\n",
              "    }\n",
              "\n",
              "    .dataframe tbody tr th {\n",
              "        vertical-align: top;\n",
              "    }\n",
              "\n",
              "    .dataframe thead th {\n",
              "        text-align: right;\n",
              "    }\n",
              "</style>\n",
              "<table border=\"1\" class=\"dataframe\">\n",
              "  <thead>\n",
              "    <tr style=\"text-align: right;\">\n",
              "      <th></th>\n",
              "      <th>headline</th>\n",
              "      <th>category</th>\n",
              "      <th>short_description</th>\n",
              "      <th>full_article</th>\n",
              "      <th>full_article_tokens</th>\n",
              "      <th>news_len</th>\n",
              "    </tr>\n",
              "  </thead>\n",
              "  <tbody>\n",
              "    <tr>\n",
              "      <th>0</th>\n",
              "      <td>Over 4 Million Americans Roll Up Sleeves For O...</td>\n",
              "      <td>U.S. NEWS</td>\n",
              "      <td>Health experts said it is too early to predict...</td>\n",
              "      <td>Over 4 Million Americans Roll Up Sleeves For O...</td>\n",
              "      <td>[million, american, roll, sleeve, covid, boost...</td>\n",
              "      <td>231</td>\n",
              "    </tr>\n",
              "    <tr>\n",
              "      <th>1</th>\n",
              "      <td>American Airlines Flyer Charged, Banned For Li...</td>\n",
              "      <td>U.S. NEWS</td>\n",
              "      <td>He was subdued by passengers and crew when he ...</td>\n",
              "      <td>American Airlines Flyer Charged, Banned For Li...</td>\n",
              "      <td>[american, airline, flyer, charged, banned, li...</td>\n",
              "      <td>249</td>\n",
              "    </tr>\n",
              "    <tr>\n",
              "      <th>2</th>\n",
              "      <td>23 Of The Funniest Tweets About Cats And Dogs ...</td>\n",
              "      <td>COMEDY</td>\n",
              "      <td>\"Until you have a dog you don't understand wha...</td>\n",
              "      <td>23 Of The Funniest Tweets About Cats And Dogs ...</td>\n",
              "      <td>[funniest, tweet, cat, dog, week, dog, underst...</td>\n",
              "      <td>134</td>\n",
              "    </tr>\n",
              "    <tr>\n",
              "      <th>3</th>\n",
              "      <td>The Funniest Tweets From Parents This Week (Se...</td>\n",
              "      <td>PARENTING</td>\n",
              "      <td>\"Accidentally put grown-up toothpaste on my to...</td>\n",
              "      <td>The Funniest Tweets From Parents This Week (Se...</td>\n",
              "      <td>[funniest, tweet, parent, week, accidentally, ...</td>\n",
              "      <td>216</td>\n",
              "    </tr>\n",
              "    <tr>\n",
              "      <th>4</th>\n",
              "      <td>Woman Who Called Cops On Black Bird-Watcher Lo...</td>\n",
              "      <td>U.S. NEWS</td>\n",
              "      <td>Amy Cooper accused investment firm Franklin Te...</td>\n",
              "      <td>Woman Who Called Cops On Black Bird-Watcher Lo...</td>\n",
              "      <td>[woman, called, cop, black, loses, lawsuit, am...</td>\n",
              "      <td>234</td>\n",
              "    </tr>\n",
              "  </tbody>\n",
              "</table>\n",
              "</div>\n",
              "    <div class=\"colab-df-buttons\">\n",
              "\n",
              "  <div class=\"colab-df-container\">\n",
              "    <button class=\"colab-df-convert\" onclick=\"convertToInteractive('df-c84cd4c5-cc29-465f-a9c2-0a50eb606ca3')\"\n",
              "            title=\"Convert this dataframe to an interactive table.\"\n",
              "            style=\"display:none;\">\n",
              "\n",
              "  <svg xmlns=\"http://www.w3.org/2000/svg\" height=\"24px\" viewBox=\"0 -960 960 960\">\n",
              "    <path d=\"M120-120v-720h720v720H120Zm60-500h600v-160H180v160Zm220 220h160v-160H400v160Zm0 220h160v-160H400v160ZM180-400h160v-160H180v160Zm440 0h160v-160H620v160ZM180-180h160v-160H180v160Zm440 0h160v-160H620v160Z\"/>\n",
              "  </svg>\n",
              "    </button>\n",
              "\n",
              "  <style>\n",
              "    .colab-df-container {\n",
              "      display:flex;\n",
              "      gap: 12px;\n",
              "    }\n",
              "\n",
              "    .colab-df-convert {\n",
              "      background-color: #E8F0FE;\n",
              "      border: none;\n",
              "      border-radius: 50%;\n",
              "      cursor: pointer;\n",
              "      display: none;\n",
              "      fill: #1967D2;\n",
              "      height: 32px;\n",
              "      padding: 0 0 0 0;\n",
              "      width: 32px;\n",
              "    }\n",
              "\n",
              "    .colab-df-convert:hover {\n",
              "      background-color: #E2EBFA;\n",
              "      box-shadow: 0px 1px 2px rgba(60, 64, 67, 0.3), 0px 1px 3px 1px rgba(60, 64, 67, 0.15);\n",
              "      fill: #174EA6;\n",
              "    }\n",
              "\n",
              "    .colab-df-buttons div {\n",
              "      margin-bottom: 4px;\n",
              "    }\n",
              "\n",
              "    [theme=dark] .colab-df-convert {\n",
              "      background-color: #3B4455;\n",
              "      fill: #D2E3FC;\n",
              "    }\n",
              "\n",
              "    [theme=dark] .colab-df-convert:hover {\n",
              "      background-color: #434B5C;\n",
              "      box-shadow: 0px 1px 3px 1px rgba(0, 0, 0, 0.15);\n",
              "      filter: drop-shadow(0px 1px 2px rgba(0, 0, 0, 0.3));\n",
              "      fill: #FFFFFF;\n",
              "    }\n",
              "  </style>\n",
              "\n",
              "    <script>\n",
              "      const buttonEl =\n",
              "        document.querySelector('#df-c84cd4c5-cc29-465f-a9c2-0a50eb606ca3 button.colab-df-convert');\n",
              "      buttonEl.style.display =\n",
              "        google.colab.kernel.accessAllowed ? 'block' : 'none';\n",
              "\n",
              "      async function convertToInteractive(key) {\n",
              "        const element = document.querySelector('#df-c84cd4c5-cc29-465f-a9c2-0a50eb606ca3');\n",
              "        const dataTable =\n",
              "          await google.colab.kernel.invokeFunction('convertToInteractive',\n",
              "                                                    [key], {});\n",
              "        if (!dataTable) return;\n",
              "\n",
              "        const docLinkHtml = 'Like what you see? Visit the ' +\n",
              "          '<a target=\"_blank\" href=https://colab.research.google.com/notebooks/data_table.ipynb>data table notebook</a>'\n",
              "          + ' to learn more about interactive tables.';\n",
              "        element.innerHTML = '';\n",
              "        dataTable['output_type'] = 'display_data';\n",
              "        await google.colab.output.renderOutput(dataTable, element);\n",
              "        const docLink = document.createElement('div');\n",
              "        docLink.innerHTML = docLinkHtml;\n",
              "        element.appendChild(docLink);\n",
              "      }\n",
              "    </script>\n",
              "  </div>\n",
              "\n",
              "\n",
              "<div id=\"df-f8019a68-1606-41f3-846f-fdf781153929\">\n",
              "  <button class=\"colab-df-quickchart\" onclick=\"quickchart('df-f8019a68-1606-41f3-846f-fdf781153929')\"\n",
              "            title=\"Suggest charts\"\n",
              "            style=\"display:none;\">\n",
              "\n",
              "<svg xmlns=\"http://www.w3.org/2000/svg\" height=\"24px\"viewBox=\"0 0 24 24\"\n",
              "     width=\"24px\">\n",
              "    <g>\n",
              "        <path d=\"M19 3H5c-1.1 0-2 .9-2 2v14c0 1.1.9 2 2 2h14c1.1 0 2-.9 2-2V5c0-1.1-.9-2-2-2zM9 17H7v-7h2v7zm4 0h-2V7h2v10zm4 0h-2v-4h2v4z\"/>\n",
              "    </g>\n",
              "</svg>\n",
              "  </button>\n",
              "\n",
              "<style>\n",
              "  .colab-df-quickchart {\n",
              "      --bg-color: #E8F0FE;\n",
              "      --fill-color: #1967D2;\n",
              "      --hover-bg-color: #E2EBFA;\n",
              "      --hover-fill-color: #174EA6;\n",
              "      --disabled-fill-color: #AAA;\n",
              "      --disabled-bg-color: #DDD;\n",
              "  }\n",
              "\n",
              "  [theme=dark] .colab-df-quickchart {\n",
              "      --bg-color: #3B4455;\n",
              "      --fill-color: #D2E3FC;\n",
              "      --hover-bg-color: #434B5C;\n",
              "      --hover-fill-color: #FFFFFF;\n",
              "      --disabled-bg-color: #3B4455;\n",
              "      --disabled-fill-color: #666;\n",
              "  }\n",
              "\n",
              "  .colab-df-quickchart {\n",
              "    background-color: var(--bg-color);\n",
              "    border: none;\n",
              "    border-radius: 50%;\n",
              "    cursor: pointer;\n",
              "    display: none;\n",
              "    fill: var(--fill-color);\n",
              "    height: 32px;\n",
              "    padding: 0;\n",
              "    width: 32px;\n",
              "  }\n",
              "\n",
              "  .colab-df-quickchart:hover {\n",
              "    background-color: var(--hover-bg-color);\n",
              "    box-shadow: 0 1px 2px rgba(60, 64, 67, 0.3), 0 1px 3px 1px rgba(60, 64, 67, 0.15);\n",
              "    fill: var(--button-hover-fill-color);\n",
              "  }\n",
              "\n",
              "  .colab-df-quickchart-complete:disabled,\n",
              "  .colab-df-quickchart-complete:disabled:hover {\n",
              "    background-color: var(--disabled-bg-color);\n",
              "    fill: var(--disabled-fill-color);\n",
              "    box-shadow: none;\n",
              "  }\n",
              "\n",
              "  .colab-df-spinner {\n",
              "    border: 2px solid var(--fill-color);\n",
              "    border-color: transparent;\n",
              "    border-bottom-color: var(--fill-color);\n",
              "    animation:\n",
              "      spin 1s steps(1) infinite;\n",
              "  }\n",
              "\n",
              "  @keyframes spin {\n",
              "    0% {\n",
              "      border-color: transparent;\n",
              "      border-bottom-color: var(--fill-color);\n",
              "      border-left-color: var(--fill-color);\n",
              "    }\n",
              "    20% {\n",
              "      border-color: transparent;\n",
              "      border-left-color: var(--fill-color);\n",
              "      border-top-color: var(--fill-color);\n",
              "    }\n",
              "    30% {\n",
              "      border-color: transparent;\n",
              "      border-left-color: var(--fill-color);\n",
              "      border-top-color: var(--fill-color);\n",
              "      border-right-color: var(--fill-color);\n",
              "    }\n",
              "    40% {\n",
              "      border-color: transparent;\n",
              "      border-right-color: var(--fill-color);\n",
              "      border-top-color: var(--fill-color);\n",
              "    }\n",
              "    60% {\n",
              "      border-color: transparent;\n",
              "      border-right-color: var(--fill-color);\n",
              "    }\n",
              "    80% {\n",
              "      border-color: transparent;\n",
              "      border-right-color: var(--fill-color);\n",
              "      border-bottom-color: var(--fill-color);\n",
              "    }\n",
              "    90% {\n",
              "      border-color: transparent;\n",
              "      border-bottom-color: var(--fill-color);\n",
              "    }\n",
              "  }\n",
              "</style>\n",
              "\n",
              "  <script>\n",
              "    async function quickchart(key) {\n",
              "      const quickchartButtonEl =\n",
              "        document.querySelector('#' + key + ' button');\n",
              "      quickchartButtonEl.disabled = true;  // To prevent multiple clicks.\n",
              "      quickchartButtonEl.classList.add('colab-df-spinner');\n",
              "      try {\n",
              "        const charts = await google.colab.kernel.invokeFunction(\n",
              "            'suggestCharts', [key], {});\n",
              "      } catch (error) {\n",
              "        console.error('Error during call to suggestCharts:', error);\n",
              "      }\n",
              "      quickchartButtonEl.classList.remove('colab-df-spinner');\n",
              "      quickchartButtonEl.classList.add('colab-df-quickchart-complete');\n",
              "    }\n",
              "    (() => {\n",
              "      let quickchartButtonEl =\n",
              "        document.querySelector('#df-f8019a68-1606-41f3-846f-fdf781153929 button');\n",
              "      quickchartButtonEl.style.display =\n",
              "        google.colab.kernel.accessAllowed ? 'block' : 'none';\n",
              "    })();\n",
              "  </script>\n",
              "</div>\n",
              "    </div>\n",
              "  </div>\n"
            ],
            "application/vnd.google.colaboratory.intrinsic+json": {
              "type": "dataframe",
              "variable_name": "filtered_data",
              "summary": "{\n  \"name\": \"filtered_data\",\n  \"rows\": 994,\n  \"fields\": [\n    {\n      \"column\": \"headline\",\n      \"properties\": {\n        \"dtype\": \"string\",\n        \"num_unique_values\": 994,\n        \"samples\": [\n          \"DC Police Find 5 Fetuses In Home Of Anti-Abortion Activist Lauren Handy\",\n          \"31 Patriot Front Extremists Aiming To 'Riot' At Idaho Pride Event Arrested: Officials\",\n          \"Vivica A. Fox Unloads On Jada Pinkett Smith For 'No Accountability' In Slap\"\n        ],\n        \"semantic_type\": \"\",\n        \"description\": \"\"\n      }\n    },\n    {\n      \"column\": \"category\",\n      \"properties\": {\n        \"dtype\": \"category\",\n        \"num_unique_values\": 24,\n        \"samples\": [\n          \"POLITICS\",\n          \"STYLE & BEAUTY\",\n          \"U.S. NEWS\"\n        ],\n        \"semantic_type\": \"\",\n        \"description\": \"\"\n      }\n    },\n    {\n      \"column\": \"short_description\",\n      \"properties\": {\n        \"dtype\": \"string\",\n        \"num_unique_values\": 994,\n        \"samples\": [\n          \"\\\"People will freak out when they hear,\\\" the anti-abortion activist reportedly said.\",\n          \"The white supremacists, who were dressed in nearly identical uniforms and masks, \\\"did not come here to engage in peaceful events,\\\" said the local sheriff.\",\n          \"The \\\"Kill Bill\\\" star took issue with Pinkett Smith's \\\"cold\\\" comments about the Oscars assault on her \\\"Red Table Talk\\\" show.\"\n        ],\n        \"semantic_type\": \"\",\n        \"description\": \"\"\n      }\n    },\n    {\n      \"column\": \"full_article\",\n      \"properties\": {\n        \"dtype\": \"string\",\n        \"num_unique_values\": 994,\n        \"samples\": [\n          \"DC Police Find 5 Fetuses In Home Of Anti-Abortion Activist Lauren Handy \\\"People will freak out when they hear,\\\" the anti-abortion activist reportedly said.\",\n          \"31 Patriot Front Extremists Aiming To 'Riot' At Idaho Pride Event Arrested: Officials The white supremacists, who were dressed in nearly identical uniforms and masks, \\\"did not come here to engage in peaceful events,\\\" said the local sheriff.\",\n          \"Vivica A. Fox Unloads On Jada Pinkett Smith For 'No Accountability' In Slap The \\\"Kill Bill\\\" star took issue with Pinkett Smith's \\\"cold\\\" comments about the Oscars assault on her \\\"Red Table Talk\\\" show.\"\n        ],\n        \"semantic_type\": \"\",\n        \"description\": \"\"\n      }\n    },\n    {\n      \"column\": \"full_article_tokens\",\n      \"properties\": {\n        \"dtype\": \"object\",\n        \"semantic_type\": \"\",\n        \"description\": \"\"\n      }\n    },\n    {\n      \"column\": \"news_len\",\n      \"properties\": {\n        \"dtype\": \"number\",\n        \"std\": 34,\n        \"min\": 85,\n        \"max\": 283,\n        \"num_unique_values\": 160,\n        \"samples\": [\n          179,\n          117,\n          217\n        ],\n        \"semantic_type\": \"\",\n        \"description\": \"\"\n      }\n    }\n  ]\n}"
            }
          },
          "metadata": {},
          "execution_count": 27
        }
      ]
    },
    {
      "cell_type": "code",
      "source": [
        "filtered_data['category'].value_counts()"
      ],
      "metadata": {
        "id": "uCQXv-9on4Se",
        "colab": {
          "base_uri": "https://localhost:8080/"
        },
        "outputId": "9f6cf646-7d6f-4d19-d93e-ecd60453282b"
      },
      "execution_count": null,
      "outputs": [
        {
          "output_type": "execute_result",
          "data": {
            "text/plain": [
              "POLITICS          268\n",
              "ENTERTAINMENT     185\n",
              "U.S. NEWS         173\n",
              "WORLD NEWS        137\n",
              "SPORTS             36\n",
              "CRIME              26\n",
              "ENVIRONMENT        25\n",
              "CULTURE & ARTS     23\n",
              "WELLNESS           16\n",
              "PARENTING          15\n",
              "WEIRD NEWS         14\n",
              "FOOD & DRINK       14\n",
              "COMEDY             11\n",
              "BUSINESS            9\n",
              "STYLE & BEAUTY      9\n",
              "TECH                8\n",
              "SCIENCE             5\n",
              "WOMEN               5\n",
              "EDUCATION           3\n",
              "MEDIA               3\n",
              "HOME & LIVING       3\n",
              "BLACK VOICES        3\n",
              "QUEER VOICES        2\n",
              "TRAVEL              1\n",
              "Name: category, dtype: int64"
            ]
          },
          "metadata": {},
          "execution_count": 28
        }
      ]
    },
    {
      "cell_type": "code",
      "source": [
        "# Define the target count for resampling (e.g., maximum count among all categories)\n",
        "target_count = filtered_data['category'].value_counts().max()\n",
        "\n",
        "# Initialize an empty DataFrame to store the resampled data\n",
        "balanced_data = pd.DataFrame()\n",
        "\n",
        "# Iterate over unique categories\n",
        "for category in filtered_data['category'].unique():\n",
        "    # Filter data for the current category\n",
        "    category_data = filtered_data[filtered_data['category'] == category]\n",
        "\n",
        "    # Determine the number of samples to resample based on the target count\n",
        "    if len(category_data) >= target_count:\n",
        "        n_samples = target_count\n",
        "    else:\n",
        "        n_samples = target_count - len(category_data)\n",
        "\n",
        "    # Resample the data with replacement if necessary\n",
        "    if len(category_data) >= target_count:\n",
        "        sampled_data = resample(category_data, replace=False, n_samples=n_samples, random_state=42)\n",
        "    else:\n",
        "        sampled_data = resample(category_data, replace=True, n_samples=n_samples, random_state=42)\n",
        "\n",
        "    # Concatenate the resampled data with the balanced data\n",
        "    balanced_data = pd.concat([balanced_data, sampled_data])\n",
        "\n",
        "# Shuffle the balanced data\n",
        "balanced_data = balanced_data.sample(frac=1, random_state=42).reset_index(drop=True)\n"
      ],
      "metadata": {
        "id": "GbXxFkvnn95E"
      },
      "execution_count": null,
      "outputs": []
    },
    {
      "cell_type": "code",
      "source": [
        "balanced_data['category'].value_counts()"
      ],
      "metadata": {
        "id": "BcknYQmeoYj9",
        "colab": {
          "base_uri": "https://localhost:8080/"
        },
        "outputId": "d78bcf79-5d41-4046-898c-e26cb33fff52"
      },
      "execution_count": null,
      "outputs": [
        {
          "output_type": "execute_result",
          "data": {
            "text/plain": [
              "POLITICS          268\n",
              "TRAVEL            267\n",
              "QUEER VOICES      266\n",
              "EDUCATION         265\n",
              "BLACK VOICES      265\n",
              "HOME & LIVING     265\n",
              "MEDIA             265\n",
              "WOMEN             263\n",
              "SCIENCE           263\n",
              "TECH              260\n",
              "STYLE & BEAUTY    259\n",
              "BUSINESS          259\n",
              "COMEDY            257\n",
              "FOOD & DRINK      254\n",
              "WEIRD NEWS        254\n",
              "PARENTING         253\n",
              "WELLNESS          252\n",
              "CULTURE & ARTS    245\n",
              "ENVIRONMENT       243\n",
              "CRIME             242\n",
              "SPORTS            232\n",
              "WORLD NEWS        131\n",
              "U.S. NEWS          95\n",
              "ENTERTAINMENT      83\n",
              "Name: category, dtype: int64"
            ]
          },
          "metadata": {},
          "execution_count": 30
        }
      ]
    },
    {
      "cell_type": "code",
      "source": [
        "X = balanced_data.loc[:,filtered_data.columns != 'category']\n",
        "X.head()"
      ],
      "metadata": {
        "id": "mdb3rjxxofKS",
        "colab": {
          "base_uri": "https://localhost:8080/",
          "height": 206
        },
        "outputId": "2ccec86f-12ac-4c7b-8eef-2b156b3b0411"
      },
      "execution_count": null,
      "outputs": [
        {
          "output_type": "execute_result",
          "data": {
            "text/plain": [
              "                                            headline  \\\n",
              "0  Rain Cascades From Vegas Casino Ceilings As Th...   \n",
              "1  Facebook Is Still Allowing Mug Shots Even Thou...   \n",
              "2  If You're Doing This In Your Sleep, It's Time ...   \n",
              "3  Fuel Leak Ruins NASA's 2nd Shot At Launching N...   \n",
              "4  The Biggest COVID Issues People Bring Up In Th...   \n",
              "\n",
              "                                   short_description  \\\n",
              "0  Parts of the parched southwest are now being h...   \n",
              "1  When an individual’s mug shot goes viral on Fa...   \n",
              "2  Experts reveal symptoms that strike during nig...   \n",
              "3  Part of the space agency's Artemis program, th...   \n",
              "4  Mental health experts reveal the common pandem...   \n",
              "\n",
              "                                        full_article  \\\n",
              "0  Rain Cascades From Vegas Casino Ceilings As Th...   \n",
              "1  Facebook Is Still Allowing Mug Shots Even Thou...   \n",
              "2  If You're Doing This In Your Sleep, It's Time ...   \n",
              "3  Fuel Leak Ruins NASA's 2nd Shot At Launching N...   \n",
              "4  The Biggest COVID Issues People Bring Up In Th...   \n",
              "\n",
              "                                 full_article_tokens  news_len  \n",
              "0  [rain, cascade, vega, casino, ceiling, thunder...       191  \n",
              "1  [facebook, still, allowing, mug, shot, even, t...       221  \n",
              "2  [sleep, time, see, doctor, expert, reveal, sym...       168  \n",
              "3  [fuel, leak, ruin, nasa, shot, launching, new,...       145  \n",
              "4  [biggest, covid, issue, people, bring, therapy...       174  "
            ],
            "text/html": [
              "\n",
              "  <div id=\"df-d100af60-87c1-456b-89c0-2d13d7ee2458\" class=\"colab-df-container\">\n",
              "    <div>\n",
              "<style scoped>\n",
              "    .dataframe tbody tr th:only-of-type {\n",
              "        vertical-align: middle;\n",
              "    }\n",
              "\n",
              "    .dataframe tbody tr th {\n",
              "        vertical-align: top;\n",
              "    }\n",
              "\n",
              "    .dataframe thead th {\n",
              "        text-align: right;\n",
              "    }\n",
              "</style>\n",
              "<table border=\"1\" class=\"dataframe\">\n",
              "  <thead>\n",
              "    <tr style=\"text-align: right;\">\n",
              "      <th></th>\n",
              "      <th>headline</th>\n",
              "      <th>short_description</th>\n",
              "      <th>full_article</th>\n",
              "      <th>full_article_tokens</th>\n",
              "      <th>news_len</th>\n",
              "    </tr>\n",
              "  </thead>\n",
              "  <tbody>\n",
              "    <tr>\n",
              "      <th>0</th>\n",
              "      <td>Rain Cascades From Vegas Casino Ceilings As Th...</td>\n",
              "      <td>Parts of the parched southwest are now being h...</td>\n",
              "      <td>Rain Cascades From Vegas Casino Ceilings As Th...</td>\n",
              "      <td>[rain, cascade, vega, casino, ceiling, thunder...</td>\n",
              "      <td>191</td>\n",
              "    </tr>\n",
              "    <tr>\n",
              "      <th>1</th>\n",
              "      <td>Facebook Is Still Allowing Mug Shots Even Thou...</td>\n",
              "      <td>When an individual’s mug shot goes viral on Fa...</td>\n",
              "      <td>Facebook Is Still Allowing Mug Shots Even Thou...</td>\n",
              "      <td>[facebook, still, allowing, mug, shot, even, t...</td>\n",
              "      <td>221</td>\n",
              "    </tr>\n",
              "    <tr>\n",
              "      <th>2</th>\n",
              "      <td>If You're Doing This In Your Sleep, It's Time ...</td>\n",
              "      <td>Experts reveal symptoms that strike during nig...</td>\n",
              "      <td>If You're Doing This In Your Sleep, It's Time ...</td>\n",
              "      <td>[sleep, time, see, doctor, expert, reveal, sym...</td>\n",
              "      <td>168</td>\n",
              "    </tr>\n",
              "    <tr>\n",
              "      <th>3</th>\n",
              "      <td>Fuel Leak Ruins NASA's 2nd Shot At Launching N...</td>\n",
              "      <td>Part of the space agency's Artemis program, th...</td>\n",
              "      <td>Fuel Leak Ruins NASA's 2nd Shot At Launching N...</td>\n",
              "      <td>[fuel, leak, ruin, nasa, shot, launching, new,...</td>\n",
              "      <td>145</td>\n",
              "    </tr>\n",
              "    <tr>\n",
              "      <th>4</th>\n",
              "      <td>The Biggest COVID Issues People Bring Up In Th...</td>\n",
              "      <td>Mental health experts reveal the common pandem...</td>\n",
              "      <td>The Biggest COVID Issues People Bring Up In Th...</td>\n",
              "      <td>[biggest, covid, issue, people, bring, therapy...</td>\n",
              "      <td>174</td>\n",
              "    </tr>\n",
              "  </tbody>\n",
              "</table>\n",
              "</div>\n",
              "    <div class=\"colab-df-buttons\">\n",
              "\n",
              "  <div class=\"colab-df-container\">\n",
              "    <button class=\"colab-df-convert\" onclick=\"convertToInteractive('df-d100af60-87c1-456b-89c0-2d13d7ee2458')\"\n",
              "            title=\"Convert this dataframe to an interactive table.\"\n",
              "            style=\"display:none;\">\n",
              "\n",
              "  <svg xmlns=\"http://www.w3.org/2000/svg\" height=\"24px\" viewBox=\"0 -960 960 960\">\n",
              "    <path d=\"M120-120v-720h720v720H120Zm60-500h600v-160H180v160Zm220 220h160v-160H400v160Zm0 220h160v-160H400v160ZM180-400h160v-160H180v160Zm440 0h160v-160H620v160ZM180-180h160v-160H180v160Zm440 0h160v-160H620v160Z\"/>\n",
              "  </svg>\n",
              "    </button>\n",
              "\n",
              "  <style>\n",
              "    .colab-df-container {\n",
              "      display:flex;\n",
              "      gap: 12px;\n",
              "    }\n",
              "\n",
              "    .colab-df-convert {\n",
              "      background-color: #E8F0FE;\n",
              "      border: none;\n",
              "      border-radius: 50%;\n",
              "      cursor: pointer;\n",
              "      display: none;\n",
              "      fill: #1967D2;\n",
              "      height: 32px;\n",
              "      padding: 0 0 0 0;\n",
              "      width: 32px;\n",
              "    }\n",
              "\n",
              "    .colab-df-convert:hover {\n",
              "      background-color: #E2EBFA;\n",
              "      box-shadow: 0px 1px 2px rgba(60, 64, 67, 0.3), 0px 1px 3px 1px rgba(60, 64, 67, 0.15);\n",
              "      fill: #174EA6;\n",
              "    }\n",
              "\n",
              "    .colab-df-buttons div {\n",
              "      margin-bottom: 4px;\n",
              "    }\n",
              "\n",
              "    [theme=dark] .colab-df-convert {\n",
              "      background-color: #3B4455;\n",
              "      fill: #D2E3FC;\n",
              "    }\n",
              "\n",
              "    [theme=dark] .colab-df-convert:hover {\n",
              "      background-color: #434B5C;\n",
              "      box-shadow: 0px 1px 3px 1px rgba(0, 0, 0, 0.15);\n",
              "      filter: drop-shadow(0px 1px 2px rgba(0, 0, 0, 0.3));\n",
              "      fill: #FFFFFF;\n",
              "    }\n",
              "  </style>\n",
              "\n",
              "    <script>\n",
              "      const buttonEl =\n",
              "        document.querySelector('#df-d100af60-87c1-456b-89c0-2d13d7ee2458 button.colab-df-convert');\n",
              "      buttonEl.style.display =\n",
              "        google.colab.kernel.accessAllowed ? 'block' : 'none';\n",
              "\n",
              "      async function convertToInteractive(key) {\n",
              "        const element = document.querySelector('#df-d100af60-87c1-456b-89c0-2d13d7ee2458');\n",
              "        const dataTable =\n",
              "          await google.colab.kernel.invokeFunction('convertToInteractive',\n",
              "                                                    [key], {});\n",
              "        if (!dataTable) return;\n",
              "\n",
              "        const docLinkHtml = 'Like what you see? Visit the ' +\n",
              "          '<a target=\"_blank\" href=https://colab.research.google.com/notebooks/data_table.ipynb>data table notebook</a>'\n",
              "          + ' to learn more about interactive tables.';\n",
              "        element.innerHTML = '';\n",
              "        dataTable['output_type'] = 'display_data';\n",
              "        await google.colab.output.renderOutput(dataTable, element);\n",
              "        const docLink = document.createElement('div');\n",
              "        docLink.innerHTML = docLinkHtml;\n",
              "        element.appendChild(docLink);\n",
              "      }\n",
              "    </script>\n",
              "  </div>\n",
              "\n",
              "\n",
              "<div id=\"df-21a8237a-1962-459b-90a8-5cc8b541f232\">\n",
              "  <button class=\"colab-df-quickchart\" onclick=\"quickchart('df-21a8237a-1962-459b-90a8-5cc8b541f232')\"\n",
              "            title=\"Suggest charts\"\n",
              "            style=\"display:none;\">\n",
              "\n",
              "<svg xmlns=\"http://www.w3.org/2000/svg\" height=\"24px\"viewBox=\"0 0 24 24\"\n",
              "     width=\"24px\">\n",
              "    <g>\n",
              "        <path d=\"M19 3H5c-1.1 0-2 .9-2 2v14c0 1.1.9 2 2 2h14c1.1 0 2-.9 2-2V5c0-1.1-.9-2-2-2zM9 17H7v-7h2v7zm4 0h-2V7h2v10zm4 0h-2v-4h2v4z\"/>\n",
              "    </g>\n",
              "</svg>\n",
              "  </button>\n",
              "\n",
              "<style>\n",
              "  .colab-df-quickchart {\n",
              "      --bg-color: #E8F0FE;\n",
              "      --fill-color: #1967D2;\n",
              "      --hover-bg-color: #E2EBFA;\n",
              "      --hover-fill-color: #174EA6;\n",
              "      --disabled-fill-color: #AAA;\n",
              "      --disabled-bg-color: #DDD;\n",
              "  }\n",
              "\n",
              "  [theme=dark] .colab-df-quickchart {\n",
              "      --bg-color: #3B4455;\n",
              "      --fill-color: #D2E3FC;\n",
              "      --hover-bg-color: #434B5C;\n",
              "      --hover-fill-color: #FFFFFF;\n",
              "      --disabled-bg-color: #3B4455;\n",
              "      --disabled-fill-color: #666;\n",
              "  }\n",
              "\n",
              "  .colab-df-quickchart {\n",
              "    background-color: var(--bg-color);\n",
              "    border: none;\n",
              "    border-radius: 50%;\n",
              "    cursor: pointer;\n",
              "    display: none;\n",
              "    fill: var(--fill-color);\n",
              "    height: 32px;\n",
              "    padding: 0;\n",
              "    width: 32px;\n",
              "  }\n",
              "\n",
              "  .colab-df-quickchart:hover {\n",
              "    background-color: var(--hover-bg-color);\n",
              "    box-shadow: 0 1px 2px rgba(60, 64, 67, 0.3), 0 1px 3px 1px rgba(60, 64, 67, 0.15);\n",
              "    fill: var(--button-hover-fill-color);\n",
              "  }\n",
              "\n",
              "  .colab-df-quickchart-complete:disabled,\n",
              "  .colab-df-quickchart-complete:disabled:hover {\n",
              "    background-color: var(--disabled-bg-color);\n",
              "    fill: var(--disabled-fill-color);\n",
              "    box-shadow: none;\n",
              "  }\n",
              "\n",
              "  .colab-df-spinner {\n",
              "    border: 2px solid var(--fill-color);\n",
              "    border-color: transparent;\n",
              "    border-bottom-color: var(--fill-color);\n",
              "    animation:\n",
              "      spin 1s steps(1) infinite;\n",
              "  }\n",
              "\n",
              "  @keyframes spin {\n",
              "    0% {\n",
              "      border-color: transparent;\n",
              "      border-bottom-color: var(--fill-color);\n",
              "      border-left-color: var(--fill-color);\n",
              "    }\n",
              "    20% {\n",
              "      border-color: transparent;\n",
              "      border-left-color: var(--fill-color);\n",
              "      border-top-color: var(--fill-color);\n",
              "    }\n",
              "    30% {\n",
              "      border-color: transparent;\n",
              "      border-left-color: var(--fill-color);\n",
              "      border-top-color: var(--fill-color);\n",
              "      border-right-color: var(--fill-color);\n",
              "    }\n",
              "    40% {\n",
              "      border-color: transparent;\n",
              "      border-right-color: var(--fill-color);\n",
              "      border-top-color: var(--fill-color);\n",
              "    }\n",
              "    60% {\n",
              "      border-color: transparent;\n",
              "      border-right-color: var(--fill-color);\n",
              "    }\n",
              "    80% {\n",
              "      border-color: transparent;\n",
              "      border-right-color: var(--fill-color);\n",
              "      border-bottom-color: var(--fill-color);\n",
              "    }\n",
              "    90% {\n",
              "      border-color: transparent;\n",
              "      border-bottom-color: var(--fill-color);\n",
              "    }\n",
              "  }\n",
              "</style>\n",
              "\n",
              "  <script>\n",
              "    async function quickchart(key) {\n",
              "      const quickchartButtonEl =\n",
              "        document.querySelector('#' + key + ' button');\n",
              "      quickchartButtonEl.disabled = true;  // To prevent multiple clicks.\n",
              "      quickchartButtonEl.classList.add('colab-df-spinner');\n",
              "      try {\n",
              "        const charts = await google.colab.kernel.invokeFunction(\n",
              "            'suggestCharts', [key], {});\n",
              "      } catch (error) {\n",
              "        console.error('Error during call to suggestCharts:', error);\n",
              "      }\n",
              "      quickchartButtonEl.classList.remove('colab-df-spinner');\n",
              "      quickchartButtonEl.classList.add('colab-df-quickchart-complete');\n",
              "    }\n",
              "    (() => {\n",
              "      let quickchartButtonEl =\n",
              "        document.querySelector('#df-21a8237a-1962-459b-90a8-5cc8b541f232 button');\n",
              "      quickchartButtonEl.style.display =\n",
              "        google.colab.kernel.accessAllowed ? 'block' : 'none';\n",
              "    })();\n",
              "  </script>\n",
              "</div>\n",
              "    </div>\n",
              "  </div>\n"
            ],
            "application/vnd.google.colaboratory.intrinsic+json": {
              "type": "dataframe",
              "variable_name": "X",
              "summary": "{\n  \"name\": \"X\",\n  \"rows\": 5706,\n  \"fields\": [\n    {\n      \"column\": \"headline\",\n      \"properties\": {\n        \"dtype\": \"category\",\n        \"num_unique_values\": 715,\n        \"samples\": [\n          \"Jackie Robinson Museum Opens After 14 Years Of Planning\",\n          \"School Board Member Says Black Principal's Activism 'Got Him Fired' From School\",\n          \"The Funniest Tweets From Parents This Week (June 4-10)\"\n        ],\n        \"semantic_type\": \"\",\n        \"description\": \"\"\n      }\n    },\n    {\n      \"column\": \"short_description\",\n      \"properties\": {\n        \"dtype\": \"category\",\n        \"num_unique_values\": 715,\n        \"samples\": [\n          \"The Jackie Robinson Museum has opened in Manhattan with a gala ceremony attended by the 100-year-old wife of the barrier-breaking ballplayer and two of his children.\",\n          \"A letter about racism by James Whitfield, the first Black principal at a mostly white Texas high school, led to him being placed on leave.\",\n          \"\\\"Parenting classes should focus less on diapers and more on what to do when you\\u2019re sad but still have to pretend to be a tugboat\\\"\"\n        ],\n        \"semantic_type\": \"\",\n        \"description\": \"\"\n      }\n    },\n    {\n      \"column\": \"full_article\",\n      \"properties\": {\n        \"dtype\": \"category\",\n        \"num_unique_values\": 715,\n        \"samples\": [\n          \"Jackie Robinson Museum Opens After 14 Years Of Planning The Jackie Robinson Museum has opened in Manhattan with a gala ceremony attended by the 100-year-old wife of the barrier-breaking ballplayer and two of his children.\",\n          \"School Board Member Says Black Principal's Activism 'Got Him Fired' From School A letter about racism by James Whitfield, the first Black principal at a mostly white Texas high school, led to him being placed on leave.\",\n          \"The Funniest Tweets From Parents This Week (June 4-10) \\\"Parenting classes should focus less on diapers and more on what to do when you\\u2019re sad but still have to pretend to be a tugboat\\\"\"\n        ],\n        \"semantic_type\": \"\",\n        \"description\": \"\"\n      }\n    },\n    {\n      \"column\": \"full_article_tokens\",\n      \"properties\": {\n        \"dtype\": \"object\",\n        \"semantic_type\": \"\",\n        \"description\": \"\"\n      }\n    },\n    {\n      \"column\": \"news_len\",\n      \"properties\": {\n        \"dtype\": \"number\",\n        \"std\": 39,\n        \"min\": 85,\n        \"max\": 283,\n        \"num_unique_values\": 154,\n        \"samples\": [\n          156,\n          267,\n          242\n        ],\n        \"semantic_type\": \"\",\n        \"description\": \"\"\n      }\n    }\n  ]\n}"
            }
          },
          "metadata": {},
          "execution_count": 31
        }
      ]
    },
    {
      "cell_type": "code",
      "source": [
        "y = balanced_data['category']"
      ],
      "metadata": {
        "id": "IBc0FOi2okvW"
      },
      "execution_count": null,
      "outputs": []
    },
    {
      "cell_type": "code",
      "source": [
        "# Split data into training and test sets\n",
        "X_train, X_test, y_train, y_test = train_test_split(X, y, test_size=0.2, random_state=42)"
      ],
      "metadata": {
        "id": "pbCb5gLEopqz"
      },
      "execution_count": null,
      "outputs": []
    },
    {
      "cell_type": "code",
      "source": [
        "print(X_train.shape)\n",
        "print(X_test.shape)"
      ],
      "metadata": {
        "id": "GLGfkfGBwUd-",
        "colab": {
          "base_uri": "https://localhost:8080/"
        },
        "outputId": "bff68669-98d6-4f97-e058-d78d7297059a"
      },
      "execution_count": null,
      "outputs": [
        {
          "output_type": "stream",
          "name": "stdout",
          "text": [
            "(4564, 5)\n",
            "(1142, 5)\n"
          ]
        }
      ]
    },
    {
      "cell_type": "code",
      "source": [
        "print(y_train.shape)\n",
        "print(y_test.shape)"
      ],
      "metadata": {
        "id": "vZfsnvGHxWKJ",
        "colab": {
          "base_uri": "https://localhost:8080/"
        },
        "outputId": "c9529954-7c5c-43d4-c3aa-d77f83691d65"
      },
      "execution_count": null,
      "outputs": [
        {
          "output_type": "stream",
          "name": "stdout",
          "text": [
            "(4564,)\n",
            "(1142,)\n"
          ]
        }
      ]
    },
    {
      "cell_type": "code",
      "source": [
        "def classify_text(clf, doc, labels=None):\n",
        "  probas = clf.predict_proba([doc]).flatten()\n",
        "  max_proba_idx = np.argmax(probas)\n",
        "\n",
        "  if labels:\n",
        "    most_proba_class = labels[max_proba_idx]\n",
        "  else:\n",
        "    most_proba_class = max_proba_idx\n",
        "\n",
        "  return (most_proba_class, probas[max_proba_idx])"
      ],
      "metadata": {
        "id": "rP4Fara8znDg"
      },
      "execution_count": null,
      "outputs": []
    },
    {
      "cell_type": "code",
      "source": [
        "# Vectorize the training data\n",
        "vectorizer =TfidfVectorizer(max_features=1000)\n",
        "\n",
        "X_train_vectorized = vectorizer.fit_transform(X_train['full_article_tokens'].apply(lambda x: ' '.join(x)))\n",
        "X_test_vectorized = vectorizer.transform(X_test['full_article_tokens'].apply(lambda x: ' '.join(x)))"
      ],
      "metadata": {
        "id": "R_i-z2ORQyDA"
      },
      "execution_count": null,
      "outputs": []
    },
    {
      "cell_type": "code",
      "source": [
        "# Train a dummy classifier which guesses the category randomly.\n",
        "\n",
        "dummy_clf_1 = DummyClassifier(strategy=\"uniform\")\n",
        "dummy_clf_1.fit(X_train_vectorized, y_train)\n"
      ],
      "metadata": {
        "id": "fOR_ho_z7uHW",
        "colab": {
          "base_uri": "https://localhost:8080/",
          "height": 75
        },
        "outputId": "d5f733a9-822f-442f-f99b-2aed176df6e7"
      },
      "execution_count": null,
      "outputs": [
        {
          "output_type": "execute_result",
          "data": {
            "text/plain": [
              "DummyClassifier(strategy='uniform')"
            ],
            "text/html": [
              "<style>#sk-container-id-2 {color: black;background-color: white;}#sk-container-id-2 pre{padding: 0;}#sk-container-id-2 div.sk-toggleable {background-color: white;}#sk-container-id-2 label.sk-toggleable__label {cursor: pointer;display: block;width: 100%;margin-bottom: 0;padding: 0.3em;box-sizing: border-box;text-align: center;}#sk-container-id-2 label.sk-toggleable__label-arrow:before {content: \"▸\";float: left;margin-right: 0.25em;color: #696969;}#sk-container-id-2 label.sk-toggleable__label-arrow:hover:before {color: black;}#sk-container-id-2 div.sk-estimator:hover label.sk-toggleable__label-arrow:before {color: black;}#sk-container-id-2 div.sk-toggleable__content {max-height: 0;max-width: 0;overflow: hidden;text-align: left;background-color: #f0f8ff;}#sk-container-id-2 div.sk-toggleable__content pre {margin: 0.2em;color: black;border-radius: 0.25em;background-color: #f0f8ff;}#sk-container-id-2 input.sk-toggleable__control:checked~div.sk-toggleable__content {max-height: 200px;max-width: 100%;overflow: auto;}#sk-container-id-2 input.sk-toggleable__control:checked~label.sk-toggleable__label-arrow:before {content: \"▾\";}#sk-container-id-2 div.sk-estimator input.sk-toggleable__control:checked~label.sk-toggleable__label {background-color: #d4ebff;}#sk-container-id-2 div.sk-label input.sk-toggleable__control:checked~label.sk-toggleable__label {background-color: #d4ebff;}#sk-container-id-2 input.sk-hidden--visually {border: 0;clip: rect(1px 1px 1px 1px);clip: rect(1px, 1px, 1px, 1px);height: 1px;margin: -1px;overflow: hidden;padding: 0;position: absolute;width: 1px;}#sk-container-id-2 div.sk-estimator {font-family: monospace;background-color: #f0f8ff;border: 1px dotted black;border-radius: 0.25em;box-sizing: border-box;margin-bottom: 0.5em;}#sk-container-id-2 div.sk-estimator:hover {background-color: #d4ebff;}#sk-container-id-2 div.sk-parallel-item::after {content: \"\";width: 100%;border-bottom: 1px solid gray;flex-grow: 1;}#sk-container-id-2 div.sk-label:hover label.sk-toggleable__label {background-color: #d4ebff;}#sk-container-id-2 div.sk-serial::before {content: \"\";position: absolute;border-left: 1px solid gray;box-sizing: border-box;top: 0;bottom: 0;left: 50%;z-index: 0;}#sk-container-id-2 div.sk-serial {display: flex;flex-direction: column;align-items: center;background-color: white;padding-right: 0.2em;padding-left: 0.2em;position: relative;}#sk-container-id-2 div.sk-item {position: relative;z-index: 1;}#sk-container-id-2 div.sk-parallel {display: flex;align-items: stretch;justify-content: center;background-color: white;position: relative;}#sk-container-id-2 div.sk-item::before, #sk-container-id-2 div.sk-parallel-item::before {content: \"\";position: absolute;border-left: 1px solid gray;box-sizing: border-box;top: 0;bottom: 0;left: 50%;z-index: -1;}#sk-container-id-2 div.sk-parallel-item {display: flex;flex-direction: column;z-index: 1;position: relative;background-color: white;}#sk-container-id-2 div.sk-parallel-item:first-child::after {align-self: flex-end;width: 50%;}#sk-container-id-2 div.sk-parallel-item:last-child::after {align-self: flex-start;width: 50%;}#sk-container-id-2 div.sk-parallel-item:only-child::after {width: 0;}#sk-container-id-2 div.sk-dashed-wrapped {border: 1px dashed gray;margin: 0 0.4em 0.5em 0.4em;box-sizing: border-box;padding-bottom: 0.4em;background-color: white;}#sk-container-id-2 div.sk-label label {font-family: monospace;font-weight: bold;display: inline-block;line-height: 1.2em;}#sk-container-id-2 div.sk-label-container {text-align: center;}#sk-container-id-2 div.sk-container {/* jupyter's `normalize.less` sets `[hidden] { display: none; }` but bootstrap.min.css set `[hidden] { display: none !important; }` so we also need the `!important` here to be able to override the default hidden behavior on the sphinx rendered scikit-learn.org. See: https://github.com/scikit-learn/scikit-learn/issues/21755 */display: inline-block !important;position: relative;}#sk-container-id-2 div.sk-text-repr-fallback {display: none;}</style><div id=\"sk-container-id-2\" class=\"sk-top-container\"><div class=\"sk-text-repr-fallback\"><pre>DummyClassifier(strategy=&#x27;uniform&#x27;)</pre><b>In a Jupyter environment, please rerun this cell to show the HTML representation or trust the notebook. <br />On GitHub, the HTML representation is unable to render, please try loading this page with nbviewer.org.</b></div><div class=\"sk-container\" hidden><div class=\"sk-item\"><div class=\"sk-estimator sk-toggleable\"><input class=\"sk-toggleable__control sk-hidden--visually\" id=\"sk-estimator-id-2\" type=\"checkbox\" checked><label for=\"sk-estimator-id-2\" class=\"sk-toggleable__label sk-toggleable__label-arrow\">DummyClassifier</label><div class=\"sk-toggleable__content\"><pre>DummyClassifier(strategy=&#x27;uniform&#x27;)</pre></div></div></div></div></div>"
            ]
          },
          "metadata": {},
          "execution_count": 50
        }
      ]
    },
    {
      "cell_type": "code",
      "source": [
        "class_labels = [sublist for sublist in set(filtered_data['category'])]\n",
        "print(class_labels)"
      ],
      "metadata": {
        "id": "c2P29kK0xTud",
        "colab": {
          "base_uri": "https://localhost:8080/"
        },
        "outputId": "c018d75e-faf2-4fa2-bc9b-cdc7a7a1664c"
      },
      "execution_count": 65,
      "outputs": [
        {
          "output_type": "stream",
          "name": "stdout",
          "text": [
            "['SPORTS', 'CRIME', 'BLACK VOICES', 'QUEER VOICES', 'MEDIA', 'SCIENCE', 'CULTURE & ARTS', 'TRAVEL', 'TECH', 'WORLD NEWS', 'PARENTING', 'WELLNESS', 'COMEDY', 'EDUCATION', 'FOOD & DRINK', 'ENVIRONMENT', 'U.S. NEWS', 'BUSINESS', 'POLITICS', 'HOME & LIVING', 'ENTERTAINMENT', 'WOMEN', 'STYLE & BEAUTY', 'WEIRD NEWS']\n"
          ]
        }
      ]
    },
    {
      "cell_type": "code",
      "source": [
        "s = \"government imposed a curfew\"\n",
        "classify_text(dummy_clf_1, s, class_labels)"
      ],
      "metadata": {
        "id": "eR8Tg51Y8HM5",
        "colab": {
          "base_uri": "https://localhost:8080/"
        },
        "outputId": "43b56a30-cd7a-483c-aa87-7a8c35199d4d"
      },
      "execution_count": null,
      "outputs": [
        {
          "output_type": "execute_result",
          "data": {
            "text/plain": [
              "('SPORTS', 0.041666666666666664)"
            ]
          },
          "metadata": {},
          "execution_count": 52
        }
      ]
    },
    {
      "cell_type": "code",
      "source": [
        "def predict_text(clf, sent_vec, labels=None):\n",
        "  preds_proba = clf.predict_proba(sent_vec)\n",
        "  max_value = np.max(preds_proba)\n",
        "  if labels:\n",
        "    # Find the index of the class label with maximum probability\n",
        "    max_prob_index = np.argmax(preds_proba[0])\n",
        "\n",
        "    # Get the class label and its corresponding probability\n",
        "    max_prob_class_label = labels[max_prob_index]\n",
        "    max_prob = preds_proba[0][max_prob_index]\n",
        "    return (f\"Class Label: {max_prob_class_label}, Probability: {max_prob}\")\n",
        "\n",
        "  else:\n",
        "      return (f\"Probability: {max_value}, attach labels to find out the topic\")"
      ],
      "metadata": {
        "id": "a1BXq4AYles4"
      },
      "execution_count": null,
      "outputs": []
    },
    {
      "cell_type": "code",
      "source": [
        "# extended: train a Naive Bayes Classifier\n",
        "nb_classifier = MultinomialNB()\n",
        "nb_classifier.fit(X_train_vectorized, y_train)\n",
        "nb_classifier.get_params()"
      ],
      "metadata": {
        "colab": {
          "base_uri": "https://localhost:8080/"
        },
        "id": "WuMkpwQ3thg9",
        "outputId": "42078d2d-3ede-4106-bdd7-6f2006b2f61d"
      },
      "execution_count": null,
      "outputs": [
        {
          "output_type": "execute_result",
          "data": {
            "text/plain": [
              "{'alpha': 1.0, 'class_prior': None, 'fit_prior': True, 'force_alpha': 'warn'}"
            ]
          },
          "metadata": {},
          "execution_count": 59
        }
      ]
    },
    {
      "cell_type": "code",
      "source": [
        "# Evaluate the NB classifier\n",
        "predictions = nb_classifier.predict(X_test_vectorized)\n",
        "print(\"Classification Report:\")\n",
        "print(classification_report(y_test, predictions))"
      ],
      "metadata": {
        "colab": {
          "base_uri": "https://localhost:8080/"
        },
        "id": "u5tBXfLTv9jY",
        "outputId": "fe5ae77e-035f-4621-a87c-493d3b75025d"
      },
      "execution_count": null,
      "outputs": [
        {
          "output_type": "stream",
          "name": "stdout",
          "text": [
            "Classification Report:\n",
            "                precision    recall  f1-score   support\n",
            "\n",
            "  BLACK VOICES       0.91      1.00      0.96        43\n",
            "      BUSINESS       0.96      1.00      0.98        49\n",
            "        COMEDY       0.96      1.00      0.98        54\n",
            "         CRIME       0.78      1.00      0.88        43\n",
            "CULTURE & ARTS       0.87      1.00      0.93        53\n",
            "     EDUCATION       0.96      1.00      0.98        47\n",
            " ENTERTAINMENT       1.00      0.09      0.17        22\n",
            "   ENVIRONMENT       0.86      1.00      0.93        56\n",
            "  FOOD & DRINK       1.00      1.00      1.00        55\n",
            " HOME & LIVING       1.00      1.00      1.00        57\n",
            "         MEDIA       0.98      1.00      0.99        43\n",
            "     PARENTING       0.94      1.00      0.97        44\n",
            "      POLITICS       0.70      0.73      0.71        48\n",
            "  QUEER VOICES       0.97      1.00      0.98        60\n",
            "       SCIENCE       0.97      1.00      0.98        64\n",
            "        SPORTS       0.92      1.00      0.96        46\n",
            "STYLE & BEAUTY       1.00      1.00      1.00        60\n",
            "          TECH       0.98      1.00      0.99        59\n",
            "        TRAVEL       1.00      1.00      1.00        40\n",
            "     U.S. NEWS       1.00      0.04      0.08        24\n",
            "    WEIRD NEWS       0.98      1.00      0.99        49\n",
            "      WELLNESS       1.00      1.00      1.00        47\n",
            "         WOMEN       1.00      1.00      1.00        53\n",
            "    WORLD NEWS       0.86      0.46      0.60        26\n",
            "\n",
            "      accuracy                           0.94      1142\n",
            "     macro avg       0.94      0.89      0.88      1142\n",
            "  weighted avg       0.94      0.94      0.92      1142\n",
            "\n"
          ]
        }
      ]
    },
    {
      "cell_type": "code",
      "source": [
        "# Plot confusion matrix\n",
        "cm = confusion_matrix(y_test, predictions)\n",
        "plt.figure(figsize=(8, 6))\n",
        "sns.heatmap(cm, annot=True, fmt=\"d\", cmap=\"Blues\", xticklabels=sorted(set(y_test)), yticklabels=sorted(set(y_test)))\n",
        "plt.xlabel('Predicted Label')\n",
        "plt.ylabel('True Label')\n",
        "plt.title('Confusion Matrix')\n",
        "plt.show()"
      ],
      "metadata": {
        "colab": {
          "base_uri": "https://localhost:8080/",
          "height": 668
        },
        "id": "VSHmpCxbw3pV",
        "outputId": "473a393a-8313-43e6-8717-0dcfedff4bd8"
      },
      "execution_count": null,
      "outputs": [
        {
          "output_type": "display_data",
          "data": {
            "text/plain": [
              "<Figure size 800x600 with 2 Axes>"
            ],
            "image/png": "[encoded data removed]"
          },
          "metadata": {}
        }
      ]
    },
    {
      "cell_type": "code",
      "source": [
        "# Test sentence\n",
        "s = [\"government imposed a curfew\"]\n",
        "\n",
        "# Transform test data using the fitted vectorizer\n",
        "x_test_feature_vector = vectorizer.transform(s)\n",
        "\n",
        "# Classify text\n",
        "predict_text(nb_classifier, x_test_feature_vector, class_labels)\n",
        "\n"
      ],
      "metadata": {
        "colab": {
          "base_uri": "https://localhost:8080/",
          "height": 42
        },
        "id": "V-m5MUbVgoLb",
        "outputId": "1eaa4b1f-4ed0-46b9-c23b-424d372a607f"
      },
      "execution_count": null,
      "outputs": [
        {
          "output_type": "execute_result",
          "data": {
            "text/plain": [
              "'Class Label: POLITICS, Probability: 0.04973707274320773'"
            ],
            "application/vnd.google.colaboratory.intrinsic+json": {
              "type": "string"
            }
          },
          "metadata": {},
          "execution_count": 62
        }
      ]
    },
    {
      "cell_type": "code",
      "source": [
        "# Test sentence\n",
        "s = [\"government announces new rules\"]\n",
        "\n",
        "# Transform test data using the fitted vectorizer\n",
        "x_test_feature_vector = vectorizer.transform(s)\n",
        "\n",
        "# Classify text\n",
        "predict_text(nb_classifier, x_test_feature_vector, class_labels)"
      ],
      "metadata": {
        "colab": {
          "base_uri": "https://localhost:8080/",
          "height": 42
        },
        "id": "xq_IfT6ixdup",
        "outputId": "90cfd157-b6d7-478d-f4aa-35ae3a592b83"
      },
      "execution_count": null,
      "outputs": [
        {
          "output_type": "execute_result",
          "data": {
            "text/plain": [
              "'Class Label: WORLD NEWS, Probability: 0.2750227279266871'"
            ],
            "application/vnd.google.colaboratory.intrinsic+json": {
              "type": "string"
            }
          },
          "metadata": {},
          "execution_count": 63
        }
      ]
    },
    {
      "cell_type": "code",
      "source": [
        "filename = '/content/dummy_classification_model.pkl'\n",
        "pickle.dump(dummy_clf_1, open(filename, 'wb'), -1)"
      ],
      "metadata": {
        "id": "u-U2kWyRDzfV"
      },
      "execution_count": null,
      "outputs": []
    }
  ]
}