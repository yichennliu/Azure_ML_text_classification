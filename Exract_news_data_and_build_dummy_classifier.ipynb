{
  "nbformat": 4,
  "nbformat_minor": 0,
  "metadata": {
    "colab": {
      "provenance": []
    },
    "kernelspec": {
      "name": "python3",
      "display_name": "Python 3"
    },
    "language_info": {
      "name": "python"
    }
  },
  "cells": [
    {
      "cell_type": "markdown",
      "source": [
        "\n",
        "# **Extract news category dataset and build a dummy classifier**\n",
        "# Dataset:\n",
        "  1000 subset of news from [News category dataset](https://rishabhmisra.github.io/publications) that contains news headlines with around 42 categories. For this training process, only four categories are used for training for a dummy classifier.\n",
        "# Steps:\n",
        "1.   Import needed libraries\n",
        "2.   Text preprocessing (tokenization, stop word removal, punctuation removal, and lemmatization\n",
        "3.   Using pandas to transform the datasets\n",
        "4.   Build a dummy classifier using scikit-learn\n",
        "\n"
      ],
      "metadata": {
        "id": "z0HEup7NPNUE"
      }
    },
    {
      "cell_type": "code",
      "source": [
        "# Importing libraries\n",
        "import pandas as pd\n",
        "import json\n",
        "from pandas import DataFrame as df\n",
        "from pandas import json_normalize\n",
        "import numpy as np\n",
        "import matplotlib.pyplot as plt\n",
        "import seaborn as sns\n",
        "from sklearn.preprocessing import LabelEncoder\n",
        "from sklearn.feature_extraction.text import CountVectorizer\n",
        "from sklearn import metrics\n",
        "from sklearn.metrics import confusion_matrix\n",
        "from sklearn.utils import resample\n",
        "from sklearn.model_selection import GridSearchCV\n",
        "from sklearn.naive_bayes import MultinomialNB\n",
        "from sklearn.model_selection import train_test_split\n",
        "import spacy\n",
        "from sklearn.datasets import fetch_20newsgroups\n",
        "from sklearn.dummy import DummyClassifier\n",
        "from sklearn.feature_extraction.text import TfidfVectorizer\n",
        "from sklearn.metrics import confusion_matrix, ConfusionMatrixDisplay\n",
        "from sklearn.pipeline import Pipeline\n",
        "import pickle\n",
        "import nltk\n",
        "nltk.download('punkt')\n",
        "nltk.download('stopwords')\n",
        "from nltk.corpus import stopwords\n",
        "from nltk.stem import WordNetLemmatizer\n",
        "nltk.download('wordnet')"
      ],
      "metadata": {
        "id": "WSSCS6rePQnh",
        "colab": {
          "base_uri": "https://localhost:8080/"
        },
        "outputId": "4d3af36a-ac93-4062-a4ee-424c4761f48d"
      },
      "execution_count": null,
      "outputs": [
        {
          "output_type": "stream",
          "name": "stderr",
          "text": [
            "[nltk_data] Downloading package punkt to /root/nltk_data...\n",
            "[nltk_data]   Package punkt is already up-to-date!\n",
            "[nltk_data] Downloading package stopwords to /root/nltk_data...\n",
            "[nltk_data]   Package stopwords is already up-to-date!\n",
            "[nltk_data] Downloading package wordnet to /root/nltk_data...\n",
            "[nltk_data]   Package wordnet is already up-to-date!\n"
          ]
        },
        {
          "output_type": "execute_result",
          "data": {
            "text/plain": [
              "True"
            ]
          },
          "metadata": {},
          "execution_count": 60
        }
      ]
    },
    {
      "cell_type": "code",
      "source": [
        "cd /root/nltk_data/corpora"
      ],
      "metadata": {
        "colab": {
          "base_uri": "https://localhost:8080/"
        },
        "id": "AdjWO-hQdU1Z",
        "outputId": "95b270f6-296d-435d-ae34-2d5da6ac9861"
      },
      "execution_count": null,
      "outputs": [
        {
          "output_type": "stream",
          "name": "stdout",
          "text": [
            "/root/nltk_data/corpora\n"
          ]
        }
      ]
    },
    {
      "cell_type": "code",
      "source": [
        "!ls"
      ],
      "metadata": {
        "colab": {
          "base_uri": "https://localhost:8080/"
        },
        "id": "XcxZDZxCdtQ2",
        "outputId": "3db618b7-b936-40e6-8ed0-f04da7ac4603"
      },
      "execution_count": null,
      "outputs": [
        {
          "output_type": "stream",
          "name": "stdout",
          "text": [
            "dummy_classification_model.pkl\tstopwords  stopwords.zip  wordnet  wordnet.zip\n"
          ]
        }
      ]
    },
    {
      "cell_type": "code",
      "source": [
        "!unzip wordnet.zip"
      ],
      "metadata": {
        "colab": {
          "base_uri": "https://localhost:8080/"
        },
        "id": "9TsPi_8qd1QM",
        "outputId": "8a7130ad-647c-49d8-c38b-68f65a8a4d49"
      },
      "execution_count": null,
      "outputs": [
        {
          "output_type": "stream",
          "name": "stdout",
          "text": [
            "Archive:  wordnet.zip\n",
            "replace wordnet/lexnames? [y]es, [n]o, [A]ll, [N]one, [r]ename: A\n",
            "  inflating: wordnet/lexnames        \n",
            "  inflating: wordnet/data.verb       \n",
            "  inflating: wordnet/index.adv       \n",
            "  inflating: wordnet/adv.exc         \n",
            "  inflating: wordnet/index.verb      \n",
            "  inflating: wordnet/cntlist.rev     \n",
            "  inflating: wordnet/data.adj        \n",
            "  inflating: wordnet/index.adj       \n",
            "  inflating: wordnet/LICENSE         \n",
            "  inflating: wordnet/citation.bib    \n",
            "  inflating: wordnet/noun.exc        \n",
            "  inflating: wordnet/verb.exc        \n",
            "  inflating: wordnet/README          \n",
            "  inflating: wordnet/index.sense     \n",
            "  inflating: wordnet/data.noun       \n",
            "  inflating: wordnet/data.adv        \n",
            "  inflating: wordnet/index.noun      \n",
            "  inflating: wordnet/adj.exc         \n"
          ]
        }
      ]
    },
    {
      "cell_type": "code",
      "source": [
        "data ={}\n",
        "def read_json_file(file):\n",
        "    with open(file, \"r\") as r:\n",
        "        response = r.read()\n",
        "        response = response.replace('\\n', '')\n",
        "        response = response.replace('}{', '},{')\n",
        "        response = \"[\" + response + \"]\"\n",
        "        return json.loads(response)\n",
        "\n",
        "response = read_json_file(\"/content/newstext_2000.json\")\n",
        "data[\"News\"] = response\n",
        "df2 = json_normalize(data['News'])"
      ],
      "metadata": {
        "id": "7jeSNPR011zZ"
      },
      "execution_count": null,
      "outputs": []
    },
    {
      "cell_type": "code",
      "source": [
        "df2.info()"
      ],
      "metadata": {
        "colab": {
          "base_uri": "https://localhost:8080/"
        },
        "id": "H-Oiukw_h0fj",
        "outputId": "5289b6fa-8fe1-4587-a80d-2579f02f40e3"
      },
      "execution_count": null,
      "outputs": [
        {
          "output_type": "stream",
          "name": "stdout",
          "text": [
            "<class 'pandas.core.frame.DataFrame'>\n",
            "RangeIndex: 999 entries, 0 to 998\n",
            "Data columns (total 6 columns):\n",
            " #   Column             Non-Null Count  Dtype \n",
            "---  ------             --------------  ----- \n",
            " 0   link               999 non-null    object\n",
            " 1   headline           999 non-null    object\n",
            " 2   category           999 non-null    object\n",
            " 3   short_description  999 non-null    object\n",
            " 4   authors            999 non-null    object\n",
            " 5   date               999 non-null    object\n",
            "dtypes: object(6)\n",
            "memory usage: 47.0+ KB\n"
          ]
        }
      ]
    },
    {
      "cell_type": "code",
      "source": [
        "print(\"Number of categories = \",df2['category'].nunique())"
      ],
      "metadata": {
        "colab": {
          "base_uri": "https://localhost:8080/"
        },
        "id": "Eq6ldje1iUhN",
        "outputId": "51d886da-ab7c-442c-c2b0-131def232aab"
      },
      "execution_count": null,
      "outputs": [
        {
          "output_type": "stream",
          "name": "stdout",
          "text": [
            "Number of categories =  26\n"
          ]
        }
      ]
    },
    {
      "cell_type": "code",
      "source": [
        "df2['category'].value_counts()"
      ],
      "metadata": {
        "colab": {
          "base_uri": "https://localhost:8080/"
        },
        "id": "GI0dOr3tidXN",
        "outputId": "3b88e924-c1d7-4f45-ef79-3b62b7f874d8"
      },
      "execution_count": null,
      "outputs": [
        {
          "output_type": "execute_result",
          "data": {
            "text/plain": [
              "POLITICS          598\n",
              "ENTERTAINMENT     356\n",
              "U.S. NEWS         320\n",
              "WORLD NEWS        255\n",
              "SPORTS             83\n",
              "CRIME              54\n",
              "ENVIRONMENT        43\n",
              "WELLNESS           37\n",
              "FOOD & DRINK       36\n",
              "STYLE & BEAUTY     28\n",
              "COMEDY             26\n",
              "WEIRD NEWS         24\n",
              "CULTURE & ARTS     23\n",
              "PARENTING          20\n",
              "BUSINESS           20\n",
              "HOME & LIVING      15\n",
              "WOMEN              12\n",
              "MEDIA              10\n",
              "SCIENCE            10\n",
              "TECH               10\n",
              "BLACK VOICES        6\n",
              "EDUCATION           5\n",
              "TRAVEL              4\n",
              "QUEER VOICES        2\n",
              "MONEY               1\n",
              "RELIGION            1\n",
              "Name: category, dtype: int64"
            ]
          },
          "metadata": {},
          "execution_count": 67
        }
      ]
    },
    {
      "cell_type": "code",
      "source": [
        "plt.figure(figsize=(25,13))\n",
        "sns.barplot(y=df2['category'].value_counts().index,x=df2['category'].value_counts().values)\n",
        "plt.title(\"The distribution of categories\")\n",
        "plt.xlabel(\"Category\")\n",
        "plt.ylabel(\"The number of samples\")\n",
        "\n",
        "plt.yticks(rotation=0,fontsize = 16)\n",
        "plt.show()"
      ],
      "metadata": {
        "colab": {
          "base_uri": "https://localhost:8080/",
          "height": 763
        },
        "id": "CTrEP419il2a",
        "outputId": "1b4907f7-6438-4aa5-9a95-0f90fecc632a"
      },
      "execution_count": null,
      "outputs": [
        {
          "output_type": "display_data",
          "data": {
            "text/plain": [
              "<Figure size 2500x1300 with 1 Axes>"
            ],
            "image/png": "[encoded data removed]"
          },
          "metadata": {}
        }
      ]
    },
    {
      "cell_type": "code",
      "source": [
        "#Concatenate headline and short_description into a full_article column\n",
        "df2['full_article'] = df2['headline'] + \" \" + df2['short_description']"
      ],
      "metadata": {
        "id": "PuIzr63si6YZ"
      },
      "execution_count": null,
      "outputs": []
    },
    {
      "cell_type": "code",
      "source": [
        "lemmatizer = WordNetLemmatizer()\n",
        "stop_words = set(stopwords.words('english'))\n",
        "\n",
        "def preprocess(text):\n",
        "    text = text.lower() #convert to lowercase letters\n",
        "    tokens = nltk.word_tokenize(text) #word tokenization\n",
        "    tokens = [token for token in tokens if token.isalpha()] #Remove puncutations and numbers\n",
        "    tokens = [token for token in tokens if token not in stop_words] #Remove Stopwords\n",
        "    tokens = [lemmatizer.lemmatize(token) for token in tokens] #Lemmitization\n",
        "\n",
        "    return tokens"
      ],
      "metadata": {
        "id": "Yyu-eQT6jPFx"
      },
      "execution_count": null,
      "outputs": []
    },
    {
      "cell_type": "code",
      "source": [
        "df2.loc[:, ('full_article_tokens')] = df2.loc[:,('full_article')].apply(lambda x: preprocess(x))\n",
        "print(df2)"
      ],
      "metadata": {
        "colab": {
          "base_uri": "https://localhost:8080/"
        },
        "id": "Hq3QdjlcjpOR",
        "outputId": "d04e2260-f31f-4c7d-a97e-d734f7b07424"
      },
      "execution_count": null,
      "outputs": [
        {
          "output_type": "stream",
          "name": "stdout",
          "text": [
            "                                                   link  \\\n",
            "0     https://www.huffpost.com/entry/covid-boosters-...   \n",
            "1     https://www.huffpost.com/entry/american-airlin...   \n",
            "2     https://www.huffpost.com/entry/funniest-tweets...   \n",
            "3     https://www.huffpost.com/entry/funniest-parent...   \n",
            "4     https://www.huffpost.com/entry/amy-cooper-lose...   \n",
            "...                                                 ...   \n",
            "1994  https://www.huffpost.com/entry/pizza-roll-poop...   \n",
            "1995  https://www.huffpost.com/entry/clarence-thomas...   \n",
            "1996  https://www.huffpost.com/entry/get-dinner-on-t...   \n",
            "1997  https://www.huffpost.com/entry/chrissy-teigen-...   \n",
            "1998  https://www.huffpost.com/entry/bachelorette-ba...   \n",
            "\n",
            "                                               headline       category  \\\n",
            "0     Over 4 Million Americans Roll Up Sleeves For O...      U.S. NEWS   \n",
            "1     American Airlines Flyer Charged, Banned For Li...      U.S. NEWS   \n",
            "2     23 Of The Funniest Tweets About Cats And Dogs ...         COMEDY   \n",
            "3     The Funniest Tweets From Parents This Week (Se...      PARENTING   \n",
            "4     Woman Who Called Cops On Black Bird-Watcher Lo...      U.S. NEWS   \n",
            "...                                                 ...            ...   \n",
            "1994  Alleged Pizza Roll Pooper Apprehended After Ok...     WEIRD NEWS   \n",
            "1995  Clarence Thomas Criticizes Judges For Veering ...       POLITICS   \n",
            "1996  Get Dinner On The Table Faster With These Chef...   FOOD & DRINK   \n",
            "1997  Chrissy Teigen Says She Had Cheek Fat Removed:...  ENTERTAINMENT   \n",
            "1998  The Next Star Of ABC's 'The Bachelor' May Be T...  ENTERTAINMENT   \n",
            "\n",
            "                                      short_description  \\\n",
            "0     Health experts said it is too early to predict...   \n",
            "1     He was subdued by passengers and crew when he ...   \n",
            "2     \"Until you have a dog you don't understand wha...   \n",
            "3     \"Accidentally put grown-up toothpaste on my to...   \n",
            "4     Amy Cooper accused investment firm Franklin Te...   \n",
            "...                                                 ...   \n",
            "1994  “I grabbed the bag, I felt something smushy on...   \n",
            "1995  “The court was thought to be the least dangero...   \n",
            "1996  You'll never look at a sandwich bag the same w...   \n",
            "1997  The cookbook author posted an Instagram Story ...   \n",
            "1998  Viewers will first meet Clayton Echard when \"T...   \n",
            "\n",
            "                        authors        date  \\\n",
            "0          Carla K. Johnson, AP  2022-09-23   \n",
            "1                Mary Papenfuss  2022-09-23   \n",
            "2                 Elyse Wanshel  2022-09-23   \n",
            "3              Caroline Bologna  2022-09-23   \n",
            "4                Nina Golgowski  2022-09-22   \n",
            "...                         ...         ...   \n",
            "1994                 David Moye  2021-09-16   \n",
            "1995           Sara Burnett, AP  2021-09-16   \n",
            "1996  Abigail Abesamis Demarest  2021-09-16   \n",
            "1997             Jenna Amatulli  2021-09-15   \n",
            "1998                 David Moye  2021-09-15   \n",
            "\n",
            "                                           full_article  \\\n",
            "0     Over 4 Million Americans Roll Up Sleeves For O...   \n",
            "1     American Airlines Flyer Charged, Banned For Li...   \n",
            "2     23 Of The Funniest Tweets About Cats And Dogs ...   \n",
            "3     The Funniest Tweets From Parents This Week (Se...   \n",
            "4     Woman Who Called Cops On Black Bird-Watcher Lo...   \n",
            "...                                                 ...   \n",
            "1994  Alleged Pizza Roll Pooper Apprehended After Ok...   \n",
            "1995  Clarence Thomas Criticizes Judges For Veering ...   \n",
            "1996  Get Dinner On The Table Faster With These Chef...   \n",
            "1997  Chrissy Teigen Says She Had Cheek Fat Removed:...   \n",
            "1998  The Next Star Of ABC's 'The Bachelor' May Be T...   \n",
            "\n",
            "                                    full_article_tokens  \n",
            "0     [million, american, roll, sleeve, covid, boost...  \n",
            "1     [american, airline, flyer, charged, banned, li...  \n",
            "2     [funniest, tweet, cat, dog, week, dog, underst...  \n",
            "3     [funniest, tweet, parent, week, accidentally, ...  \n",
            "4     [woman, called, cop, black, loses, lawsuit, am...  \n",
            "...                                                 ...  \n",
            "1994  [alleged, pizza, roll, pooper, apprehended, ok...  \n",
            "1995  [clarence, thomas, criticizes, judge, veering,...  \n",
            "1996  [get, dinner, table, faster, hack, never, look...  \n",
            "1997  [chrissy, teigen, say, cheek, fat, removed, li...  \n",
            "1998  [next, star, abc, bachelor, may, orthopedic, s...  \n",
            "\n",
            "[1999 rows x 8 columns]\n"
          ]
        }
      ]
    },
    {
      "cell_type": "code",
      "source": [
        "df2['news_len'] = df2['full_article'].apply(lambda x: len(x))"
      ],
      "metadata": {
        "id": "4USxhN2Gk3tU"
      },
      "execution_count": null,
      "outputs": []
    },
    {
      "cell_type": "code",
      "source": [
        "df2.groupby('category')['news_len'].mean().reset_index().sort_values(by='news_len',ascending=False)"
      ],
      "metadata": {
        "colab": {
          "base_uri": "https://localhost:8080/",
          "height": 865
        },
        "id": "WpkbCsl4k_aM",
        "outputId": "2050b0bc-9ffd-4ebe-8739-f756b98e9904"
      },
      "execution_count": null,
      "outputs": [
        {
          "output_type": "execute_result",
          "data": {
            "text/plain": [
              "          category    news_len\n",
              "4   CULTURE & ARTS  217.608696\n",
              "14    QUEER VOICES  199.000000\n",
              "19            TECH  198.100000\n",
              "5        EDUCATION  198.000000\n",
              "13        POLITICS  197.132107\n",
              "3            CRIME  196.370370\n",
              "25      WORLD NEWS  193.215686\n",
              "21       U.S. NEWS  193.190625\n",
              "2           COMEDY  184.423077\n",
              "17          SPORTS  184.216867\n",
              "7      ENVIRONMENT  183.860465\n",
              "6    ENTERTAINMENT  180.483146\n",
              "23        WELLNESS  176.324324\n",
              "1         BUSINESS  175.000000\n",
              "0     BLACK VOICES  174.833333\n",
              "22      WEIRD NEWS  168.708333\n",
              "8     FOOD & DRINK  168.666667\n",
              "16         SCIENCE  166.900000\n",
              "10           MEDIA  166.200000\n",
              "12       PARENTING  165.850000\n",
              "18  STYLE & BEAUTY  150.285714\n",
              "15        RELIGION  150.000000\n",
              "9    HOME & LIVING  146.266667\n",
              "11           MONEY  142.000000\n",
              "20          TRAVEL  133.750000\n",
              "24           WOMEN  129.250000"
            ],
            "text/html": [
              "\n",
              "  <div id=\"df-13f87aca-bb1e-471c-921c-2699073a8722\" class=\"colab-df-container\">\n",
              "    <div>\n",
              "<style scoped>\n",
              "    .dataframe tbody tr th:only-of-type {\n",
              "        vertical-align: middle;\n",
              "    }\n",
              "\n",
              "    .dataframe tbody tr th {\n",
              "        vertical-align: top;\n",
              "    }\n",
              "\n",
              "    .dataframe thead th {\n",
              "        text-align: right;\n",
              "    }\n",
              "</style>\n",
              "<table border=\"1\" class=\"dataframe\">\n",
              "  <thead>\n",
              "    <tr style=\"text-align: right;\">\n",
              "      <th></th>\n",
              "      <th>category</th>\n",
              "      <th>news_len</th>\n",
              "    </tr>\n",
              "  </thead>\n",
              "  <tbody>\n",
              "    <tr>\n",
              "      <th>4</th>\n",
              "      <td>CULTURE &amp; ARTS</td>\n",
              "      <td>217.608696</td>\n",
              "    </tr>\n",
              "    <tr>\n",
              "      <th>14</th>\n",
              "      <td>QUEER VOICES</td>\n",
              "      <td>199.000000</td>\n",
              "    </tr>\n",
              "    <tr>\n",
              "      <th>19</th>\n",
              "      <td>TECH</td>\n",
              "      <td>198.100000</td>\n",
              "    </tr>\n",
              "    <tr>\n",
              "      <th>5</th>\n",
              "      <td>EDUCATION</td>\n",
              "      <td>198.000000</td>\n",
              "    </tr>\n",
              "    <tr>\n",
              "      <th>13</th>\n",
              "      <td>POLITICS</td>\n",
              "      <td>197.132107</td>\n",
              "    </tr>\n",
              "    <tr>\n",
              "      <th>3</th>\n",
              "      <td>CRIME</td>\n",
              "      <td>196.370370</td>\n",
              "    </tr>\n",
              "    <tr>\n",
              "      <th>25</th>\n",
              "      <td>WORLD NEWS</td>\n",
              "      <td>193.215686</td>\n",
              "    </tr>\n",
              "    <tr>\n",
              "      <th>21</th>\n",
              "      <td>U.S. NEWS</td>\n",
              "      <td>193.190625</td>\n",
              "    </tr>\n",
              "    <tr>\n",
              "      <th>2</th>\n",
              "      <td>COMEDY</td>\n",
              "      <td>184.423077</td>\n",
              "    </tr>\n",
              "    <tr>\n",
              "      <th>17</th>\n",
              "      <td>SPORTS</td>\n",
              "      <td>184.216867</td>\n",
              "    </tr>\n",
              "    <tr>\n",
              "      <th>7</th>\n",
              "      <td>ENVIRONMENT</td>\n",
              "      <td>183.860465</td>\n",
              "    </tr>\n",
              "    <tr>\n",
              "      <th>6</th>\n",
              "      <td>ENTERTAINMENT</td>\n",
              "      <td>180.483146</td>\n",
              "    </tr>\n",
              "    <tr>\n",
              "      <th>23</th>\n",
              "      <td>WELLNESS</td>\n",
              "      <td>176.324324</td>\n",
              "    </tr>\n",
              "    <tr>\n",
              "      <th>1</th>\n",
              "      <td>BUSINESS</td>\n",
              "      <td>175.000000</td>\n",
              "    </tr>\n",
              "    <tr>\n",
              "      <th>0</th>\n",
              "      <td>BLACK VOICES</td>\n",
              "      <td>174.833333</td>\n",
              "    </tr>\n",
              "    <tr>\n",
              "      <th>22</th>\n",
              "      <td>WEIRD NEWS</td>\n",
              "      <td>168.708333</td>\n",
              "    </tr>\n",
              "    <tr>\n",
              "      <th>8</th>\n",
              "      <td>FOOD &amp; DRINK</td>\n",
              "      <td>168.666667</td>\n",
              "    </tr>\n",
              "    <tr>\n",
              "      <th>16</th>\n",
              "      <td>SCIENCE</td>\n",
              "      <td>166.900000</td>\n",
              "    </tr>\n",
              "    <tr>\n",
              "      <th>10</th>\n",
              "      <td>MEDIA</td>\n",
              "      <td>166.200000</td>\n",
              "    </tr>\n",
              "    <tr>\n",
              "      <th>12</th>\n",
              "      <td>PARENTING</td>\n",
              "      <td>165.850000</td>\n",
              "    </tr>\n",
              "    <tr>\n",
              "      <th>18</th>\n",
              "      <td>STYLE &amp; BEAUTY</td>\n",
              "      <td>150.285714</td>\n",
              "    </tr>\n",
              "    <tr>\n",
              "      <th>15</th>\n",
              "      <td>RELIGION</td>\n",
              "      <td>150.000000</td>\n",
              "    </tr>\n",
              "    <tr>\n",
              "      <th>9</th>\n",
              "      <td>HOME &amp; LIVING</td>\n",
              "      <td>146.266667</td>\n",
              "    </tr>\n",
              "    <tr>\n",
              "      <th>11</th>\n",
              "      <td>MONEY</td>\n",
              "      <td>142.000000</td>\n",
              "    </tr>\n",
              "    <tr>\n",
              "      <th>20</th>\n",
              "      <td>TRAVEL</td>\n",
              "      <td>133.750000</td>\n",
              "    </tr>\n",
              "    <tr>\n",
              "      <th>24</th>\n",
              "      <td>WOMEN</td>\n",
              "      <td>129.250000</td>\n",
              "    </tr>\n",
              "  </tbody>\n",
              "</table>\n",
              "</div>\n",
              "    <div class=\"colab-df-buttons\">\n",
              "\n",
              "  <div class=\"colab-df-container\">\n",
              "    <button class=\"colab-df-convert\" onclick=\"convertToInteractive('df-13f87aca-bb1e-471c-921c-2699073a8722')\"\n",
              "            title=\"Convert this dataframe to an interactive table.\"\n",
              "            style=\"display:none;\">\n",
              "\n",
              "  <svg xmlns=\"http://www.w3.org/2000/svg\" height=\"24px\" viewBox=\"0 -960 960 960\">\n",
              "    <path d=\"M120-120v-720h720v720H120Zm60-500h600v-160H180v160Zm220 220h160v-160H400v160Zm0 220h160v-160H400v160ZM180-400h160v-160H180v160Zm440 0h160v-160H620v160ZM180-180h160v-160H180v160Zm440 0h160v-160H620v160Z\"/>\n",
              "  </svg>\n",
              "    </button>\n",
              "\n",
              "  <style>\n",
              "    .colab-df-container {\n",
              "      display:flex;\n",
              "      gap: 12px;\n",
              "    }\n",
              "\n",
              "    .colab-df-convert {\n",
              "      background-color: #E8F0FE;\n",
              "      border: none;\n",
              "      border-radius: 50%;\n",
              "      cursor: pointer;\n",
              "      display: none;\n",
              "      fill: #1967D2;\n",
              "      height: 32px;\n",
              "      padding: 0 0 0 0;\n",
              "      width: 32px;\n",
              "    }\n",
              "\n",
              "    .colab-df-convert:hover {\n",
              "      background-color: #E2EBFA;\n",
              "      box-shadow: 0px 1px 2px rgba(60, 64, 67, 0.3), 0px 1px 3px 1px rgba(60, 64, 67, 0.15);\n",
              "      fill: #174EA6;\n",
              "    }\n",
              "\n",
              "    .colab-df-buttons div {\n",
              "      margin-bottom: 4px;\n",
              "    }\n",
              "\n",
              "    [theme=dark] .colab-df-convert {\n",
              "      background-color: #3B4455;\n",
              "      fill: #D2E3FC;\n",
              "    }\n",
              "\n",
              "    [theme=dark] .colab-df-convert:hover {\n",
              "      background-color: #434B5C;\n",
              "      box-shadow: 0px 1px 3px 1px rgba(0, 0, 0, 0.15);\n",
              "      filter: drop-shadow(0px 1px 2px rgba(0, 0, 0, 0.3));\n",
              "      fill: #FFFFFF;\n",
              "    }\n",
              "  </style>\n",
              "\n",
              "    <script>\n",
              "      const buttonEl =\n",
              "        document.querySelector('#df-13f87aca-bb1e-471c-921c-2699073a8722 button.colab-df-convert');\n",
              "      buttonEl.style.display =\n",
              "        google.colab.kernel.accessAllowed ? 'block' : 'none';\n",
              "\n",
              "      async function convertToInteractive(key) {\n",
              "        const element = document.querySelector('#df-13f87aca-bb1e-471c-921c-2699073a8722');\n",
              "        const dataTable =\n",
              "          await google.colab.kernel.invokeFunction('convertToInteractive',\n",
              "                                                    [key], {});\n",
              "        if (!dataTable) return;\n",
              "\n",
              "        const docLinkHtml = 'Like what you see? Visit the ' +\n",
              "          '<a target=\"_blank\" href=https://colab.research.google.com/notebooks/data_table.ipynb>data table notebook</a>'\n",
              "          + ' to learn more about interactive tables.';\n",
              "        element.innerHTML = '';\n",
              "        dataTable['output_type'] = 'display_data';\n",
              "        await google.colab.output.renderOutput(dataTable, element);\n",
              "        const docLink = document.createElement('div');\n",
              "        docLink.innerHTML = docLinkHtml;\n",
              "        element.appendChild(docLink);\n",
              "      }\n",
              "    </script>\n",
              "  </div>\n",
              "\n",
              "\n",
              "<div id=\"df-e9e110b2-788e-4f45-98ee-3e18a00a26b2\">\n",
              "  <button class=\"colab-df-quickchart\" onclick=\"quickchart('df-e9e110b2-788e-4f45-98ee-3e18a00a26b2')\"\n",
              "            title=\"Suggest charts\"\n",
              "            style=\"display:none;\">\n",
              "\n",
              "<svg xmlns=\"http://www.w3.org/2000/svg\" height=\"24px\"viewBox=\"0 0 24 24\"\n",
              "     width=\"24px\">\n",
              "    <g>\n",
              "        <path d=\"M19 3H5c-1.1 0-2 .9-2 2v14c0 1.1.9 2 2 2h14c1.1 0 2-.9 2-2V5c0-1.1-.9-2-2-2zM9 17H7v-7h2v7zm4 0h-2V7h2v10zm4 0h-2v-4h2v4z\"/>\n",
              "    </g>\n",
              "</svg>\n",
              "  </button>\n",
              "\n",
              "<style>\n",
              "  .colab-df-quickchart {\n",
              "      --bg-color: #E8F0FE;\n",
              "      --fill-color: #1967D2;\n",
              "      --hover-bg-color: #E2EBFA;\n",
              "      --hover-fill-color: #174EA6;\n",
              "      --disabled-fill-color: #AAA;\n",
              "      --disabled-bg-color: #DDD;\n",
              "  }\n",
              "\n",
              "  [theme=dark] .colab-df-quickchart {\n",
              "      --bg-color: #3B4455;\n",
              "      --fill-color: #D2E3FC;\n",
              "      --hover-bg-color: #434B5C;\n",
              "      --hover-fill-color: #FFFFFF;\n",
              "      --disabled-bg-color: #3B4455;\n",
              "      --disabled-fill-color: #666;\n",
              "  }\n",
              "\n",
              "  .colab-df-quickchart {\n",
              "    background-color: var(--bg-color);\n",
              "    border: none;\n",
              "    border-radius: 50%;\n",
              "    cursor: pointer;\n",
              "    display: none;\n",
              "    fill: var(--fill-color);\n",
              "    height: 32px;\n",
              "    padding: 0;\n",
              "    width: 32px;\n",
              "  }\n",
              "\n",
              "  .colab-df-quickchart:hover {\n",
              "    background-color: var(--hover-bg-color);\n",
              "    box-shadow: 0 1px 2px rgba(60, 64, 67, 0.3), 0 1px 3px 1px rgba(60, 64, 67, 0.15);\n",
              "    fill: var(--button-hover-fill-color);\n",
              "  }\n",
              "\n",
              "  .colab-df-quickchart-complete:disabled,\n",
              "  .colab-df-quickchart-complete:disabled:hover {\n",
              "    background-color: var(--disabled-bg-color);\n",
              "    fill: var(--disabled-fill-color);\n",
              "    box-shadow: none;\n",
              "  }\n",
              "\n",
              "  .colab-df-spinner {\n",
              "    border: 2px solid var(--fill-color);\n",
              "    border-color: transparent;\n",
              "    border-bottom-color: var(--fill-color);\n",
              "    animation:\n",
              "      spin 1s steps(1) infinite;\n",
              "  }\n",
              "\n",
              "  @keyframes spin {\n",
              "    0% {\n",
              "      border-color: transparent;\n",
              "      border-bottom-color: var(--fill-color);\n",
              "      border-left-color: var(--fill-color);\n",
              "    }\n",
              "    20% {\n",
              "      border-color: transparent;\n",
              "      border-left-color: var(--fill-color);\n",
              "      border-top-color: var(--fill-color);\n",
              "    }\n",
              "    30% {\n",
              "      border-color: transparent;\n",
              "      border-left-color: var(--fill-color);\n",
              "      border-top-color: var(--fill-color);\n",
              "      border-right-color: var(--fill-color);\n",
              "    }\n",
              "    40% {\n",
              "      border-color: transparent;\n",
              "      border-right-color: var(--fill-color);\n",
              "      border-top-color: var(--fill-color);\n",
              "    }\n",
              "    60% {\n",
              "      border-color: transparent;\n",
              "      border-right-color: var(--fill-color);\n",
              "    }\n",
              "    80% {\n",
              "      border-color: transparent;\n",
              "      border-right-color: var(--fill-color);\n",
              "      border-bottom-color: var(--fill-color);\n",
              "    }\n",
              "    90% {\n",
              "      border-color: transparent;\n",
              "      border-bottom-color: var(--fill-color);\n",
              "    }\n",
              "  }\n",
              "</style>\n",
              "\n",
              "  <script>\n",
              "    async function quickchart(key) {\n",
              "      const quickchartButtonEl =\n",
              "        document.querySelector('#' + key + ' button');\n",
              "      quickchartButtonEl.disabled = true;  // To prevent multiple clicks.\n",
              "      quickchartButtonEl.classList.add('colab-df-spinner');\n",
              "      try {\n",
              "        const charts = await google.colab.kernel.invokeFunction(\n",
              "            'suggestCharts', [key], {});\n",
              "      } catch (error) {\n",
              "        console.error('Error during call to suggestCharts:', error);\n",
              "      }\n",
              "      quickchartButtonEl.classList.remove('colab-df-spinner');\n",
              "      quickchartButtonEl.classList.add('colab-df-quickchart-complete');\n",
              "    }\n",
              "    (() => {\n",
              "      let quickchartButtonEl =\n",
              "        document.querySelector('#df-e9e110b2-788e-4f45-98ee-3e18a00a26b2 button');\n",
              "      quickchartButtonEl.style.display =\n",
              "        google.colab.kernel.accessAllowed ? 'block' : 'none';\n",
              "    })();\n",
              "  </script>\n",
              "</div>\n",
              "    </div>\n",
              "  </div>\n"
            ],
            "application/vnd.google.colaboratory.intrinsic+json": {
              "type": "dataframe",
              "summary": "{\n  \"name\": \"df2\",\n  \"rows\": 26,\n  \"fields\": [\n    {\n      \"column\": \"category\",\n      \"properties\": {\n        \"dtype\": \"string\",\n        \"num_unique_values\": 26,\n        \"samples\": [\n          \"COMEDY\",\n          \"FOOD & DRINK\",\n          \"CULTURE & ARTS\"\n        ],\n        \"semantic_type\": \"\",\n        \"description\": \"\"\n      }\n    },\n    {\n      \"column\": \"news_len\",\n      \"properties\": {\n        \"dtype\": \"number\",\n        \"std\": 22.4453167738093,\n        \"min\": 129.25,\n        \"max\": 217.6086956521739,\n        \"num_unique_values\": 26,\n        \"samples\": [\n          184.42307692307693,\n          168.66666666666666,\n          217.6086956521739\n        ],\n        \"semantic_type\": \"\",\n        \"description\": \"\"\n      }\n    }\n  ]\n}"
            }
          },
          "metadata": {},
          "execution_count": 73
        }
      ]
    },
    {
      "cell_type": "code",
      "source": [
        "df2.reset_index(inplace = True, drop = True)\n",
        "print(df2)"
      ],
      "metadata": {
        "id": "s5rDmVPhlF66",
        "colab": {
          "base_uri": "https://localhost:8080/"
        },
        "outputId": "2f9b6192-f84b-4380-8935-281a854766d1"
      },
      "execution_count": null,
      "outputs": [
        {
          "output_type": "stream",
          "name": "stdout",
          "text": [
            "                                                   link  \\\n",
            "0     https://www.huffpost.com/entry/covid-boosters-...   \n",
            "1     https://www.huffpost.com/entry/american-airlin...   \n",
            "2     https://www.huffpost.com/entry/funniest-tweets...   \n",
            "3     https://www.huffpost.com/entry/funniest-parent...   \n",
            "4     https://www.huffpost.com/entry/amy-cooper-lose...   \n",
            "...                                                 ...   \n",
            "1994  https://www.huffpost.com/entry/pizza-roll-poop...   \n",
            "1995  https://www.huffpost.com/entry/clarence-thomas...   \n",
            "1996  https://www.huffpost.com/entry/get-dinner-on-t...   \n",
            "1997  https://www.huffpost.com/entry/chrissy-teigen-...   \n",
            "1998  https://www.huffpost.com/entry/bachelorette-ba...   \n",
            "\n",
            "                                               headline       category  \\\n",
            "0     Over 4 Million Americans Roll Up Sleeves For O...      U.S. NEWS   \n",
            "1     American Airlines Flyer Charged, Banned For Li...      U.S. NEWS   \n",
            "2     23 Of The Funniest Tweets About Cats And Dogs ...         COMEDY   \n",
            "3     The Funniest Tweets From Parents This Week (Se...      PARENTING   \n",
            "4     Woman Who Called Cops On Black Bird-Watcher Lo...      U.S. NEWS   \n",
            "...                                                 ...            ...   \n",
            "1994  Alleged Pizza Roll Pooper Apprehended After Ok...     WEIRD NEWS   \n",
            "1995  Clarence Thomas Criticizes Judges For Veering ...       POLITICS   \n",
            "1996  Get Dinner On The Table Faster With These Chef...   FOOD & DRINK   \n",
            "1997  Chrissy Teigen Says She Had Cheek Fat Removed:...  ENTERTAINMENT   \n",
            "1998  The Next Star Of ABC's 'The Bachelor' May Be T...  ENTERTAINMENT   \n",
            "\n",
            "                                      short_description  \\\n",
            "0     Health experts said it is too early to predict...   \n",
            "1     He was subdued by passengers and crew when he ...   \n",
            "2     \"Until you have a dog you don't understand wha...   \n",
            "3     \"Accidentally put grown-up toothpaste on my to...   \n",
            "4     Amy Cooper accused investment firm Franklin Te...   \n",
            "...                                                 ...   \n",
            "1994  “I grabbed the bag, I felt something smushy on...   \n",
            "1995  “The court was thought to be the least dangero...   \n",
            "1996  You'll never look at a sandwich bag the same w...   \n",
            "1997  The cookbook author posted an Instagram Story ...   \n",
            "1998  Viewers will first meet Clayton Echard when \"T...   \n",
            "\n",
            "                        authors        date  \\\n",
            "0          Carla K. Johnson, AP  2022-09-23   \n",
            "1                Mary Papenfuss  2022-09-23   \n",
            "2                 Elyse Wanshel  2022-09-23   \n",
            "3              Caroline Bologna  2022-09-23   \n",
            "4                Nina Golgowski  2022-09-22   \n",
            "...                         ...         ...   \n",
            "1994                 David Moye  2021-09-16   \n",
            "1995           Sara Burnett, AP  2021-09-16   \n",
            "1996  Abigail Abesamis Demarest  2021-09-16   \n",
            "1997             Jenna Amatulli  2021-09-15   \n",
            "1998                 David Moye  2021-09-15   \n",
            "\n",
            "                                           full_article  \\\n",
            "0     Over 4 Million Americans Roll Up Sleeves For O...   \n",
            "1     American Airlines Flyer Charged, Banned For Li...   \n",
            "2     23 Of The Funniest Tweets About Cats And Dogs ...   \n",
            "3     The Funniest Tweets From Parents This Week (Se...   \n",
            "4     Woman Who Called Cops On Black Bird-Watcher Lo...   \n",
            "...                                                 ...   \n",
            "1994  Alleged Pizza Roll Pooper Apprehended After Ok...   \n",
            "1995  Clarence Thomas Criticizes Judges For Veering ...   \n",
            "1996  Get Dinner On The Table Faster With These Chef...   \n",
            "1997  Chrissy Teigen Says She Had Cheek Fat Removed:...   \n",
            "1998  The Next Star Of ABC's 'The Bachelor' May Be T...   \n",
            "\n",
            "                                    full_article_tokens  news_len  \n",
            "0     [million, american, roll, sleeve, covid, boost...       231  \n",
            "1     [american, airline, flyer, charged, banned, li...       249  \n",
            "2     [funniest, tweet, cat, dog, week, dog, underst...       134  \n",
            "3     [funniest, tweet, parent, week, accidentally, ...       216  \n",
            "4     [woman, called, cop, black, loses, lawsuit, am...       234  \n",
            "...                                                 ...       ...  \n",
            "1994  [alleged, pizza, roll, pooper, apprehended, ok...       211  \n",
            "1995  [clarence, thomas, criticizes, judge, veering,...       225  \n",
            "1996  [get, dinner, table, faster, hack, never, look...       117  \n",
            "1997  [chrissy, teigen, say, cheek, fat, removed, li...       168  \n",
            "1998  [next, star, abc, bachelor, may, orthopedic, s...       153  \n",
            "\n",
            "[1999 rows x 9 columns]\n"
          ]
        }
      ]
    },
    {
      "cell_type": "code",
      "source": [
        "count = 0\n",
        "max_threshold = df2['news_len'].std() *3 + df2['news_len'].mean()\n",
        "min_threshold = abs(df2['news_len'].mean() - df2['news_len'].std()*3)\n",
        "for num in df2['news_len']:\n",
        "    if num > max_threshold or num < min_threshold:\n",
        "      count += 1\n",
        "print(\"The total outliers are = \",count)"
      ],
      "metadata": {
        "colab": {
          "base_uri": "https://localhost:8080/"
        },
        "id": "TL9XZnQGlPTL",
        "outputId": "c8d64a6d-39da-49ef-8c72-5fc1f0c16971"
      },
      "execution_count": null,
      "outputs": [
        {
          "output_type": "stream",
          "name": "stdout",
          "text": [
            "The total outliers are =  7\n"
          ]
        }
      ]
    },
    {
      "cell_type": "code",
      "source": [
        "filtered_data = df2[(df2['news_len'] < max_threshold) & (df2['news_len'] > min_threshold )]\n",
        "filtered_data.shape"
      ],
      "metadata": {
        "colab": {
          "base_uri": "https://localhost:8080/"
        },
        "id": "FJj-YPCflZe_",
        "outputId": "227d938f-275e-4d08-dcd0-f41e293e1f85"
      },
      "execution_count": null,
      "outputs": [
        {
          "output_type": "execute_result",
          "data": {
            "text/plain": [
              "(1992, 9)"
            ]
          },
          "metadata": {},
          "execution_count": 78
        }
      ]
    },
    {
      "cell_type": "code",
      "source": [
        "filtered_data.loc[:, ('full_article_tokens')] = filtered_data.loc[:,('full_article')].apply(lambda x: preprocess(x))"
      ],
      "metadata": {
        "colab": {
          "base_uri": "https://localhost:8080/"
        },
        "id": "VQZ5M8BHlpiJ",
        "outputId": "706c2a0a-5b56-4bbd-f877-6a67a4f2ec7c"
      },
      "execution_count": null,
      "outputs": [
        {
          "output_type": "stream",
          "name": "stderr",
          "text": [
            "<ipython-input-79-b5017341b98e>:1: SettingWithCopyWarning: \n",
            "A value is trying to be set on a copy of a slice from a DataFrame.\n",
            "Try using .loc[row_indexer,col_indexer] = value instead\n",
            "\n",
            "See the caveats in the documentation: https://pandas.pydata.org/pandas-docs/stable/user_guide/indexing.html#returning-a-view-versus-a-copy\n",
            "  filtered_data.loc[:, ('full_article_tokens')] = filtered_data.loc[:,('full_article')].apply(lambda x: preprocess(x))\n"
          ]
        }
      ]
    },
    {
      "cell_type": "code",
      "source": [
        "df2.drop(['authors','date'], axis=1, inplace = True)\n",
        "df2.head()"
      ],
      "metadata": {
        "colab": {
          "base_uri": "https://localhost:8080/",
          "height": 293
        },
        "id": "tVx3l9i9nxD2",
        "outputId": "d3d78504-3627-4e60-a284-2b6ab2a8dcb6"
      },
      "execution_count": null,
      "outputs": [
        {
          "output_type": "execute_result",
          "data": {
            "text/plain": [
              "                                                link  \\\n",
              "0  https://www.huffpost.com/entry/covid-boosters-...   \n",
              "1  https://www.huffpost.com/entry/american-airlin...   \n",
              "2  https://www.huffpost.com/entry/funniest-tweets...   \n",
              "3  https://www.huffpost.com/entry/funniest-parent...   \n",
              "4  https://www.huffpost.com/entry/amy-cooper-lose...   \n",
              "\n",
              "                                            headline   category  \\\n",
              "0  Over 4 Million Americans Roll Up Sleeves For O...  U.S. NEWS   \n",
              "1  American Airlines Flyer Charged, Banned For Li...  U.S. NEWS   \n",
              "2  23 Of The Funniest Tweets About Cats And Dogs ...     COMEDY   \n",
              "3  The Funniest Tweets From Parents This Week (Se...  PARENTING   \n",
              "4  Woman Who Called Cops On Black Bird-Watcher Lo...  U.S. NEWS   \n",
              "\n",
              "                                   short_description  \\\n",
              "0  Health experts said it is too early to predict...   \n",
              "1  He was subdued by passengers and crew when he ...   \n",
              "2  \"Until you have a dog you don't understand wha...   \n",
              "3  \"Accidentally put grown-up toothpaste on my to...   \n",
              "4  Amy Cooper accused investment firm Franklin Te...   \n",
              "\n",
              "                                        full_article  \\\n",
              "0  Over 4 Million Americans Roll Up Sleeves For O...   \n",
              "1  American Airlines Flyer Charged, Banned For Li...   \n",
              "2  23 Of The Funniest Tweets About Cats And Dogs ...   \n",
              "3  The Funniest Tweets From Parents This Week (Se...   \n",
              "4  Woman Who Called Cops On Black Bird-Watcher Lo...   \n",
              "\n",
              "                                 full_article_tokens  news_len  \n",
              "0  [million, american, roll, sleeve, covid, boost...       231  \n",
              "1  [american, airline, flyer, charged, banned, li...       249  \n",
              "2  [funniest, tweet, cat, dog, week, dog, underst...       134  \n",
              "3  [funniest, tweet, parent, week, accidentally, ...       216  \n",
              "4  [woman, called, cop, black, loses, lawsuit, am...       234  "
            ],
            "text/html": [
              "\n",
              "  <div id=\"df-e5d39b5c-5510-4b31-80ba-cb0da5d2a572\" class=\"colab-df-container\">\n",
              "    <div>\n",
              "<style scoped>\n",
              "    .dataframe tbody tr th:only-of-type {\n",
              "        vertical-align: middle;\n",
              "    }\n",
              "\n",
              "    .dataframe tbody tr th {\n",
              "        vertical-align: top;\n",
              "    }\n",
              "\n",
              "    .dataframe thead th {\n",
              "        text-align: right;\n",
              "    }\n",
              "</style>\n",
              "<table border=\"1\" class=\"dataframe\">\n",
              "  <thead>\n",
              "    <tr style=\"text-align: right;\">\n",
              "      <th></th>\n",
              "      <th>link</th>\n",
              "      <th>headline</th>\n",
              "      <th>category</th>\n",
              "      <th>short_description</th>\n",
              "      <th>full_article</th>\n",
              "      <th>full_article_tokens</th>\n",
              "      <th>news_len</th>\n",
              "    </tr>\n",
              "  </thead>\n",
              "  <tbody>\n",
              "    <tr>\n",
              "      <th>0</th>\n",
              "      <td>https://www.huffpost.com/entry/covid-boosters-...</td>\n",
              "      <td>Over 4 Million Americans Roll Up Sleeves For O...</td>\n",
              "      <td>U.S. NEWS</td>\n",
              "      <td>Health experts said it is too early to predict...</td>\n",
              "      <td>Over 4 Million Americans Roll Up Sleeves For O...</td>\n",
              "      <td>[million, american, roll, sleeve, covid, boost...</td>\n",
              "      <td>231</td>\n",
              "    </tr>\n",
              "    <tr>\n",
              "      <th>1</th>\n",
              "      <td>https://www.huffpost.com/entry/american-airlin...</td>\n",
              "      <td>American Airlines Flyer Charged, Banned For Li...</td>\n",
              "      <td>U.S. NEWS</td>\n",
              "      <td>He was subdued by passengers and crew when he ...</td>\n",
              "      <td>American Airlines Flyer Charged, Banned For Li...</td>\n",
              "      <td>[american, airline, flyer, charged, banned, li...</td>\n",
              "      <td>249</td>\n",
              "    </tr>\n",
              "    <tr>\n",
              "      <th>2</th>\n",
              "      <td>https://www.huffpost.com/entry/funniest-tweets...</td>\n",
              "      <td>23 Of The Funniest Tweets About Cats And Dogs ...</td>\n",
              "      <td>COMEDY</td>\n",
              "      <td>\"Until you have a dog you don't understand wha...</td>\n",
              "      <td>23 Of The Funniest Tweets About Cats And Dogs ...</td>\n",
              "      <td>[funniest, tweet, cat, dog, week, dog, underst...</td>\n",
              "      <td>134</td>\n",
              "    </tr>\n",
              "    <tr>\n",
              "      <th>3</th>\n",
              "      <td>https://www.huffpost.com/entry/funniest-parent...</td>\n",
              "      <td>The Funniest Tweets From Parents This Week (Se...</td>\n",
              "      <td>PARENTING</td>\n",
              "      <td>\"Accidentally put grown-up toothpaste on my to...</td>\n",
              "      <td>The Funniest Tweets From Parents This Week (Se...</td>\n",
              "      <td>[funniest, tweet, parent, week, accidentally, ...</td>\n",
              "      <td>216</td>\n",
              "    </tr>\n",
              "    <tr>\n",
              "      <th>4</th>\n",
              "      <td>https://www.huffpost.com/entry/amy-cooper-lose...</td>\n",
              "      <td>Woman Who Called Cops On Black Bird-Watcher Lo...</td>\n",
              "      <td>U.S. NEWS</td>\n",
              "      <td>Amy Cooper accused investment firm Franklin Te...</td>\n",
              "      <td>Woman Who Called Cops On Black Bird-Watcher Lo...</td>\n",
              "      <td>[woman, called, cop, black, loses, lawsuit, am...</td>\n",
              "      <td>234</td>\n",
              "    </tr>\n",
              "  </tbody>\n",
              "</table>\n",
              "</div>\n",
              "    <div class=\"colab-df-buttons\">\n",
              "\n",
              "  <div class=\"colab-df-container\">\n",
              "    <button class=\"colab-df-convert\" onclick=\"convertToInteractive('df-e5d39b5c-5510-4b31-80ba-cb0da5d2a572')\"\n",
              "            title=\"Convert this dataframe to an interactive table.\"\n",
              "            style=\"display:none;\">\n",
              "\n",
              "  <svg xmlns=\"http://www.w3.org/2000/svg\" height=\"24px\" viewBox=\"0 -960 960 960\">\n",
              "    <path d=\"M120-120v-720h720v720H120Zm60-500h600v-160H180v160Zm220 220h160v-160H400v160Zm0 220h160v-160H400v160ZM180-400h160v-160H180v160Zm440 0h160v-160H620v160ZM180-180h160v-160H180v160Zm440 0h160v-160H620v160Z\"/>\n",
              "  </svg>\n",
              "    </button>\n",
              "\n",
              "  <style>\n",
              "    .colab-df-container {\n",
              "      display:flex;\n",
              "      gap: 12px;\n",
              "    }\n",
              "\n",
              "    .colab-df-convert {\n",
              "      background-color: #E8F0FE;\n",
              "      border: none;\n",
              "      border-radius: 50%;\n",
              "      cursor: pointer;\n",
              "      display: none;\n",
              "      fill: #1967D2;\n",
              "      height: 32px;\n",
              "      padding: 0 0 0 0;\n",
              "      width: 32px;\n",
              "    }\n",
              "\n",
              "    .colab-df-convert:hover {\n",
              "      background-color: #E2EBFA;\n",
              "      box-shadow: 0px 1px 2px rgba(60, 64, 67, 0.3), 0px 1px 3px 1px rgba(60, 64, 67, 0.15);\n",
              "      fill: #174EA6;\n",
              "    }\n",
              "\n",
              "    .colab-df-buttons div {\n",
              "      margin-bottom: 4px;\n",
              "    }\n",
              "\n",
              "    [theme=dark] .colab-df-convert {\n",
              "      background-color: #3B4455;\n",
              "      fill: #D2E3FC;\n",
              "    }\n",
              "\n",
              "    [theme=dark] .colab-df-convert:hover {\n",
              "      background-color: #434B5C;\n",
              "      box-shadow: 0px 1px 3px 1px rgba(0, 0, 0, 0.15);\n",
              "      filter: drop-shadow(0px 1px 2px rgba(0, 0, 0, 0.3));\n",
              "      fill: #FFFFFF;\n",
              "    }\n",
              "  </style>\n",
              "\n",
              "    <script>\n",
              "      const buttonEl =\n",
              "        document.querySelector('#df-e5d39b5c-5510-4b31-80ba-cb0da5d2a572 button.colab-df-convert');\n",
              "      buttonEl.style.display =\n",
              "        google.colab.kernel.accessAllowed ? 'block' : 'none';\n",
              "\n",
              "      async function convertToInteractive(key) {\n",
              "        const element = document.querySelector('#df-e5d39b5c-5510-4b31-80ba-cb0da5d2a572');\n",
              "        const dataTable =\n",
              "          await google.colab.kernel.invokeFunction('convertToInteractive',\n",
              "                                                    [key], {});\n",
              "        if (!dataTable) return;\n",
              "\n",
              "        const docLinkHtml = 'Like what you see? Visit the ' +\n",
              "          '<a target=\"_blank\" href=https://colab.research.google.com/notebooks/data_table.ipynb>data table notebook</a>'\n",
              "          + ' to learn more about interactive tables.';\n",
              "        element.innerHTML = '';\n",
              "        dataTable['output_type'] = 'display_data';\n",
              "        await google.colab.output.renderOutput(dataTable, element);\n",
              "        const docLink = document.createElement('div');\n",
              "        docLink.innerHTML = docLinkHtml;\n",
              "        element.appendChild(docLink);\n",
              "      }\n",
              "    </script>\n",
              "  </div>\n",
              "\n",
              "\n",
              "<div id=\"df-3e02bbed-af9e-48dd-94b0-61c94253dca6\">\n",
              "  <button class=\"colab-df-quickchart\" onclick=\"quickchart('df-3e02bbed-af9e-48dd-94b0-61c94253dca6')\"\n",
              "            title=\"Suggest charts\"\n",
              "            style=\"display:none;\">\n",
              "\n",
              "<svg xmlns=\"http://www.w3.org/2000/svg\" height=\"24px\"viewBox=\"0 0 24 24\"\n",
              "     width=\"24px\">\n",
              "    <g>\n",
              "        <path d=\"M19 3H5c-1.1 0-2 .9-2 2v14c0 1.1.9 2 2 2h14c1.1 0 2-.9 2-2V5c0-1.1-.9-2-2-2zM9 17H7v-7h2v7zm4 0h-2V7h2v10zm4 0h-2v-4h2v4z\"/>\n",
              "    </g>\n",
              "</svg>\n",
              "  </button>\n",
              "\n",
              "<style>\n",
              "  .colab-df-quickchart {\n",
              "      --bg-color: #E8F0FE;\n",
              "      --fill-color: #1967D2;\n",
              "      --hover-bg-color: #E2EBFA;\n",
              "      --hover-fill-color: #174EA6;\n",
              "      --disabled-fill-color: #AAA;\n",
              "      --disabled-bg-color: #DDD;\n",
              "  }\n",
              "\n",
              "  [theme=dark] .colab-df-quickchart {\n",
              "      --bg-color: #3B4455;\n",
              "      --fill-color: #D2E3FC;\n",
              "      --hover-bg-color: #434B5C;\n",
              "      --hover-fill-color: #FFFFFF;\n",
              "      --disabled-bg-color: #3B4455;\n",
              "      --disabled-fill-color: #666;\n",
              "  }\n",
              "\n",
              "  .colab-df-quickchart {\n",
              "    background-color: var(--bg-color);\n",
              "    border: none;\n",
              "    border-radius: 50%;\n",
              "    cursor: pointer;\n",
              "    display: none;\n",
              "    fill: var(--fill-color);\n",
              "    height: 32px;\n",
              "    padding: 0;\n",
              "    width: 32px;\n",
              "  }\n",
              "\n",
              "  .colab-df-quickchart:hover {\n",
              "    background-color: var(--hover-bg-color);\n",
              "    box-shadow: 0 1px 2px rgba(60, 64, 67, 0.3), 0 1px 3px 1px rgba(60, 64, 67, 0.15);\n",
              "    fill: var(--button-hover-fill-color);\n",
              "  }\n",
              "\n",
              "  .colab-df-quickchart-complete:disabled,\n",
              "  .colab-df-quickchart-complete:disabled:hover {\n",
              "    background-color: var(--disabled-bg-color);\n",
              "    fill: var(--disabled-fill-color);\n",
              "    box-shadow: none;\n",
              "  }\n",
              "\n",
              "  .colab-df-spinner {\n",
              "    border: 2px solid var(--fill-color);\n",
              "    border-color: transparent;\n",
              "    border-bottom-color: var(--fill-color);\n",
              "    animation:\n",
              "      spin 1s steps(1) infinite;\n",
              "  }\n",
              "\n",
              "  @keyframes spin {\n",
              "    0% {\n",
              "      border-color: transparent;\n",
              "      border-bottom-color: var(--fill-color);\n",
              "      border-left-color: var(--fill-color);\n",
              "    }\n",
              "    20% {\n",
              "      border-color: transparent;\n",
              "      border-left-color: var(--fill-color);\n",
              "      border-top-color: var(--fill-color);\n",
              "    }\n",
              "    30% {\n",
              "      border-color: transparent;\n",
              "      border-left-color: var(--fill-color);\n",
              "      border-top-color: var(--fill-color);\n",
              "      border-right-color: var(--fill-color);\n",
              "    }\n",
              "    40% {\n",
              "      border-color: transparent;\n",
              "      border-right-color: var(--fill-color);\n",
              "      border-top-color: var(--fill-color);\n",
              "    }\n",
              "    60% {\n",
              "      border-color: transparent;\n",
              "      border-right-color: var(--fill-color);\n",
              "    }\n",
              "    80% {\n",
              "      border-color: transparent;\n",
              "      border-right-color: var(--fill-color);\n",
              "      border-bottom-color: var(--fill-color);\n",
              "    }\n",
              "    90% {\n",
              "      border-color: transparent;\n",
              "      border-bottom-color: var(--fill-color);\n",
              "    }\n",
              "  }\n",
              "</style>\n",
              "\n",
              "  <script>\n",
              "    async function quickchart(key) {\n",
              "      const quickchartButtonEl =\n",
              "        document.querySelector('#' + key + ' button');\n",
              "      quickchartButtonEl.disabled = true;  // To prevent multiple clicks.\n",
              "      quickchartButtonEl.classList.add('colab-df-spinner');\n",
              "      try {\n",
              "        const charts = await google.colab.kernel.invokeFunction(\n",
              "            'suggestCharts', [key], {});\n",
              "      } catch (error) {\n",
              "        console.error('Error during call to suggestCharts:', error);\n",
              "      }\n",
              "      quickchartButtonEl.classList.remove('colab-df-spinner');\n",
              "      quickchartButtonEl.classList.add('colab-df-quickchart-complete');\n",
              "    }\n",
              "    (() => {\n",
              "      let quickchartButtonEl =\n",
              "        document.querySelector('#df-3e02bbed-af9e-48dd-94b0-61c94253dca6 button');\n",
              "      quickchartButtonEl.style.display =\n",
              "        google.colab.kernel.accessAllowed ? 'block' : 'none';\n",
              "    })();\n",
              "  </script>\n",
              "</div>\n",
              "    </div>\n",
              "  </div>\n"
            ],
            "application/vnd.google.colaboratory.intrinsic+json": {
              "type": "dataframe",
              "variable_name": "df2",
              "summary": "{\n  \"name\": \"df2\",\n  \"rows\": 1999,\n  \"fields\": [\n    {\n      \"column\": \"link\",\n      \"properties\": {\n        \"dtype\": \"string\",\n        \"num_unique_values\": 1999,\n        \"samples\": [\n          \"https://www.huffpost.com/entry/trump-said-wounded-vets-in-military-parades-didnt-look-good-for-him-book_n_62f12ab8e4b0da5ec0f69062\",\n          \"https://www.huffpost.com/entry/bc-us-dying-manatees-florida_n_62d85465e4b0aad58d160915\",\n          \"https://www.huffpost.com/entry/chris-rock-no-plans-talk-will-smith_n_62e8478ee4b0c60a566b25da\"\n        ],\n        \"semantic_type\": \"\",\n        \"description\": \"\"\n      }\n    },\n    {\n      \"column\": \"headline\",\n      \"properties\": {\n        \"dtype\": \"string\",\n        \"num_unique_values\": 1999,\n        \"samples\": [\n          \"Trump Said Wounded Veterans In Military Parades Didn\\u2019t 'Look Good' For Him: Book\",\n          \"Chronic Starvation Remains Threat To Florida Manatees, Officials Say\",\n          \"Chris Rock Has No Real Interest In Talking With Will Smith, Sources Say\"\n        ],\n        \"semantic_type\": \"\",\n        \"description\": \"\"\n      }\n    },\n    {\n      \"column\": \"category\",\n      \"properties\": {\n        \"dtype\": \"category\",\n        \"num_unique_values\": 26,\n        \"samples\": [\n          \"POLITICS\",\n          \"STYLE & BEAUTY\",\n          \"U.S. NEWS\"\n        ],\n        \"semantic_type\": \"\",\n        \"description\": \"\"\n      }\n    },\n    {\n      \"column\": \"short_description\",\n      \"properties\": {\n        \"dtype\": \"string\",\n        \"num_unique_values\": 1997,\n        \"samples\": [\n          \"\\u201cThose are the heroes,\\u201d John Kelly reportedly responded to Trump in the new book \\u201cThe Divider\\u201d by journalists Peter Baker and Susan B. Glasser.\",\n          \"Last year, a record number of manatees died mainly from a lack of seagrass food, which was decimated by water pollution.\",\n          \"\\u201cThis is clearly something that bothers Will more than Chris. Will needs to deal with his issues. Chris is fine,\\\" one insider told People.com.\"\n        ],\n        \"semantic_type\": \"\",\n        \"description\": \"\"\n      }\n    },\n    {\n      \"column\": \"full_article\",\n      \"properties\": {\n        \"dtype\": \"string\",\n        \"num_unique_values\": 1999,\n        \"samples\": [\n          \"Trump Said Wounded Veterans In Military Parades Didn\\u2019t 'Look Good' For Him: Book \\u201cThose are the heroes,\\u201d John Kelly reportedly responded to Trump in the new book \\u201cThe Divider\\u201d by journalists Peter Baker and Susan B. Glasser.\",\n          \"Chronic Starvation Remains Threat To Florida Manatees, Officials Say Last year, a record number of manatees died mainly from a lack of seagrass food, which was decimated by water pollution.\",\n          \"Chris Rock Has No Real Interest In Talking With Will Smith, Sources Say \\u201cThis is clearly something that bothers Will more than Chris. Will needs to deal with his issues. Chris is fine,\\\" one insider told People.com.\"\n        ],\n        \"semantic_type\": \"\",\n        \"description\": \"\"\n      }\n    },\n    {\n      \"column\": \"full_article_tokens\",\n      \"properties\": {\n        \"dtype\": \"object\",\n        \"semantic_type\": \"\",\n        \"description\": \"\"\n      }\n    },\n    {\n      \"column\": \"news_len\",\n      \"properties\": {\n        \"dtype\": \"number\",\n        \"std\": 35,\n        \"min\": 54,\n        \"max\": 313,\n        \"num_unique_values\": 177,\n        \"samples\": [\n          227,\n          171,\n          192\n        ],\n        \"semantic_type\": \"\",\n        \"description\": \"\"\n      }\n    }\n  ]\n}"
            }
          },
          "metadata": {},
          "execution_count": 80
        }
      ]
    },
    {
      "cell_type": "code",
      "source": [
        "df2['category'].value_counts()"
      ],
      "metadata": {
        "colab": {
          "base_uri": "https://localhost:8080/"
        },
        "id": "uCQXv-9on4Se",
        "outputId": "060049b4-bc17-458e-da3c-c0bfa3f53403"
      },
      "execution_count": null,
      "outputs": [
        {
          "output_type": "execute_result",
          "data": {
            "text/plain": [
              "POLITICS          598\n",
              "ENTERTAINMENT     356\n",
              "U.S. NEWS         320\n",
              "WORLD NEWS        255\n",
              "SPORTS             83\n",
              "CRIME              54\n",
              "ENVIRONMENT        43\n",
              "WELLNESS           37\n",
              "FOOD & DRINK       36\n",
              "STYLE & BEAUTY     28\n",
              "COMEDY             26\n",
              "WEIRD NEWS         24\n",
              "CULTURE & ARTS     23\n",
              "PARENTING          20\n",
              "BUSINESS           20\n",
              "HOME & LIVING      15\n",
              "WOMEN              12\n",
              "MEDIA              10\n",
              "SCIENCE            10\n",
              "TECH               10\n",
              "BLACK VOICES        6\n",
              "EDUCATION           5\n",
              "TRAVEL              4\n",
              "QUEER VOICES        2\n",
              "MONEY               1\n",
              "RELIGION            1\n",
              "Name: category, dtype: int64"
            ]
          },
          "metadata": {},
          "execution_count": 81
        }
      ]
    },
    {
      "cell_type": "code",
      "source": [
        "balanced_data = pd.DataFrame()\n",
        "for category in ('POLITICS', 'ENTERTAINMENT','U.S. NEWS','WORLD NEWS'):\n",
        "  data_temp = df2[df2['category'] == category]\n",
        "  data_temp = (resample(data_temp, replace=False, n_samples=250, random_state=42))\n",
        "  balanced_data = pd.concat([balanced_data,data_temp])"
      ],
      "metadata": {
        "id": "GbXxFkvnn95E"
      },
      "execution_count": null,
      "outputs": []
    },
    {
      "cell_type": "code",
      "source": [
        "balanced_data['category'].value_counts()"
      ],
      "metadata": {
        "colab": {
          "base_uri": "https://localhost:8080/"
        },
        "id": "BcknYQmeoYj9",
        "outputId": "bfdee19d-d27b-408d-8fec-adc9a2f17223"
      },
      "execution_count": null,
      "outputs": [
        {
          "output_type": "execute_result",
          "data": {
            "text/plain": [
              "POLITICS         250\n",
              "ENTERTAINMENT    250\n",
              "U.S. NEWS        250\n",
              "WORLD NEWS       250\n",
              "Name: category, dtype: int64"
            ]
          },
          "metadata": {},
          "execution_count": 85
        }
      ]
    },
    {
      "cell_type": "code",
      "source": [
        "X = balanced_data.loc[:,df2.columns != 'category']\n",
        "X.head()"
      ],
      "metadata": {
        "colab": {
          "base_uri": "https://localhost:8080/",
          "height": 293
        },
        "id": "mdb3rjxxofKS",
        "outputId": "529b807f-80d6-4534-86cb-3049456aa78c"
      },
      "execution_count": null,
      "outputs": [
        {
          "output_type": "execute_result",
          "data": {
            "text/plain": [
              "                                                   link  \\\n",
              "404   https://www.huffpost.com/entry/election-2024-t...   \n",
              "1051  https://www.huffpost.com/entry/ketanji-brown-j...   \n",
              "1903  https://www.huffpost.com/entry/cyber-ninjas-ar...   \n",
              "317   https://www.huffpost.com/entry/democrats-recon...   \n",
              "662   https://www.huffpost.com/entry/donald-trump-tw...   \n",
              "\n",
              "                                               headline  \\\n",
              "404   How A Crowded GOP Field Could Bolster A Trump ...   \n",
              "1051  Top Law Enforcement Officials Back Judge Ketan...   \n",
              "1903  'Laughable' Cyber Ninjas' Arizona Recount Miss...   \n",
              "317   Democrats' Reconciliation Package The 'Biggest...   \n",
              "662                     Donald Trump Is Back On Twitter   \n",
              "\n",
              "                                      short_description  \\\n",
              "404   As Donald Trump considers another White House ...   \n",
              "1051  Jackson has also been praised by defense attor...   \n",
              "1903  The election auditors missed 16,000 votes in a...   \n",
              "317   The deal Democrats struck late Thursday includ...   \n",
              "662   The former president's Truth Social messages a...   \n",
              "\n",
              "                                           full_article  \\\n",
              "404   How A Crowded GOP Field Could Bolster A Trump ...   \n",
              "1051  Top Law Enforcement Officials Back Judge Ketan...   \n",
              "1903  'Laughable' Cyber Ninjas' Arizona Recount Miss...   \n",
              "317   Democrats' Reconciliation Package The 'Biggest...   \n",
              "662   Donald Trump Is Back On Twitter The former pre...   \n",
              "\n",
              "                                    full_article_tokens  news_len  \n",
              "404   [crowded, gop, field, could, bolster, trump, c...       175  \n",
              "1051  [top, law, enforcement, official, back, judge,...       147  \n",
              "1903  [cyber, ninja, arizona, recount, missed, vote,...       237  \n",
              "317   [democrat, reconciliation, package, climate, a...       236  \n",
              "662   [donald, trump, back, twitter, former, preside...       157  "
            ],
            "text/html": [
              "\n",
              "  <div id=\"df-aecc1704-8aec-438a-b3e9-1e67bae9d476\" class=\"colab-df-container\">\n",
              "    <div>\n",
              "<style scoped>\n",
              "    .dataframe tbody tr th:only-of-type {\n",
              "        vertical-align: middle;\n",
              "    }\n",
              "\n",
              "    .dataframe tbody tr th {\n",
              "        vertical-align: top;\n",
              "    }\n",
              "\n",
              "    .dataframe thead th {\n",
              "        text-align: right;\n",
              "    }\n",
              "</style>\n",
              "<table border=\"1\" class=\"dataframe\">\n",
              "  <thead>\n",
              "    <tr style=\"text-align: right;\">\n",
              "      <th></th>\n",
              "      <th>link</th>\n",
              "      <th>headline</th>\n",
              "      <th>short_description</th>\n",
              "      <th>full_article</th>\n",
              "      <th>full_article_tokens</th>\n",
              "      <th>news_len</th>\n",
              "    </tr>\n",
              "  </thead>\n",
              "  <tbody>\n",
              "    <tr>\n",
              "      <th>404</th>\n",
              "      <td>https://www.huffpost.com/entry/election-2024-t...</td>\n",
              "      <td>How A Crowded GOP Field Could Bolster A Trump ...</td>\n",
              "      <td>As Donald Trump considers another White House ...</td>\n",
              "      <td>How A Crowded GOP Field Could Bolster A Trump ...</td>\n",
              "      <td>[crowded, gop, field, could, bolster, trump, c...</td>\n",
              "      <td>175</td>\n",
              "    </tr>\n",
              "    <tr>\n",
              "      <th>1051</th>\n",
              "      <td>https://www.huffpost.com/entry/ketanji-brown-j...</td>\n",
              "      <td>Top Law Enforcement Officials Back Judge Ketan...</td>\n",
              "      <td>Jackson has also been praised by defense attor...</td>\n",
              "      <td>Top Law Enforcement Officials Back Judge Ketan...</td>\n",
              "      <td>[top, law, enforcement, official, back, judge,...</td>\n",
              "      <td>147</td>\n",
              "    </tr>\n",
              "    <tr>\n",
              "      <th>1903</th>\n",
              "      <td>https://www.huffpost.com/entry/cyber-ninjas-ar...</td>\n",
              "      <td>'Laughable' Cyber Ninjas' Arizona Recount Miss...</td>\n",
              "      <td>The election auditors missed 16,000 votes in a...</td>\n",
              "      <td>'Laughable' Cyber Ninjas' Arizona Recount Miss...</td>\n",
              "      <td>[cyber, ninja, arizona, recount, missed, vote,...</td>\n",
              "      <td>237</td>\n",
              "    </tr>\n",
              "    <tr>\n",
              "      <th>317</th>\n",
              "      <td>https://www.huffpost.com/entry/democrats-recon...</td>\n",
              "      <td>Democrats' Reconciliation Package The 'Biggest...</td>\n",
              "      <td>The deal Democrats struck late Thursday includ...</td>\n",
              "      <td>Democrats' Reconciliation Package The 'Biggest...</td>\n",
              "      <td>[democrat, reconciliation, package, climate, a...</td>\n",
              "      <td>236</td>\n",
              "    </tr>\n",
              "    <tr>\n",
              "      <th>662</th>\n",
              "      <td>https://www.huffpost.com/entry/donald-trump-tw...</td>\n",
              "      <td>Donald Trump Is Back On Twitter</td>\n",
              "      <td>The former president's Truth Social messages a...</td>\n",
              "      <td>Donald Trump Is Back On Twitter The former pre...</td>\n",
              "      <td>[donald, trump, back, twitter, former, preside...</td>\n",
              "      <td>157</td>\n",
              "    </tr>\n",
              "  </tbody>\n",
              "</table>\n",
              "</div>\n",
              "    <div class=\"colab-df-buttons\">\n",
              "\n",
              "  <div class=\"colab-df-container\">\n",
              "    <button class=\"colab-df-convert\" onclick=\"convertToInteractive('df-aecc1704-8aec-438a-b3e9-1e67bae9d476')\"\n",
              "            title=\"Convert this dataframe to an interactive table.\"\n",
              "            style=\"display:none;\">\n",
              "\n",
              "  <svg xmlns=\"http://www.w3.org/2000/svg\" height=\"24px\" viewBox=\"0 -960 960 960\">\n",
              "    <path d=\"M120-120v-720h720v720H120Zm60-500h600v-160H180v160Zm220 220h160v-160H400v160Zm0 220h160v-160H400v160ZM180-400h160v-160H180v160Zm440 0h160v-160H620v160ZM180-180h160v-160H180v160Zm440 0h160v-160H620v160Z\"/>\n",
              "  </svg>\n",
              "    </button>\n",
              "\n",
              "  <style>\n",
              "    .colab-df-container {\n",
              "      display:flex;\n",
              "      gap: 12px;\n",
              "    }\n",
              "\n",
              "    .colab-df-convert {\n",
              "      background-color: #E8F0FE;\n",
              "      border: none;\n",
              "      border-radius: 50%;\n",
              "      cursor: pointer;\n",
              "      display: none;\n",
              "      fill: #1967D2;\n",
              "      height: 32px;\n",
              "      padding: 0 0 0 0;\n",
              "      width: 32px;\n",
              "    }\n",
              "\n",
              "    .colab-df-convert:hover {\n",
              "      background-color: #E2EBFA;\n",
              "      box-shadow: 0px 1px 2px rgba(60, 64, 67, 0.3), 0px 1px 3px 1px rgba(60, 64, 67, 0.15);\n",
              "      fill: #174EA6;\n",
              "    }\n",
              "\n",
              "    .colab-df-buttons div {\n",
              "      margin-bottom: 4px;\n",
              "    }\n",
              "\n",
              "    [theme=dark] .colab-df-convert {\n",
              "      background-color: #3B4455;\n",
              "      fill: #D2E3FC;\n",
              "    }\n",
              "\n",
              "    [theme=dark] .colab-df-convert:hover {\n",
              "      background-color: #434B5C;\n",
              "      box-shadow: 0px 1px 3px 1px rgba(0, 0, 0, 0.15);\n",
              "      filter: drop-shadow(0px 1px 2px rgba(0, 0, 0, 0.3));\n",
              "      fill: #FFFFFF;\n",
              "    }\n",
              "  </style>\n",
              "\n",
              "    <script>\n",
              "      const buttonEl =\n",
              "        document.querySelector('#df-aecc1704-8aec-438a-b3e9-1e67bae9d476 button.colab-df-convert');\n",
              "      buttonEl.style.display =\n",
              "        google.colab.kernel.accessAllowed ? 'block' : 'none';\n",
              "\n",
              "      async function convertToInteractive(key) {\n",
              "        const element = document.querySelector('#df-aecc1704-8aec-438a-b3e9-1e67bae9d476');\n",
              "        const dataTable =\n",
              "          await google.colab.kernel.invokeFunction('convertToInteractive',\n",
              "                                                    [key], {});\n",
              "        if (!dataTable) return;\n",
              "\n",
              "        const docLinkHtml = 'Like what you see? Visit the ' +\n",
              "          '<a target=\"_blank\" href=https://colab.research.google.com/notebooks/data_table.ipynb>data table notebook</a>'\n",
              "          + ' to learn more about interactive tables.';\n",
              "        element.innerHTML = '';\n",
              "        dataTable['output_type'] = 'display_data';\n",
              "        await google.colab.output.renderOutput(dataTable, element);\n",
              "        const docLink = document.createElement('div');\n",
              "        docLink.innerHTML = docLinkHtml;\n",
              "        element.appendChild(docLink);\n",
              "      }\n",
              "    </script>\n",
              "  </div>\n",
              "\n",
              "\n",
              "<div id=\"df-585a172b-c6f7-4b87-9237-2ebe651de428\">\n",
              "  <button class=\"colab-df-quickchart\" onclick=\"quickchart('df-585a172b-c6f7-4b87-9237-2ebe651de428')\"\n",
              "            title=\"Suggest charts\"\n",
              "            style=\"display:none;\">\n",
              "\n",
              "<svg xmlns=\"http://www.w3.org/2000/svg\" height=\"24px\"viewBox=\"0 0 24 24\"\n",
              "     width=\"24px\">\n",
              "    <g>\n",
              "        <path d=\"M19 3H5c-1.1 0-2 .9-2 2v14c0 1.1.9 2 2 2h14c1.1 0 2-.9 2-2V5c0-1.1-.9-2-2-2zM9 17H7v-7h2v7zm4 0h-2V7h2v10zm4 0h-2v-4h2v4z\"/>\n",
              "    </g>\n",
              "</svg>\n",
              "  </button>\n",
              "\n",
              "<style>\n",
              "  .colab-df-quickchart {\n",
              "      --bg-color: #E8F0FE;\n",
              "      --fill-color: #1967D2;\n",
              "      --hover-bg-color: #E2EBFA;\n",
              "      --hover-fill-color: #174EA6;\n",
              "      --disabled-fill-color: #AAA;\n",
              "      --disabled-bg-color: #DDD;\n",
              "  }\n",
              "\n",
              "  [theme=dark] .colab-df-quickchart {\n",
              "      --bg-color: #3B4455;\n",
              "      --fill-color: #D2E3FC;\n",
              "      --hover-bg-color: #434B5C;\n",
              "      --hover-fill-color: #FFFFFF;\n",
              "      --disabled-bg-color: #3B4455;\n",
              "      --disabled-fill-color: #666;\n",
              "  }\n",
              "\n",
              "  .colab-df-quickchart {\n",
              "    background-color: var(--bg-color);\n",
              "    border: none;\n",
              "    border-radius: 50%;\n",
              "    cursor: pointer;\n",
              "    display: none;\n",
              "    fill: var(--fill-color);\n",
              "    height: 32px;\n",
              "    padding: 0;\n",
              "    width: 32px;\n",
              "  }\n",
              "\n",
              "  .colab-df-quickchart:hover {\n",
              "    background-color: var(--hover-bg-color);\n",
              "    box-shadow: 0 1px 2px rgba(60, 64, 67, 0.3), 0 1px 3px 1px rgba(60, 64, 67, 0.15);\n",
              "    fill: var(--button-hover-fill-color);\n",
              "  }\n",
              "\n",
              "  .colab-df-quickchart-complete:disabled,\n",
              "  .colab-df-quickchart-complete:disabled:hover {\n",
              "    background-color: var(--disabled-bg-color);\n",
              "    fill: var(--disabled-fill-color);\n",
              "    box-shadow: none;\n",
              "  }\n",
              "\n",
              "  .colab-df-spinner {\n",
              "    border: 2px solid var(--fill-color);\n",
              "    border-color: transparent;\n",
              "    border-bottom-color: var(--fill-color);\n",
              "    animation:\n",
              "      spin 1s steps(1) infinite;\n",
              "  }\n",
              "\n",
              "  @keyframes spin {\n",
              "    0% {\n",
              "      border-color: transparent;\n",
              "      border-bottom-color: var(--fill-color);\n",
              "      border-left-color: var(--fill-color);\n",
              "    }\n",
              "    20% {\n",
              "      border-color: transparent;\n",
              "      border-left-color: var(--fill-color);\n",
              "      border-top-color: var(--fill-color);\n",
              "    }\n",
              "    30% {\n",
              "      border-color: transparent;\n",
              "      border-left-color: var(--fill-color);\n",
              "      border-top-color: var(--fill-color);\n",
              "      border-right-color: var(--fill-color);\n",
              "    }\n",
              "    40% {\n",
              "      border-color: transparent;\n",
              "      border-right-color: var(--fill-color);\n",
              "      border-top-color: var(--fill-color);\n",
              "    }\n",
              "    60% {\n",
              "      border-color: transparent;\n",
              "      border-right-color: var(--fill-color);\n",
              "    }\n",
              "    80% {\n",
              "      border-color: transparent;\n",
              "      border-right-color: var(--fill-color);\n",
              "      border-bottom-color: var(--fill-color);\n",
              "    }\n",
              "    90% {\n",
              "      border-color: transparent;\n",
              "      border-bottom-color: var(--fill-color);\n",
              "    }\n",
              "  }\n",
              "</style>\n",
              "\n",
              "  <script>\n",
              "    async function quickchart(key) {\n",
              "      const quickchartButtonEl =\n",
              "        document.querySelector('#' + key + ' button');\n",
              "      quickchartButtonEl.disabled = true;  // To prevent multiple clicks.\n",
              "      quickchartButtonEl.classList.add('colab-df-spinner');\n",
              "      try {\n",
              "        const charts = await google.colab.kernel.invokeFunction(\n",
              "            'suggestCharts', [key], {});\n",
              "      } catch (error) {\n",
              "        console.error('Error during call to suggestCharts:', error);\n",
              "      }\n",
              "      quickchartButtonEl.classList.remove('colab-df-spinner');\n",
              "      quickchartButtonEl.classList.add('colab-df-quickchart-complete');\n",
              "    }\n",
              "    (() => {\n",
              "      let quickchartButtonEl =\n",
              "        document.querySelector('#df-585a172b-c6f7-4b87-9237-2ebe651de428 button');\n",
              "      quickchartButtonEl.style.display =\n",
              "        google.colab.kernel.accessAllowed ? 'block' : 'none';\n",
              "    })();\n",
              "  </script>\n",
              "</div>\n",
              "    </div>\n",
              "  </div>\n"
            ],
            "application/vnd.google.colaboratory.intrinsic+json": {
              "type": "dataframe",
              "variable_name": "X",
              "summary": "{\n  \"name\": \"X\",\n  \"rows\": 1000,\n  \"fields\": [\n    {\n      \"column\": \"link\",\n      \"properties\": {\n        \"dtype\": \"string\",\n        \"num_unique_values\": 1000,\n        \"samples\": [\n          \"https://www.huffpost.com/entry/bc-us-racial-injustice-protests-texas_n_620f7f0ce4b08ee35ee0e754\",\n          \"https://www.huffpost.com/entry/lincoln-college-illinois-closing_n_627a3db6e4b0b7c8f0894389\",\n          \"https://www.huffpost.com/entry/justice-department-charges-jacob-blake-police-officer_n_6160a8a3e4b0fc312c973d17\"\n        ],\n        \"semantic_type\": \"\",\n        \"description\": \"\"\n      }\n    },\n    {\n      \"column\": \"headline\",\n      \"properties\": {\n        \"dtype\": \"string\",\n        \"num_unique_values\": 1000,\n        \"samples\": [\n          \"19 Austin Police Officers Reportedly Indicted Over Racial Injustice Protests\",\n          \"Lincoln College, Battered By COVID And Cyberattack, To Close This Week\",\n          \"Justice Department Won't Pursue Charges Against Cop Who Shot Jacob Blake\"\n        ],\n        \"semantic_type\": \"\",\n        \"description\": \"\"\n      }\n    },\n    {\n      \"column\": \"short_description\",\n      \"properties\": {\n        \"dtype\": \"string\",\n        \"num_unique_values\": 1000,\n        \"samples\": [\n          \"The officers face charges of aggravated assault with a deadly weapon for their actions during the protests after the killing of George Floyd, sources said.\",\n          \"The 157-year-old college in Illinois said a \\\"miracle donation\\\" failed to arrive.\",\n          \"The shooting left Blake paralyzed from the waist down and sparked several nights of protests.\"\n        ],\n        \"semantic_type\": \"\",\n        \"description\": \"\"\n      }\n    },\n    {\n      \"column\": \"full_article\",\n      \"properties\": {\n        \"dtype\": \"string\",\n        \"num_unique_values\": 1000,\n        \"samples\": [\n          \"19 Austin Police Officers Reportedly Indicted Over Racial Injustice Protests The officers face charges of aggravated assault with a deadly weapon for their actions during the protests after the killing of George Floyd, sources said.\",\n          \"Lincoln College, Battered By COVID And Cyberattack, To Close This Week The 157-year-old college in Illinois said a \\\"miracle donation\\\" failed to arrive.\",\n          \"Justice Department Won't Pursue Charges Against Cop Who Shot Jacob Blake The shooting left Blake paralyzed from the waist down and sparked several nights of protests.\"\n        ],\n        \"semantic_type\": \"\",\n        \"description\": \"\"\n      }\n    },\n    {\n      \"column\": \"full_article_tokens\",\n      \"properties\": {\n        \"dtype\": \"object\",\n        \"semantic_type\": \"\",\n        \"description\": \"\"\n      }\n    },\n    {\n      \"column\": \"news_len\",\n      \"properties\": {\n        \"dtype\": \"number\",\n        \"std\": 33,\n        \"min\": 78,\n        \"max\": 313,\n        \"num_unique_values\": 157,\n        \"samples\": [\n          150,\n          193,\n          171\n        ],\n        \"semantic_type\": \"\",\n        \"description\": \"\"\n      }\n    }\n  ]\n}"
            }
          },
          "metadata": {},
          "execution_count": 86
        }
      ]
    },
    {
      "cell_type": "code",
      "source": [
        "y = balanced_data['category']"
      ],
      "metadata": {
        "id": "IBc0FOi2okvW"
      },
      "execution_count": null,
      "outputs": []
    },
    {
      "cell_type": "code",
      "source": [
        "X_train_plus_valid, X_test, y_train_plus_valid, y_test = train_test_split(X, y, random_state=1, test_size = 0.30, train_size = 0.7, stratify=y)\n",
        "X_train, X_valid, y_train, y_valid = train_test_split(X_train_plus_valid, y_train_plus_valid, random_state=1, test_size = 0.3, train_size = 0.7, stratify=y_train_plus_valid)"
      ],
      "metadata": {
        "id": "pbCb5gLEopqz"
      },
      "execution_count": null,
      "outputs": []
    },
    {
      "cell_type": "code",
      "source": [
        "print(X_train.shape)\n",
        "print(X_valid.shape)\n",
        "print(X_test.shape)"
      ],
      "metadata": {
        "colab": {
          "base_uri": "https://localhost:8080/"
        },
        "id": "GLGfkfGBwUd-",
        "outputId": "0f341ff4-ed1b-4ea9-8d5d-f44b6a2fe3c7"
      },
      "execution_count": null,
      "outputs": [
        {
          "output_type": "stream",
          "name": "stdout",
          "text": [
            "(489, 6)\n",
            "(210, 6)\n",
            "(300, 6)\n"
          ]
        }
      ]
    },
    {
      "cell_type": "code",
      "source": [
        "print(y_train.shape)\n",
        "print(y_valid.shape)\n",
        "print(y_test.shape)"
      ],
      "metadata": {
        "colab": {
          "base_uri": "https://localhost:8080/"
        },
        "id": "vZfsnvGHxWKJ",
        "outputId": "a996df3c-e477-4f48-899d-72b3f820f544"
      },
      "execution_count": null,
      "outputs": [
        {
          "output_type": "stream",
          "name": "stdout",
          "text": [
            "(489,)\n",
            "(210,)\n",
            "(300,)\n"
          ]
        }
      ]
    },
    {
      "cell_type": "code",
      "source": [
        "vectorizer = CountVectorizer(max_features = 1000)"
      ],
      "metadata": {
        "id": "0ithwZSKEY5d"
      },
      "execution_count": null,
      "outputs": []
    },
    {
      "cell_type": "code",
      "source": [
        "X_train_vectorized = vectorizer.fit_transform(X_train_plus_valid['full_article_tokens'].apply(lambda x: ' '.join(x)))\n",
        "X_test_vectorized = vectorizer.transform(X_test['full_article_tokens'].apply(lambda x: ' '.join(x)))"
      ],
      "metadata": {
        "id": "L8Vi0_QQpyqL"
      },
      "execution_count": null,
      "outputs": []
    },
    {
      "cell_type": "code",
      "source": [
        "def classify_text(clf, doc, labels=None):\n",
        "  probas = clf.predict_proba([doc]).flatten()\n",
        "  max_proba_idx = np.argmax(probas)\n",
        "\n",
        "  if labels:\n",
        "    most_proba_class = labels[max_proba_idx]\n",
        "  else:\n",
        "    most_proba_class = max_proba_idx\n",
        "\n",
        "  return (most_proba_class, probas[max_proba_idx])"
      ],
      "metadata": {
        "id": "rP4Fara8znDg"
      },
      "execution_count": null,
      "outputs": []
    },
    {
      "cell_type": "code",
      "source": [
        "# Train a dummy classifier which guesses the category randomly.\n",
        "dummy_clf_1 = DummyClassifier(strategy=\"uniform\")\n",
        "dummy_clf_1.fit(X_train_vectorized, y_train_plus_valid)\n"
      ],
      "metadata": {
        "colab": {
          "base_uri": "https://localhost:8080/",
          "height": 75
        },
        "id": "fOR_ho_z7uHW",
        "outputId": "dbac396b-8977-492f-a858-d2d5b8e139e3"
      },
      "execution_count": null,
      "outputs": [
        {
          "output_type": "execute_result",
          "data": {
            "text/plain": [
              "DummyClassifier(strategy='uniform')"
            ],
            "text/html": [
              "<style>#sk-container-id-3 {color: black;background-color: white;}#sk-container-id-3 pre{padding: 0;}#sk-container-id-3 div.sk-toggleable {background-color: white;}#sk-container-id-3 label.sk-toggleable__label {cursor: pointer;display: block;width: 100%;margin-bottom: 0;padding: 0.3em;box-sizing: border-box;text-align: center;}#sk-container-id-3 label.sk-toggleable__label-arrow:before {content: \"▸\";float: left;margin-right: 0.25em;color: #696969;}#sk-container-id-3 label.sk-toggleable__label-arrow:hover:before {color: black;}#sk-container-id-3 div.sk-estimator:hover label.sk-toggleable__label-arrow:before {color: black;}#sk-container-id-3 div.sk-toggleable__content {max-height: 0;max-width: 0;overflow: hidden;text-align: left;background-color: #f0f8ff;}#sk-container-id-3 div.sk-toggleable__content pre {margin: 0.2em;color: black;border-radius: 0.25em;background-color: #f0f8ff;}#sk-container-id-3 input.sk-toggleable__control:checked~div.sk-toggleable__content {max-height: 200px;max-width: 100%;overflow: auto;}#sk-container-id-3 input.sk-toggleable__control:checked~label.sk-toggleable__label-arrow:before {content: \"▾\";}#sk-container-id-3 div.sk-estimator input.sk-toggleable__control:checked~label.sk-toggleable__label {background-color: #d4ebff;}#sk-container-id-3 div.sk-label input.sk-toggleable__control:checked~label.sk-toggleable__label {background-color: #d4ebff;}#sk-container-id-3 input.sk-hidden--visually {border: 0;clip: rect(1px 1px 1px 1px);clip: rect(1px, 1px, 1px, 1px);height: 1px;margin: -1px;overflow: hidden;padding: 0;position: absolute;width: 1px;}#sk-container-id-3 div.sk-estimator {font-family: monospace;background-color: #f0f8ff;border: 1px dotted black;border-radius: 0.25em;box-sizing: border-box;margin-bottom: 0.5em;}#sk-container-id-3 div.sk-estimator:hover {background-color: #d4ebff;}#sk-container-id-3 div.sk-parallel-item::after {content: \"\";width: 100%;border-bottom: 1px solid gray;flex-grow: 1;}#sk-container-id-3 div.sk-label:hover label.sk-toggleable__label {background-color: #d4ebff;}#sk-container-id-3 div.sk-serial::before {content: \"\";position: absolute;border-left: 1px solid gray;box-sizing: border-box;top: 0;bottom: 0;left: 50%;z-index: 0;}#sk-container-id-3 div.sk-serial {display: flex;flex-direction: column;align-items: center;background-color: white;padding-right: 0.2em;padding-left: 0.2em;position: relative;}#sk-container-id-3 div.sk-item {position: relative;z-index: 1;}#sk-container-id-3 div.sk-parallel {display: flex;align-items: stretch;justify-content: center;background-color: white;position: relative;}#sk-container-id-3 div.sk-item::before, #sk-container-id-3 div.sk-parallel-item::before {content: \"\";position: absolute;border-left: 1px solid gray;box-sizing: border-box;top: 0;bottom: 0;left: 50%;z-index: -1;}#sk-container-id-3 div.sk-parallel-item {display: flex;flex-direction: column;z-index: 1;position: relative;background-color: white;}#sk-container-id-3 div.sk-parallel-item:first-child::after {align-self: flex-end;width: 50%;}#sk-container-id-3 div.sk-parallel-item:last-child::after {align-self: flex-start;width: 50%;}#sk-container-id-3 div.sk-parallel-item:only-child::after {width: 0;}#sk-container-id-3 div.sk-dashed-wrapped {border: 1px dashed gray;margin: 0 0.4em 0.5em 0.4em;box-sizing: border-box;padding-bottom: 0.4em;background-color: white;}#sk-container-id-3 div.sk-label label {font-family: monospace;font-weight: bold;display: inline-block;line-height: 1.2em;}#sk-container-id-3 div.sk-label-container {text-align: center;}#sk-container-id-3 div.sk-container {/* jupyter's `normalize.less` sets `[hidden] { display: none; }` but bootstrap.min.css set `[hidden] { display: none !important; }` so we also need the `!important` here to be able to override the default hidden behavior on the sphinx rendered scikit-learn.org. See: https://github.com/scikit-learn/scikit-learn/issues/21755 */display: inline-block !important;position: relative;}#sk-container-id-3 div.sk-text-repr-fallback {display: none;}</style><div id=\"sk-container-id-3\" class=\"sk-top-container\"><div class=\"sk-text-repr-fallback\"><pre>DummyClassifier(strategy=&#x27;uniform&#x27;)</pre><b>In a Jupyter environment, please rerun this cell to show the HTML representation or trust the notebook. <br />On GitHub, the HTML representation is unable to render, please try loading this page with nbviewer.org.</b></div><div class=\"sk-container\" hidden><div class=\"sk-item\"><div class=\"sk-estimator sk-toggleable\"><input class=\"sk-toggleable__control sk-hidden--visually\" id=\"sk-estimator-id-3\" type=\"checkbox\" checked><label for=\"sk-estimator-id-3\" class=\"sk-toggleable__label sk-toggleable__label-arrow\">DummyClassifier</label><div class=\"sk-toggleable__content\"><pre>DummyClassifier(strategy=&#x27;uniform&#x27;)</pre></div></div></div></div></div>"
            ]
          },
          "metadata": {},
          "execution_count": 94
        }
      ]
    },
    {
      "cell_type": "code",
      "source": [
        "# Train a dummy classifier which guesses most frequent category.\n",
        "dummy_clf_2 = DummyClassifier(strategy=\"most_frequent\")\n",
        "dummy_clf_2.fit(X_train_vectorized, y_train_plus_valid)\n"
      ],
      "metadata": {
        "colab": {
          "base_uri": "https://localhost:8080/",
          "height": 75
        },
        "id": "4HbpXLa4DCXe",
        "outputId": "60d95808-aea2-4ea0-a802-341caacad6ff"
      },
      "execution_count": null,
      "outputs": [
        {
          "output_type": "execute_result",
          "data": {
            "text/plain": [
              "DummyClassifier(strategy='most_frequent')"
            ],
            "text/html": [
              "<style>#sk-container-id-4 {color: black;background-color: white;}#sk-container-id-4 pre{padding: 0;}#sk-container-id-4 div.sk-toggleable {background-color: white;}#sk-container-id-4 label.sk-toggleable__label {cursor: pointer;display: block;width: 100%;margin-bottom: 0;padding: 0.3em;box-sizing: border-box;text-align: center;}#sk-container-id-4 label.sk-toggleable__label-arrow:before {content: \"▸\";float: left;margin-right: 0.25em;color: #696969;}#sk-container-id-4 label.sk-toggleable__label-arrow:hover:before {color: black;}#sk-container-id-4 div.sk-estimator:hover label.sk-toggleable__label-arrow:before {color: black;}#sk-container-id-4 div.sk-toggleable__content {max-height: 0;max-width: 0;overflow: hidden;text-align: left;background-color: #f0f8ff;}#sk-container-id-4 div.sk-toggleable__content pre {margin: 0.2em;color: black;border-radius: 0.25em;background-color: #f0f8ff;}#sk-container-id-4 input.sk-toggleable__control:checked~div.sk-toggleable__content {max-height: 200px;max-width: 100%;overflow: auto;}#sk-container-id-4 input.sk-toggleable__control:checked~label.sk-toggleable__label-arrow:before {content: \"▾\";}#sk-container-id-4 div.sk-estimator input.sk-toggleable__control:checked~label.sk-toggleable__label {background-color: #d4ebff;}#sk-container-id-4 div.sk-label input.sk-toggleable__control:checked~label.sk-toggleable__label {background-color: #d4ebff;}#sk-container-id-4 input.sk-hidden--visually {border: 0;clip: rect(1px 1px 1px 1px);clip: rect(1px, 1px, 1px, 1px);height: 1px;margin: -1px;overflow: hidden;padding: 0;position: absolute;width: 1px;}#sk-container-id-4 div.sk-estimator {font-family: monospace;background-color: #f0f8ff;border: 1px dotted black;border-radius: 0.25em;box-sizing: border-box;margin-bottom: 0.5em;}#sk-container-id-4 div.sk-estimator:hover {background-color: #d4ebff;}#sk-container-id-4 div.sk-parallel-item::after {content: \"\";width: 100%;border-bottom: 1px solid gray;flex-grow: 1;}#sk-container-id-4 div.sk-label:hover label.sk-toggleable__label {background-color: #d4ebff;}#sk-container-id-4 div.sk-serial::before {content: \"\";position: absolute;border-left: 1px solid gray;box-sizing: border-box;top: 0;bottom: 0;left: 50%;z-index: 0;}#sk-container-id-4 div.sk-serial {display: flex;flex-direction: column;align-items: center;background-color: white;padding-right: 0.2em;padding-left: 0.2em;position: relative;}#sk-container-id-4 div.sk-item {position: relative;z-index: 1;}#sk-container-id-4 div.sk-parallel {display: flex;align-items: stretch;justify-content: center;background-color: white;position: relative;}#sk-container-id-4 div.sk-item::before, #sk-container-id-4 div.sk-parallel-item::before {content: \"\";position: absolute;border-left: 1px solid gray;box-sizing: border-box;top: 0;bottom: 0;left: 50%;z-index: -1;}#sk-container-id-4 div.sk-parallel-item {display: flex;flex-direction: column;z-index: 1;position: relative;background-color: white;}#sk-container-id-4 div.sk-parallel-item:first-child::after {align-self: flex-end;width: 50%;}#sk-container-id-4 div.sk-parallel-item:last-child::after {align-self: flex-start;width: 50%;}#sk-container-id-4 div.sk-parallel-item:only-child::after {width: 0;}#sk-container-id-4 div.sk-dashed-wrapped {border: 1px dashed gray;margin: 0 0.4em 0.5em 0.4em;box-sizing: border-box;padding-bottom: 0.4em;background-color: white;}#sk-container-id-4 div.sk-label label {font-family: monospace;font-weight: bold;display: inline-block;line-height: 1.2em;}#sk-container-id-4 div.sk-label-container {text-align: center;}#sk-container-id-4 div.sk-container {/* jupyter's `normalize.less` sets `[hidden] { display: none; }` but bootstrap.min.css set `[hidden] { display: none !important; }` so we also need the `!important` here to be able to override the default hidden behavior on the sphinx rendered scikit-learn.org. See: https://github.com/scikit-learn/scikit-learn/issues/21755 */display: inline-block !important;position: relative;}#sk-container-id-4 div.sk-text-repr-fallback {display: none;}</style><div id=\"sk-container-id-4\" class=\"sk-top-container\"><div class=\"sk-text-repr-fallback\"><pre>DummyClassifier(strategy=&#x27;most_frequent&#x27;)</pre><b>In a Jupyter environment, please rerun this cell to show the HTML representation or trust the notebook. <br />On GitHub, the HTML representation is unable to render, please try loading this page with nbviewer.org.</b></div><div class=\"sk-container\" hidden><div class=\"sk-item\"><div class=\"sk-estimator sk-toggleable\"><input class=\"sk-toggleable__control sk-hidden--visually\" id=\"sk-estimator-id-4\" type=\"checkbox\" checked><label for=\"sk-estimator-id-4\" class=\"sk-toggleable__label sk-toggleable__label-arrow\">DummyClassifier</label><div class=\"sk-toggleable__content\"><pre>DummyClassifier(strategy=&#x27;most_frequent&#x27;)</pre></div></div></div></div></div>"
            ]
          },
          "metadata": {},
          "execution_count": 95
        }
      ]
    },
    {
      "cell_type": "code",
      "source": [
        "s = \"government imposed a curfew\"\n",
        "classify_text(dummy_clf_1, s, [\"POLITICS\",\"ENTERTAINMENT\", \"U.S. NEWS\", \"WORLD NEWS \"] )"
      ],
      "metadata": {
        "colab": {
          "base_uri": "https://localhost:8080/"
        },
        "id": "eR8Tg51Y8HM5",
        "outputId": "a582d5e9-4b68-4c70-89db-c0ed9a0b2f7d"
      },
      "execution_count": null,
      "outputs": [
        {
          "output_type": "execute_result",
          "data": {
            "text/plain": [
              "('POLITICS', 0.25)"
            ]
          },
          "metadata": {},
          "execution_count": 96
        }
      ]
    },
    {
      "cell_type": "code",
      "source": [
        "filename = 'dummy_classification_model.pkl'\n",
        "pickle.dump(dummy_clf_1, open(filename, 'wb'), -1)"
      ],
      "metadata": {
        "id": "u-U2kWyRDzfV"
      },
      "execution_count": null,
      "outputs": []
    }
  ]
}